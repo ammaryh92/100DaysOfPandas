{
 "cells": [
  {
   "cell_type": "code",
   "execution_count": 1,
   "id": "ac5850ff",
   "metadata": {},
   "outputs": [],
   "source": [
    "import pandas as pd"
   ]
  },
  {
   "cell_type": "markdown",
   "id": "5a947449",
   "metadata": {},
   "source": [
    "### Loading Data"
   ]
  },
  {
   "cell_type": "code",
   "execution_count": 2,
   "id": "c9e86940",
   "metadata": {},
   "outputs": [],
   "source": [
    "fuel_econ = pd.read_csv('datasets/fuel_econ.csv')"
   ]
  },
  {
   "cell_type": "markdown",
   "id": "fcc41ed1",
   "metadata": {},
   "source": [
    "# Day 1 / 100"
   ]
  },
  {
   "cell_type": "code",
   "execution_count": 3,
   "id": "5df45747",
   "metadata": {},
   "outputs": [],
   "source": [
    "fuel = fuel_econ['fuelType']"
   ]
  },
  {
   "cell_type": "code",
   "execution_count": 4,
   "id": "95d14d2b",
   "metadata": {},
   "outputs": [
    {
     "data": {
      "text/plain": [
       "0       Premium Gasoline\n",
       "1       Premium Gasoline\n",
       "2       Premium Gasoline\n",
       "3       Premium Gasoline\n",
       "4       Regular Gasoline\n",
       "              ...       \n",
       "3924    Regular Gasoline\n",
       "3925    Regular Gasoline\n",
       "3926    Regular Gasoline\n",
       "3927    Premium Gasoline\n",
       "3928    Premium Gasoline\n",
       "Name: fuelType, Length: 3929, dtype: object"
      ]
     },
     "execution_count": 4,
     "metadata": {},
     "output_type": "execute_result"
    }
   ],
   "source": [
    "fuel"
   ]
  },
  {
   "cell_type": "code",
   "execution_count": 5,
   "id": "afb9eac8",
   "metadata": {
    "scrolled": true
   },
   "outputs": [
    {
     "data": {
      "text/plain": [
       "(3929,)"
      ]
     },
     "execution_count": 5,
     "metadata": {},
     "output_type": "execute_result"
    }
   ],
   "source": [
    "fuel.shape"
   ]
  },
  {
   "cell_type": "markdown",
   "id": "ab2f6418",
   "metadata": {},
   "source": [
    "##### Frequency"
   ]
  },
  {
   "cell_type": "code",
   "execution_count": 6,
   "id": "78216573",
   "metadata": {},
   "outputs": [
    {
     "data": {
      "text/plain": [
       "Premium Gasoline     2302\n",
       "Regular Gasoline     1521\n",
       "Diesel                 80\n",
       "Midgrade Gasoline      23\n",
       "Natural Gas             3\n",
       "Name: fuelType, dtype: int64"
      ]
     },
     "execution_count": 6,
     "metadata": {},
     "output_type": "execute_result"
    }
   ],
   "source": [
    "fuel.value_counts()"
   ]
  },
  {
   "cell_type": "markdown",
   "id": "d92fa3b0",
   "metadata": {},
   "source": [
    "##### relative frequency"
   ]
  },
  {
   "cell_type": "code",
   "execution_count": 7,
   "id": "6893be7d",
   "metadata": {},
   "outputs": [
    {
     "data": {
      "text/plain": [
       "Premium Gasoline     0.585900\n",
       "Regular Gasoline     0.387121\n",
       "Diesel               0.020361\n",
       "Midgrade Gasoline    0.005854\n",
       "Natural Gas          0.000764\n",
       "Name: fuelType, dtype: float64"
      ]
     },
     "execution_count": 7,
     "metadata": {},
     "output_type": "execute_result"
    }
   ],
   "source": [
    "fuel.value_counts(normalize=True)"
   ]
  },
  {
   "cell_type": "code",
   "execution_count": 8,
   "id": "fa3273b6",
   "metadata": {},
   "outputs": [
    {
     "data": {
      "text/plain": [
       "Premium Gasoline     0.585900\n",
       "Regular Gasoline     0.387121\n",
       "Diesel               0.020361\n",
       "Midgrade Gasoline    0.005854\n",
       "Natural Gas          0.000764\n",
       "Name: fuelType, dtype: float64"
      ]
     },
     "execution_count": 8,
     "metadata": {},
     "output_type": "execute_result"
    }
   ],
   "source": [
    "fuel.value_counts() / fuel.shape[0]"
   ]
  },
  {
   "cell_type": "code",
   "execution_count": null,
   "id": "5aef6a05",
   "metadata": {},
   "outputs": [],
   "source": []
  }
 ],
 "metadata": {
  "kernelspec": {
   "display_name": "Python 3 (ipykernel)",
   "language": "python",
   "name": "python3"
  },
  "language_info": {
   "codemirror_mode": {
    "name": "ipython",
    "version": 3
   },
   "file_extension": ".py",
   "mimetype": "text/x-python",
   "name": "python",
   "nbconvert_exporter": "python",
   "pygments_lexer": "ipython3",
   "version": "3.8.10"
  }
 },
 "nbformat": 4,
 "nbformat_minor": 5
}
