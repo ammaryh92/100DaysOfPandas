{
 "cells": [
  {
   "cell_type": "code",
   "execution_count": 1,
   "id": "ac5850ff",
   "metadata": {},
   "outputs": [],
   "source": [
    "import pandas as pd\n",
    "import numpy as np"
   ]
  },
  {
   "cell_type": "markdown",
   "id": "5a947449",
   "metadata": {},
   "source": [
    "### Loading Data"
   ]
  },
  {
   "cell_type": "code",
   "execution_count": 2,
   "id": "c9e86940",
   "metadata": {},
   "outputs": [],
   "source": [
    "fuel_econ = pd.read_csv('datasets/fuel_econ.csv')"
   ]
  },
  {
   "cell_type": "code",
   "execution_count": 3,
   "id": "d8589000",
   "metadata": {},
   "outputs": [],
   "source": [
    "pokemon = pd.read_csv('datasets/pokemon.csv')"
   ]
  },
  {
   "cell_type": "markdown",
   "id": "fcc41ed1",
   "metadata": {},
   "source": [
    "# Day 1 / 100"
   ]
  },
  {
   "cell_type": "code",
   "execution_count": 4,
   "id": "5df45747",
   "metadata": {},
   "outputs": [],
   "source": [
    "fuel = fuel_econ['fuelType']"
   ]
  },
  {
   "cell_type": "code",
   "execution_count": 5,
   "id": "95d14d2b",
   "metadata": {},
   "outputs": [
    {
     "data": {
      "text/plain": [
       "0       Premium Gasoline\n",
       "1       Premium Gasoline\n",
       "2       Premium Gasoline\n",
       "3       Premium Gasoline\n",
       "4       Regular Gasoline\n",
       "              ...       \n",
       "3924    Regular Gasoline\n",
       "3925    Regular Gasoline\n",
       "3926    Regular Gasoline\n",
       "3927    Premium Gasoline\n",
       "3928    Premium Gasoline\n",
       "Name: fuelType, Length: 3929, dtype: object"
      ]
     },
     "execution_count": 5,
     "metadata": {},
     "output_type": "execute_result"
    }
   ],
   "source": [
    "fuel"
   ]
  },
  {
   "cell_type": "code",
   "execution_count": 6,
   "id": "afb9eac8",
   "metadata": {
    "scrolled": true
   },
   "outputs": [
    {
     "data": {
      "text/plain": [
       "(3929,)"
      ]
     },
     "execution_count": 6,
     "metadata": {},
     "output_type": "execute_result"
    }
   ],
   "source": [
    "fuel.shape"
   ]
  },
  {
   "cell_type": "markdown",
   "id": "ab2f6418",
   "metadata": {},
   "source": [
    "##### Frequency"
   ]
  },
  {
   "cell_type": "code",
   "execution_count": 7,
   "id": "78216573",
   "metadata": {},
   "outputs": [
    {
     "data": {
      "text/plain": [
       "Premium Gasoline     2302\n",
       "Regular Gasoline     1521\n",
       "Diesel                 80\n",
       "Midgrade Gasoline      23\n",
       "Natural Gas             3\n",
       "Name: fuelType, dtype: int64"
      ]
     },
     "execution_count": 7,
     "metadata": {},
     "output_type": "execute_result"
    }
   ],
   "source": [
    "fuel.value_counts()"
   ]
  },
  {
   "cell_type": "markdown",
   "id": "d92fa3b0",
   "metadata": {},
   "source": [
    "##### relative frequency"
   ]
  },
  {
   "cell_type": "code",
   "execution_count": 8,
   "id": "6893be7d",
   "metadata": {},
   "outputs": [
    {
     "data": {
      "text/plain": [
       "Premium Gasoline     0.585900\n",
       "Regular Gasoline     0.387121\n",
       "Diesel               0.020361\n",
       "Midgrade Gasoline    0.005854\n",
       "Natural Gas          0.000764\n",
       "Name: fuelType, dtype: float64"
      ]
     },
     "execution_count": 8,
     "metadata": {},
     "output_type": "execute_result"
    }
   ],
   "source": [
    "fuel.value_counts(normalize=True)"
   ]
  },
  {
   "cell_type": "code",
   "execution_count": 9,
   "id": "fa3273b6",
   "metadata": {},
   "outputs": [
    {
     "data": {
      "text/plain": [
       "Premium Gasoline     0.585900\n",
       "Regular Gasoline     0.387121\n",
       "Diesel               0.020361\n",
       "Midgrade Gasoline    0.005854\n",
       "Natural Gas          0.000764\n",
       "Name: fuelType, dtype: float64"
      ]
     },
     "execution_count": 9,
     "metadata": {},
     "output_type": "execute_result"
    }
   ],
   "source": [
    "fuel.value_counts() / fuel.shape[0]"
   ]
  },
  {
   "cell_type": "markdown",
   "id": "1e7d1c7b",
   "metadata": {},
   "source": [
    "# Day 2/100"
   ]
  },
  {
   "cell_type": "code",
   "execution_count": 10,
   "id": "6b6ee241",
   "metadata": {},
   "outputs": [],
   "source": [
    "type_2 = pokemon['type_2']"
   ]
  },
  {
   "cell_type": "markdown",
   "id": "51187164",
   "metadata": {},
   "source": [
    "##### The total number of values (including null values) in the Series"
   ]
  },
  {
   "cell_type": "code",
   "execution_count": 11,
   "id": "784ebf61",
   "metadata": {},
   "outputs": [
    {
     "data": {
      "text/plain": [
       "(807,)"
      ]
     },
     "execution_count": 11,
     "metadata": {},
     "output_type": "execute_result"
    }
   ],
   "source": [
    "type_2.shape"
   ]
  },
  {
   "cell_type": "markdown",
   "id": "144c2d64",
   "metadata": {},
   "source": [
    "##### Checking for null values using `hasnans`"
   ]
  },
  {
   "cell_type": "code",
   "execution_count": 12,
   "id": "17de017a",
   "metadata": {},
   "outputs": [
    {
     "data": {
      "text/plain": [
       "True"
      ]
     },
     "execution_count": 12,
     "metadata": {},
     "output_type": "execute_result"
    }
   ],
   "source": [
    "type_2.hasnans"
   ]
  },
  {
   "cell_type": "markdown",
   "id": "16e96069",
   "metadata": {},
   "source": [
    "##### Compute the number of null values"
   ]
  },
  {
   "cell_type": "code",
   "execution_count": 13,
   "id": "35a27dfc",
   "metadata": {},
   "outputs": [
    {
     "data": {
      "text/plain": [
       "402"
      ]
     },
     "execution_count": 13,
     "metadata": {},
     "output_type": "execute_result"
    }
   ],
   "source": [
    "(type_2\n",
    "    .isna()\n",
    "    .sum())"
   ]
  },
  {
   "cell_type": "markdown",
   "id": "3ae96f74",
   "metadata": {},
   "source": [
    "##### Compute the percentage of null values"
   ]
  },
  {
   "cell_type": "code",
   "execution_count": 14,
   "id": "81274adf",
   "metadata": {},
   "outputs": [
    {
     "data": {
      "text/plain": [
       "0.49814126394052044"
      ]
     },
     "execution_count": 14,
     "metadata": {},
     "output_type": "execute_result"
    }
   ],
   "source": [
    "(type_2\n",
    "    .isna()\n",
    "    .mean())"
   ]
  },
  {
   "cell_type": "markdown",
   "id": "a2af9192",
   "metadata": {},
   "source": [
    "##### `count` method, `size` property, `len` function"
   ]
  },
  {
   "cell_type": "code",
   "execution_count": 15,
   "id": "60c9ac00",
   "metadata": {},
   "outputs": [
    {
     "data": {
      "text/plain": [
       "(807,)"
      ]
     },
     "execution_count": 15,
     "metadata": {},
     "output_type": "execute_result"
    }
   ],
   "source": [
    "type_2.shape"
   ]
  },
  {
   "cell_type": "code",
   "execution_count": 16,
   "id": "d943fbb1",
   "metadata": {},
   "outputs": [
    {
     "data": {
      "text/plain": [
       "405"
      ]
     },
     "execution_count": 16,
     "metadata": {},
     "output_type": "execute_result"
    }
   ],
   "source": [
    "type_2.count()"
   ]
  },
  {
   "cell_type": "code",
   "execution_count": 17,
   "id": "6c9268b4",
   "metadata": {},
   "outputs": [
    {
     "data": {
      "text/plain": [
       "807"
      ]
     },
     "execution_count": 17,
     "metadata": {},
     "output_type": "execute_result"
    }
   ],
   "source": [
    "type_2.size"
   ]
  },
  {
   "cell_type": "code",
   "execution_count": 18,
   "id": "268cc1a2",
   "metadata": {},
   "outputs": [
    {
     "data": {
      "text/plain": [
       "807"
      ]
     },
     "execution_count": 18,
     "metadata": {},
     "output_type": "execute_result"
    }
   ],
   "source": [
    "len(type_2)"
   ]
  },
  {
   "cell_type": "markdown",
   "id": "f0985c1f",
   "metadata": {},
   "source": [
    "# Day 3/100"
   ]
  },
  {
   "cell_type": "code",
   "execution_count": 19,
   "id": "142a4b4c",
   "metadata": {},
   "outputs": [
    {
     "name": "stdout",
     "output_type": "stream",
     "text": [
      "<class 'pandas.core.frame.DataFrame'>\n",
      "RangeIndex: 3929 entries, 0 to 3928\n",
      "Data columns (total 20 columns):\n",
      " #   Column     Non-Null Count  Dtype  \n",
      "---  ------     --------------  -----  \n",
      " 0   id         3929 non-null   int64  \n",
      " 1   make       3929 non-null   object \n",
      " 2   model      3929 non-null   object \n",
      " 3   year       3929 non-null   int64  \n",
      " 4   VClass     3929 non-null   object \n",
      " 5   drive      3929 non-null   object \n",
      " 6   trans      3929 non-null   object \n",
      " 7   fuelType   3929 non-null   object \n",
      " 8   cylinders  3929 non-null   int64  \n",
      " 9   displ      3929 non-null   float64\n",
      " 10  pv2        3929 non-null   int64  \n",
      " 11  pv4        3929 non-null   int64  \n",
      " 12  city       3929 non-null   float64\n",
      " 13  UCity      3929 non-null   float64\n",
      " 14  highway    3929 non-null   float64\n",
      " 15  UHighway   3929 non-null   float64\n",
      " 16  comb       3929 non-null   float64\n",
      " 17  co2        3929 non-null   int64  \n",
      " 18  feScore    3929 non-null   int64  \n",
      " 19  ghgScore   3929 non-null   int64  \n",
      "dtypes: float64(6), int64(8), object(6)\n",
      "memory usage: 614.0+ KB\n"
     ]
    }
   ],
   "source": [
    "fuel_econ.info()"
   ]
  },
  {
   "cell_type": "code",
   "execution_count": 20,
   "id": "ce337884",
   "metadata": {},
   "outputs": [
    {
     "data": {
      "text/html": [
       "<div>\n",
       "<style scoped>\n",
       "    .dataframe tbody tr th:only-of-type {\n",
       "        vertical-align: middle;\n",
       "    }\n",
       "\n",
       "    .dataframe tbody tr th {\n",
       "        vertical-align: top;\n",
       "    }\n",
       "\n",
       "    .dataframe thead th {\n",
       "        text-align: right;\n",
       "    }\n",
       "</style>\n",
       "<table border=\"1\" class=\"dataframe\">\n",
       "  <thead>\n",
       "    <tr style=\"text-align: right;\">\n",
       "      <th></th>\n",
       "      <th>make</th>\n",
       "      <th>model</th>\n",
       "      <th>VClass</th>\n",
       "      <th>drive</th>\n",
       "      <th>trans</th>\n",
       "      <th>fuelType</th>\n",
       "    </tr>\n",
       "  </thead>\n",
       "  <tbody>\n",
       "    <tr>\n",
       "      <th>0</th>\n",
       "      <td>Nissan</td>\n",
       "      <td>GT-R</td>\n",
       "      <td>Subcompact Cars</td>\n",
       "      <td>All-Wheel Drive</td>\n",
       "      <td>Automatic (AM6)</td>\n",
       "      <td>Premium Gasoline</td>\n",
       "    </tr>\n",
       "    <tr>\n",
       "      <th>1</th>\n",
       "      <td>Volkswagen</td>\n",
       "      <td>CC</td>\n",
       "      <td>Compact Cars</td>\n",
       "      <td>Front-Wheel Drive</td>\n",
       "      <td>Automatic (AM-S6)</td>\n",
       "      <td>Premium Gasoline</td>\n",
       "    </tr>\n",
       "    <tr>\n",
       "      <th>2</th>\n",
       "      <td>Volkswagen</td>\n",
       "      <td>CC</td>\n",
       "      <td>Compact Cars</td>\n",
       "      <td>Front-Wheel Drive</td>\n",
       "      <td>Automatic (S6)</td>\n",
       "      <td>Premium Gasoline</td>\n",
       "    </tr>\n",
       "  </tbody>\n",
       "</table>\n",
       "</div>"
      ],
      "text/plain": [
       "         make model           VClass              drive              trans  \\\n",
       "0      Nissan  GT-R  Subcompact Cars    All-Wheel Drive    Automatic (AM6)   \n",
       "1  Volkswagen    CC     Compact Cars  Front-Wheel Drive  Automatic (AM-S6)   \n",
       "2  Volkswagen    CC     Compact Cars  Front-Wheel Drive     Automatic (S6)   \n",
       "\n",
       "           fuelType  \n",
       "0  Premium Gasoline  \n",
       "1  Premium Gasoline  \n",
       "2  Premium Gasoline  "
      ]
     },
     "execution_count": 20,
     "metadata": {},
     "output_type": "execute_result"
    }
   ],
   "source": [
    "fuel_econ.select_dtypes(include=['object']).head(3)"
   ]
  },
  {
   "cell_type": "code",
   "execution_count": 21,
   "id": "9c781b13",
   "metadata": {},
   "outputs": [
    {
     "data": {
      "text/html": [
       "<div>\n",
       "<style scoped>\n",
       "    .dataframe tbody tr th:only-of-type {\n",
       "        vertical-align: middle;\n",
       "    }\n",
       "\n",
       "    .dataframe tbody tr th {\n",
       "        vertical-align: top;\n",
       "    }\n",
       "\n",
       "    .dataframe thead th {\n",
       "        text-align: right;\n",
       "    }\n",
       "</style>\n",
       "<table border=\"1\" class=\"dataframe\">\n",
       "  <thead>\n",
       "    <tr style=\"text-align: right;\">\n",
       "      <th></th>\n",
       "      <th>displ</th>\n",
       "      <th>city</th>\n",
       "      <th>UCity</th>\n",
       "      <th>highway</th>\n",
       "      <th>UHighway</th>\n",
       "      <th>comb</th>\n",
       "    </tr>\n",
       "  </thead>\n",
       "  <tbody>\n",
       "    <tr>\n",
       "      <th>0</th>\n",
       "      <td>3.8</td>\n",
       "      <td>16.4596</td>\n",
       "      <td>20.2988</td>\n",
       "      <td>22.5568</td>\n",
       "      <td>30.1798</td>\n",
       "      <td>18.7389</td>\n",
       "    </tr>\n",
       "    <tr>\n",
       "      <th>1</th>\n",
       "      <td>2.0</td>\n",
       "      <td>21.8706</td>\n",
       "      <td>26.9770</td>\n",
       "      <td>31.0367</td>\n",
       "      <td>42.4936</td>\n",
       "      <td>25.2227</td>\n",
       "    </tr>\n",
       "    <tr>\n",
       "      <th>2</th>\n",
       "      <td>3.6</td>\n",
       "      <td>17.4935</td>\n",
       "      <td>21.2000</td>\n",
       "      <td>26.5716</td>\n",
       "      <td>35.1000</td>\n",
       "      <td>20.6716</td>\n",
       "    </tr>\n",
       "  </tbody>\n",
       "</table>\n",
       "</div>"
      ],
      "text/plain": [
       "   displ     city    UCity  highway  UHighway     comb\n",
       "0    3.8  16.4596  20.2988  22.5568   30.1798  18.7389\n",
       "1    2.0  21.8706  26.9770  31.0367   42.4936  25.2227\n",
       "2    3.6  17.4935  21.2000  26.5716   35.1000  20.6716"
      ]
     },
     "execution_count": 21,
     "metadata": {},
     "output_type": "execute_result"
    }
   ],
   "source": [
    "fuel_econ.select_dtypes(exclude=['object', 'int64']).head(3)"
   ]
  },
  {
   "cell_type": "markdown",
   "id": "1838ab67",
   "metadata": {},
   "source": [
    "# Day 4/100"
   ]
  },
  {
   "cell_type": "code",
   "execution_count": 22,
   "id": "8cade9ba",
   "metadata": {},
   "outputs": [],
   "source": [
    "pokemon_speed = pokemon['speed']"
   ]
  },
  {
   "cell_type": "code",
   "execution_count": 23,
   "id": "4b2941a8",
   "metadata": {},
   "outputs": [],
   "source": [
    "pokemon_speed_cat = pd.cut(pokemon_speed, bins = [0, 40, 80, 120, 160], include_lowest=True)"
   ]
  },
  {
   "cell_type": "code",
   "execution_count": 24,
   "id": "eebf4d2a",
   "metadata": {
    "scrolled": false
   },
   "outputs": [
    {
     "data": {
      "text/plain": [
       "(40.0, 80.0]      398\n",
       "(80.0, 120.0]     217\n",
       "(-0.001, 40.0]    172\n",
       "(120.0, 160.0]     20\n",
       "Name: speed, dtype: int64"
      ]
     },
     "execution_count": 24,
     "metadata": {},
     "output_type": "execute_result"
    }
   ],
   "source": [
    "pokemon_speed_cat.value_counts()"
   ]
  },
  {
   "cell_type": "code",
   "execution_count": 25,
   "id": "a815e8c3",
   "metadata": {},
   "outputs": [
    {
     "data": {
      "image/png": "[encoded data removed]",
      "text/plain": [
       "<Figure size 432x288 with 1 Axes>"
      ]
     },
     "metadata": {},
     "output_type": "display_data"
    }
   ],
   "source": [
    "pokemon_speed_cat.value_counts().plot.pie();"
   ]
  },
  {
   "cell_type": "code",
   "execution_count": 26,
   "id": "45dba08d",
   "metadata": {},
   "outputs": [
    {
     "data": {
      "text/plain": [
       "6584"
      ]
     },
     "execution_count": 26,
     "metadata": {},
     "output_type": "execute_result"
    }
   ],
   "source": [
    "pokemon_speed.memory_usage(deep=True)"
   ]
  },
  {
   "cell_type": "code",
   "execution_count": 27,
   "id": "656c6914",
   "metadata": {},
   "outputs": [
    {
     "data": {
      "text/plain": [
       "1171"
      ]
     },
     "execution_count": 27,
     "metadata": {},
     "output_type": "execute_result"
    }
   ],
   "source": [
    "pokemon_speed_cat.memory_usage(deep=True)"
   ]
  },
  {
   "cell_type": "code",
   "execution_count": 28,
   "id": "3402e468",
   "metadata": {},
   "outputs": [
    {
     "data": {
      "text/plain": [
       "(40.0, 80.0]      398\n",
       "(80.0, 120.0]     217\n",
       "(-0.001, 40.0]    172\n",
       "(120.0, 160.0]     20\n",
       "Name: speed, dtype: int64"
      ]
     },
     "execution_count": 28,
     "metadata": {},
     "output_type": "execute_result"
    }
   ],
   "source": [
    "pokemon_speed.value_counts(bins= [0, 40, 80, 120, 160])"
   ]
  },
  {
   "cell_type": "code",
   "execution_count": 29,
   "id": "5edb07da",
   "metadata": {},
   "outputs": [
    {
     "data": {
      "image/png": "[encoded data removed]",
      "text/plain": [
       "<Figure size 432x288 with 1 Axes>"
      ]
     },
     "metadata": {},
     "output_type": "display_data"
    }
   ],
   "source": [
    "pokemon_speed.value_counts(bins= [0, 40, 80, 120, 160]).plot.pie();"
   ]
  },
  {
   "cell_type": "markdown",
   "id": "8daa89ca",
   "metadata": {},
   "source": [
    "# Day 5/100"
   ]
  },
  {
   "cell_type": "code",
   "execution_count": 30,
   "id": "04116906",
   "metadata": {},
   "outputs": [],
   "source": [
    "df = pd.DataFrame({'Name':['Alex', 'Michael', 'Roger'],\n",
    "                   'Hobbies': [['Reading', 'Tennis'], ['Chess', 'Reading'], ['Swimming', 'Golf']]})"
   ]
  },
  {
   "cell_type": "code",
   "execution_count": 31,
   "id": "369b7a3f",
   "metadata": {
    "scrolled": true
   },
   "outputs": [
    {
     "data": {
      "text/html": [
       "<div>\n",
       "<style scoped>\n",
       "    .dataframe tbody tr th:only-of-type {\n",
       "        vertical-align: middle;\n",
       "    }\n",
       "\n",
       "    .dataframe tbody tr th {\n",
       "        vertical-align: top;\n",
       "    }\n",
       "\n",
       "    .dataframe thead th {\n",
       "        text-align: right;\n",
       "    }\n",
       "</style>\n",
       "<table border=\"1\" class=\"dataframe\">\n",
       "  <thead>\n",
       "    <tr style=\"text-align: right;\">\n",
       "      <th></th>\n",
       "      <th>Name</th>\n",
       "      <th>Hobbies</th>\n",
       "    </tr>\n",
       "  </thead>\n",
       "  <tbody>\n",
       "    <tr>\n",
       "      <th>0</th>\n",
       "      <td>Alex</td>\n",
       "      <td>[Reading, Tennis]</td>\n",
       "    </tr>\n",
       "    <tr>\n",
       "      <th>1</th>\n",
       "      <td>Michael</td>\n",
       "      <td>[Chess, Reading]</td>\n",
       "    </tr>\n",
       "    <tr>\n",
       "      <th>2</th>\n",
       "      <td>Roger</td>\n",
       "      <td>[Swimming, Golf]</td>\n",
       "    </tr>\n",
       "  </tbody>\n",
       "</table>\n",
       "</div>"
      ],
      "text/plain": [
       "      Name            Hobbies\n",
       "0     Alex  [Reading, Tennis]\n",
       "1  Michael   [Chess, Reading]\n",
       "2    Roger   [Swimming, Golf]"
      ]
     },
     "execution_count": 31,
     "metadata": {},
     "output_type": "execute_result"
    }
   ],
   "source": [
    "df"
   ]
  },
  {
   "cell_type": "code",
   "execution_count": 32,
   "id": "36f99571",
   "metadata": {},
   "outputs": [
    {
     "data": {
      "text/plain": [
       "Name       object\n",
       "Hobbies    object\n",
       "dtype: object"
      ]
     },
     "execution_count": 32,
     "metadata": {},
     "output_type": "execute_result"
    }
   ],
   "source": [
    "df.dtypes"
   ]
  },
  {
   "cell_type": "code",
   "execution_count": 33,
   "id": "5c36dac9",
   "metadata": {},
   "outputs": [],
   "source": [
    "df.Name = df.Name.astype('string')"
   ]
  },
  {
   "cell_type": "code",
   "execution_count": 34,
   "id": "dca44dbd",
   "metadata": {},
   "outputs": [
    {
     "data": {
      "text/plain": [
       "Name       string\n",
       "Hobbies    object\n",
       "dtype: object"
      ]
     },
     "execution_count": 34,
     "metadata": {},
     "output_type": "execute_result"
    }
   ],
   "source": [
    "df.dtypes"
   ]
  },
  {
   "cell_type": "code",
   "execution_count": 35,
   "id": "08c27bf2",
   "metadata": {},
   "outputs": [
    {
     "data": {
      "text/html": [
       "<div>\n",
       "<style scoped>\n",
       "    .dataframe tbody tr th:only-of-type {\n",
       "        vertical-align: middle;\n",
       "    }\n",
       "\n",
       "    .dataframe tbody tr th {\n",
       "        vertical-align: top;\n",
       "    }\n",
       "\n",
       "    .dataframe thead th {\n",
       "        text-align: right;\n",
       "    }\n",
       "</style>\n",
       "<table border=\"1\" class=\"dataframe\">\n",
       "  <thead>\n",
       "    <tr style=\"text-align: right;\">\n",
       "      <th></th>\n",
       "      <th>Name</th>\n",
       "    </tr>\n",
       "  </thead>\n",
       "  <tbody>\n",
       "    <tr>\n",
       "      <th>0</th>\n",
       "      <td>Alex</td>\n",
       "    </tr>\n",
       "    <tr>\n",
       "      <th>1</th>\n",
       "      <td>Michael</td>\n",
       "    </tr>\n",
       "    <tr>\n",
       "      <th>2</th>\n",
       "      <td>Roger</td>\n",
       "    </tr>\n",
       "  </tbody>\n",
       "</table>\n",
       "</div>"
      ],
      "text/plain": [
       "      Name\n",
       "0     Alex\n",
       "1  Michael\n",
       "2    Roger"
      ]
     },
     "execution_count": 35,
     "metadata": {},
     "output_type": "execute_result"
    }
   ],
   "source": [
    "df.select_dtypes('string')"
   ]
  },
  {
   "cell_type": "markdown",
   "id": "88aa68ff",
   "metadata": {},
   "source": [
    "# Day 6/100"
   ]
  },
  {
   "cell_type": "code",
   "execution_count": 36,
   "id": "7b45f47b",
   "metadata": {},
   "outputs": [
    {
     "data": {
      "text/plain": [
       "0    Premium Gasoline\n",
       "1    Premium Gasoline\n",
       "2    Premium Gasoline\n",
       "Name: fuelType, dtype: object"
      ]
     },
     "execution_count": 36,
     "metadata": {},
     "output_type": "execute_result"
    }
   ],
   "source": [
    "fuel.head(3)"
   ]
  },
  {
   "cell_type": "code",
   "execution_count": 37,
   "id": "104438db",
   "metadata": {},
   "outputs": [
    {
     "data": {
      "text/plain": [
       "0    PREMIUM GASOLINE\n",
       "1    PREMIUM GASOLINE\n",
       "2    PREMIUM GASOLINE\n",
       "Name: fuelType, dtype: object"
      ]
     },
     "execution_count": 37,
     "metadata": {},
     "output_type": "execute_result"
    }
   ],
   "source": [
    "# change text to uppercase\n",
    "fuel.str.upper().head(3)"
   ]
  },
  {
   "cell_type": "code",
   "execution_count": 38,
   "id": "8e8c241c",
   "metadata": {},
   "outputs": [
    {
     "data": {
      "text/plain": [
       "0    [Premium, Gasoline]\n",
       "1    [Premium, Gasoline]\n",
       "2    [Premium, Gasoline]\n",
       "Name: fuelType, dtype: object"
      ]
     },
     "execution_count": 38,
     "metadata": {},
     "output_type": "execute_result"
    }
   ],
   "source": [
    "# split the text\n",
    "fuel.str.split(' ').head(3)"
   ]
  },
  {
   "cell_type": "code",
   "execution_count": 39,
   "id": "5d42752b",
   "metadata": {
    "scrolled": true
   },
   "outputs": [
    {
     "data": {
      "text/html": [
       "<div>\n",
       "<style scoped>\n",
       "    .dataframe tbody tr th:only-of-type {\n",
       "        vertical-align: middle;\n",
       "    }\n",
       "\n",
       "    .dataframe tbody tr th {\n",
       "        vertical-align: top;\n",
       "    }\n",
       "\n",
       "    .dataframe thead th {\n",
       "        text-align: right;\n",
       "    }\n",
       "</style>\n",
       "<table border=\"1\" class=\"dataframe\">\n",
       "  <thead>\n",
       "    <tr style=\"text-align: right;\">\n",
       "      <th></th>\n",
       "      <th>0</th>\n",
       "      <th>1</th>\n",
       "    </tr>\n",
       "  </thead>\n",
       "  <tbody>\n",
       "    <tr>\n",
       "      <th>0</th>\n",
       "      <td>Premium</td>\n",
       "      <td>Gasoline</td>\n",
       "    </tr>\n",
       "    <tr>\n",
       "      <th>1</th>\n",
       "      <td>Premium</td>\n",
       "      <td>Gasoline</td>\n",
       "    </tr>\n",
       "    <tr>\n",
       "      <th>2</th>\n",
       "      <td>Premium</td>\n",
       "      <td>Gasoline</td>\n",
       "    </tr>\n",
       "  </tbody>\n",
       "</table>\n",
       "</div>"
      ],
      "text/plain": [
       "         0         1\n",
       "0  Premium  Gasoline\n",
       "1  Premium  Gasoline\n",
       "2  Premium  Gasoline"
      ]
     },
     "execution_count": 39,
     "metadata": {},
     "output_type": "execute_result"
    }
   ],
   "source": [
    "fuel.str.split(' ', expand=True).head(3)"
   ]
  },
  {
   "cell_type": "code",
   "execution_count": 40,
   "id": "d3b7c914",
   "metadata": {
    "scrolled": true
   },
   "outputs": [
    {
     "data": {
      "text/plain": [
       "['capitalize',\n",
       " 'casefold',\n",
       " 'cat',\n",
       " 'center',\n",
       " 'contains',\n",
       " 'count',\n",
       " 'decode',\n",
       " 'encode',\n",
       " 'endswith',\n",
       " 'extract',\n",
       " 'extractall',\n",
       " 'find',\n",
       " 'findall',\n",
       " 'fullmatch',\n",
       " 'get',\n",
       " 'get_dummies',\n",
       " 'index',\n",
       " 'isalnum',\n",
       " 'isalpha',\n",
       " 'isdecimal',\n",
       " 'isdigit',\n",
       " 'islower',\n",
       " 'isnumeric',\n",
       " 'isspace',\n",
       " 'istitle',\n",
       " 'isupper',\n",
       " 'join',\n",
       " 'len',\n",
       " 'ljust',\n",
       " 'lower',\n",
       " 'lstrip',\n",
       " 'match',\n",
       " 'normalize',\n",
       " 'pad',\n",
       " 'partition',\n",
       " 'repeat',\n",
       " 'replace',\n",
       " 'rfind',\n",
       " 'rindex',\n",
       " 'rjust',\n",
       " 'rpartition',\n",
       " 'rsplit',\n",
       " 'rstrip',\n",
       " 'slice',\n",
       " 'slice_replace',\n",
       " 'split',\n",
       " 'startswith',\n",
       " 'strip',\n",
       " 'swapcase',\n",
       " 'title',\n",
       " 'translate',\n",
       " 'upper',\n",
       " 'wrap',\n",
       " 'zfill']"
      ]
     },
     "execution_count": 40,
     "metadata": {},
     "output_type": "execute_result"
    }
   ],
   "source": [
    "str_attributes = [attr for attr in dir(fuel.str) if not attr.startswith('_')]\n",
    "str_attributes"
   ]
  },
  {
   "cell_type": "markdown",
   "id": "b6a7864b",
   "metadata": {},
   "source": [
    "# Day 7/100"
   ]
  },
  {
   "cell_type": "code",
   "execution_count": 41,
   "id": "7046d12b",
   "metadata": {},
   "outputs": [],
   "source": [
    "dates = pd.Series (['2015-01-08',\n",
    "                   '2011-02-09',\n",
    "                   '2018-03-10',\n",
    "                   '2022-04-15',\n",
    "                   '2017-05-22',\n",
    "                   '2016-06-07',\n",
    "                   '2010-08-30',])"
   ]
  },
  {
   "cell_type": "code",
   "execution_count": 42,
   "id": "e6dea937",
   "metadata": {},
   "outputs": [
    {
     "data": {
      "text/plain": [
       "0    2015-01-08\n",
       "1    2011-02-09\n",
       "2    2018-03-10\n",
       "3    2022-04-15\n",
       "4    2017-05-22\n",
       "5    2016-06-07\n",
       "6    2010-08-30\n",
       "dtype: object"
      ]
     },
     "execution_count": 42,
     "metadata": {},
     "output_type": "execute_result"
    }
   ],
   "source": [
    "dates"
   ]
  },
  {
   "cell_type": "code",
   "execution_count": 43,
   "id": "a934f4f6",
   "metadata": {},
   "outputs": [
    {
     "data": {
      "text/plain": [
       "0   2015-01-08\n",
       "1   2011-02-09\n",
       "2   2018-03-10\n",
       "3   2022-04-15\n",
       "4   2017-05-22\n",
       "5   2016-06-07\n",
       "6   2010-08-30\n",
       "dtype: datetime64[ns]"
      ]
     },
     "execution_count": 43,
     "metadata": {},
     "output_type": "execute_result"
    }
   ],
   "source": [
    "dates = pd.to_datetime(dates)\n",
    "dates"
   ]
  },
  {
   "cell_type": "code",
   "execution_count": 44,
   "id": "df265060",
   "metadata": {},
   "outputs": [
    {
     "data": {
      "text/plain": [
       "0     Thursday\n",
       "1    Wednesday\n",
       "2     Saturday\n",
       "3       Friday\n",
       "4       Monday\n",
       "5      Tuesday\n",
       "6       Monday\n",
       "dtype: object"
      ]
     },
     "execution_count": 44,
     "metadata": {},
     "output_type": "execute_result"
    }
   ],
   "source": [
    "# get the day name\n",
    "dates.dt.day_name()"
   ]
  },
  {
   "cell_type": "code",
   "execution_count": 45,
   "id": "ff96d60a",
   "metadata": {},
   "outputs": [
    {
     "data": {
      "text/plain": [
       "0       Jueves\n",
       "1    Miércoles\n",
       "2       Sábado\n",
       "3      Viernes\n",
       "4        Lunes\n",
       "5       Martes\n",
       "6        Lunes\n",
       "dtype: object"
      ]
     },
     "execution_count": 45,
     "metadata": {},
     "output_type": "execute_result"
    }
   ],
   "source": [
    "# get the day name in another language (e.g. Spanish)\n",
    "dates.dt.day_name('es')"
   ]
  },
  {
   "cell_type": "code",
   "execution_count": 46,
   "id": "840bebf1",
   "metadata": {},
   "outputs": [
    {
     "data": {
      "text/plain": [
       "0    15/01/08\n",
       "1    11/02/09\n",
       "2    18/03/10\n",
       "3    22/04/15\n",
       "4    17/05/22\n",
       "5    16/06/07\n",
       "6    10/08/30\n",
       "dtype: object"
      ]
     },
     "execution_count": 46,
     "metadata": {},
     "output_type": "execute_result"
    }
   ],
   "source": [
    "# format the date to your needs\n",
    "dates.dt.strftime(\"%y/%m/%d\")"
   ]
  },
  {
   "cell_type": "markdown",
   "id": "994c0f10",
   "metadata": {},
   "source": [
    "# Day 8/100"
   ]
  },
  {
   "cell_type": "code",
   "execution_count": 47,
   "id": "342b3c57",
   "metadata": {},
   "outputs": [],
   "source": [
    "df = pd.DataFrame({'Name':['Alex', 'Michael', 'Roger'],\n",
    "                   'Hobbies': [['Reading', 'Tennis'], ['Chess', 'Reading'], ['Swimming', 'Golf']]})"
   ]
  },
  {
   "cell_type": "code",
   "execution_count": 48,
   "id": "6b554b82",
   "metadata": {},
   "outputs": [
    {
     "data": {
      "text/html": [
       "<div>\n",
       "<style scoped>\n",
       "    .dataframe tbody tr th:only-of-type {\n",
       "        vertical-align: middle;\n",
       "    }\n",
       "\n",
       "    .dataframe tbody tr th {\n",
       "        vertical-align: top;\n",
       "    }\n",
       "\n",
       "    .dataframe thead th {\n",
       "        text-align: right;\n",
       "    }\n",
       "</style>\n",
       "<table border=\"1\" class=\"dataframe\">\n",
       "  <thead>\n",
       "    <tr style=\"text-align: right;\">\n",
       "      <th></th>\n",
       "      <th>Name</th>\n",
       "      <th>Hobbies</th>\n",
       "    </tr>\n",
       "  </thead>\n",
       "  <tbody>\n",
       "    <tr>\n",
       "      <th>0</th>\n",
       "      <td>Alex</td>\n",
       "      <td>[Reading, Tennis]</td>\n",
       "    </tr>\n",
       "    <tr>\n",
       "      <th>1</th>\n",
       "      <td>Michael</td>\n",
       "      <td>[Chess, Reading]</td>\n",
       "    </tr>\n",
       "    <tr>\n",
       "      <th>2</th>\n",
       "      <td>Roger</td>\n",
       "      <td>[Swimming, Golf]</td>\n",
       "    </tr>\n",
       "  </tbody>\n",
       "</table>\n",
       "</div>"
      ],
      "text/plain": [
       "      Name            Hobbies\n",
       "0     Alex  [Reading, Tennis]\n",
       "1  Michael   [Chess, Reading]\n",
       "2    Roger   [Swimming, Golf]"
      ]
     },
     "execution_count": 48,
     "metadata": {},
     "output_type": "execute_result"
    }
   ],
   "source": [
    "df"
   ]
  },
  {
   "cell_type": "code",
   "execution_count": 49,
   "id": "f84b1651",
   "metadata": {},
   "outputs": [],
   "source": [
    "# square-bracket notation\n",
    "df['Age'] = [22, 29, 24]"
   ]
  },
  {
   "cell_type": "code",
   "execution_count": 50,
   "id": "6cdac769",
   "metadata": {
    "scrolled": false
   },
   "outputs": [
    {
     "data": {
      "text/html": [
       "<div>\n",
       "<style scoped>\n",
       "    .dataframe tbody tr th:only-of-type {\n",
       "        vertical-align: middle;\n",
       "    }\n",
       "\n",
       "    .dataframe tbody tr th {\n",
       "        vertical-align: top;\n",
       "    }\n",
       "\n",
       "    .dataframe thead th {\n",
       "        text-align: right;\n",
       "    }\n",
       "</style>\n",
       "<table border=\"1\" class=\"dataframe\">\n",
       "  <thead>\n",
       "    <tr style=\"text-align: right;\">\n",
       "      <th></th>\n",
       "      <th>Name</th>\n",
       "      <th>Hobbies</th>\n",
       "      <th>Age</th>\n",
       "    </tr>\n",
       "  </thead>\n",
       "  <tbody>\n",
       "    <tr>\n",
       "      <th>0</th>\n",
       "      <td>Alex</td>\n",
       "      <td>[Reading, Tennis]</td>\n",
       "      <td>22</td>\n",
       "    </tr>\n",
       "    <tr>\n",
       "      <th>1</th>\n",
       "      <td>Michael</td>\n",
       "      <td>[Chess, Reading]</td>\n",
       "      <td>29</td>\n",
       "    </tr>\n",
       "    <tr>\n",
       "      <th>2</th>\n",
       "      <td>Roger</td>\n",
       "      <td>[Swimming, Golf]</td>\n",
       "      <td>24</td>\n",
       "    </tr>\n",
       "  </tbody>\n",
       "</table>\n",
       "</div>"
      ],
      "text/plain": [
       "      Name            Hobbies  Age\n",
       "0     Alex  [Reading, Tennis]   22\n",
       "1  Michael   [Chess, Reading]   29\n",
       "2    Roger   [Swimming, Golf]   24"
      ]
     },
     "execution_count": 50,
     "metadata": {},
     "output_type": "execute_result"
    }
   ],
   "source": [
    "df"
   ]
  },
  {
   "cell_type": "markdown",
   "id": "113dfcb3",
   "metadata": {},
   "source": [
    "##### The square-bracket notation modifies the DataFrame in-place."
   ]
  },
  {
   "cell_type": "code",
   "execution_count": 51,
   "id": "6d4caaa3",
   "metadata": {},
   "outputs": [],
   "source": [
    "df = pd.DataFrame({'Name':['Alex', 'Michael', 'Roger'],\n",
    "                   'Hobbies': [['Reading', 'Tennis'], ['Chess', 'Reading'], ['Swimming', 'Golf']]})"
   ]
  },
  {
   "cell_type": "code",
   "execution_count": 52,
   "id": "be9cad4d",
   "metadata": {},
   "outputs": [
    {
     "data": {
      "text/html": [
       "<div>\n",
       "<style scoped>\n",
       "    .dataframe tbody tr th:only-of-type {\n",
       "        vertical-align: middle;\n",
       "    }\n",
       "\n",
       "    .dataframe tbody tr th {\n",
       "        vertical-align: top;\n",
       "    }\n",
       "\n",
       "    .dataframe thead th {\n",
       "        text-align: right;\n",
       "    }\n",
       "</style>\n",
       "<table border=\"1\" class=\"dataframe\">\n",
       "  <thead>\n",
       "    <tr style=\"text-align: right;\">\n",
       "      <th></th>\n",
       "      <th>Name</th>\n",
       "      <th>Hobbies</th>\n",
       "    </tr>\n",
       "  </thead>\n",
       "  <tbody>\n",
       "    <tr>\n",
       "      <th>0</th>\n",
       "      <td>Alex</td>\n",
       "      <td>[Reading, Tennis]</td>\n",
       "    </tr>\n",
       "    <tr>\n",
       "      <th>1</th>\n",
       "      <td>Michael</td>\n",
       "      <td>[Chess, Reading]</td>\n",
       "    </tr>\n",
       "    <tr>\n",
       "      <th>2</th>\n",
       "      <td>Roger</td>\n",
       "      <td>[Swimming, Golf]</td>\n",
       "    </tr>\n",
       "  </tbody>\n",
       "</table>\n",
       "</div>"
      ],
      "text/plain": [
       "      Name            Hobbies\n",
       "0     Alex  [Reading, Tennis]\n",
       "1  Michael   [Chess, Reading]\n",
       "2    Roger   [Swimming, Golf]"
      ]
     },
     "execution_count": 52,
     "metadata": {},
     "output_type": "execute_result"
    }
   ],
   "source": [
    "df"
   ]
  },
  {
   "cell_type": "code",
   "execution_count": 53,
   "id": "43685b8c",
   "metadata": {},
   "outputs": [
    {
     "data": {
      "text/html": [
       "<div>\n",
       "<style scoped>\n",
       "    .dataframe tbody tr th:only-of-type {\n",
       "        vertical-align: middle;\n",
       "    }\n",
       "\n",
       "    .dataframe tbody tr th {\n",
       "        vertical-align: top;\n",
       "    }\n",
       "\n",
       "    .dataframe thead th {\n",
       "        text-align: right;\n",
       "    }\n",
       "</style>\n",
       "<table border=\"1\" class=\"dataframe\">\n",
       "  <thead>\n",
       "    <tr style=\"text-align: right;\">\n",
       "      <th></th>\n",
       "      <th>Name</th>\n",
       "      <th>Hobbies</th>\n",
       "      <th>Age</th>\n",
       "    </tr>\n",
       "  </thead>\n",
       "  <tbody>\n",
       "    <tr>\n",
       "      <th>0</th>\n",
       "      <td>Alex</td>\n",
       "      <td>[Reading, Tennis]</td>\n",
       "      <td>22</td>\n",
       "    </tr>\n",
       "    <tr>\n",
       "      <th>1</th>\n",
       "      <td>Michael</td>\n",
       "      <td>[Chess, Reading]</td>\n",
       "      <td>29</td>\n",
       "    </tr>\n",
       "    <tr>\n",
       "      <th>2</th>\n",
       "      <td>Roger</td>\n",
       "      <td>[Swimming, Golf]</td>\n",
       "      <td>24</td>\n",
       "    </tr>\n",
       "  </tbody>\n",
       "</table>\n",
       "</div>"
      ],
      "text/plain": [
       "      Name            Hobbies  Age\n",
       "0     Alex  [Reading, Tennis]   22\n",
       "1  Michael   [Chess, Reading]   29\n",
       "2    Roger   [Swimming, Golf]   24"
      ]
     },
     "execution_count": 53,
     "metadata": {},
     "output_type": "execute_result"
    }
   ],
   "source": [
    "# assign method\n",
    "new_df = df.assign(Age = [22, 29, 24])\n",
    "new_df"
   ]
  },
  {
   "cell_type": "code",
   "execution_count": 54,
   "id": "467c586a",
   "metadata": {},
   "outputs": [
    {
     "data": {
      "text/html": [
       "<div>\n",
       "<style scoped>\n",
       "    .dataframe tbody tr th:only-of-type {\n",
       "        vertical-align: middle;\n",
       "    }\n",
       "\n",
       "    .dataframe tbody tr th {\n",
       "        vertical-align: top;\n",
       "    }\n",
       "\n",
       "    .dataframe thead th {\n",
       "        text-align: right;\n",
       "    }\n",
       "</style>\n",
       "<table border=\"1\" class=\"dataframe\">\n",
       "  <thead>\n",
       "    <tr style=\"text-align: right;\">\n",
       "      <th></th>\n",
       "      <th>Name</th>\n",
       "      <th>Hobbies</th>\n",
       "    </tr>\n",
       "  </thead>\n",
       "  <tbody>\n",
       "    <tr>\n",
       "      <th>0</th>\n",
       "      <td>Alex</td>\n",
       "      <td>[Reading, Tennis]</td>\n",
       "    </tr>\n",
       "    <tr>\n",
       "      <th>1</th>\n",
       "      <td>Michael</td>\n",
       "      <td>[Chess, Reading]</td>\n",
       "    </tr>\n",
       "    <tr>\n",
       "      <th>2</th>\n",
       "      <td>Roger</td>\n",
       "      <td>[Swimming, Golf]</td>\n",
       "    </tr>\n",
       "  </tbody>\n",
       "</table>\n",
       "</div>"
      ],
      "text/plain": [
       "      Name            Hobbies\n",
       "0     Alex  [Reading, Tennis]\n",
       "1  Michael   [Chess, Reading]\n",
       "2    Roger   [Swimming, Golf]"
      ]
     },
     "execution_count": 54,
     "metadata": {},
     "output_type": "execute_result"
    }
   ],
   "source": [
    "# original DataFrame\n",
    "df"
   ]
  },
  {
   "cell_type": "markdown",
   "id": "9a1bdd52",
   "metadata": {},
   "source": [
    "##### The assign method returns a new DataFrame object without modifiying the original DataFrame"
   ]
  },
  {
   "cell_type": "markdown",
   "id": "bd539cff",
   "metadata": {},
   "source": [
    "# Day 9/100"
   ]
  },
  {
   "cell_type": "markdown",
   "id": "63e632fc",
   "metadata": {},
   "source": [
    "## Map Method - Part 1"
   ]
  },
  {
   "cell_type": "code",
   "execution_count": 55,
   "id": "127075c9",
   "metadata": {},
   "outputs": [
    {
     "data": {
      "text/plain": [
       "0    Jonathan\n",
       "1     Michael\n",
       "2       Roger\n",
       "3     Michael\n",
       "4      Robert\n",
       "5    Jonathan\n",
       "dtype: object"
      ]
     },
     "execution_count": 55,
     "metadata": {},
     "output_type": "execute_result"
    }
   ],
   "source": [
    "names = pd.Series(['Jonathan', 'Michael', 'Roger', 'Michael', 'Robert', 'Jonathan'])\n",
    "names"
   ]
  },
  {
   "cell_type": "markdown",
   "id": "d6aae207",
   "metadata": {},
   "source": [
    "##### `map` with a dictionary"
   ]
  },
  {
   "cell_type": "code",
   "execution_count": 56,
   "id": "a5f8a7a2",
   "metadata": {},
   "outputs": [
    {
     "data": {
      "text/plain": [
       "0    John\n",
       "1    Mike\n",
       "2     NaN\n",
       "3    Mike\n",
       "4     NaN\n",
       "5    John\n",
       "dtype: object"
      ]
     },
     "execution_count": 56,
     "metadata": {},
     "output_type": "execute_result"
    }
   ],
   "source": [
    "names.map({'Michael':'Mike', 'Jonathan':'John'})"
   ]
  },
  {
   "cell_type": "markdown",
   "id": "091f49d8",
   "metadata": {},
   "source": [
    "**Note that values in the Series that are not in the dictionary are converted to NaNs.**"
   ]
  },
  {
   "cell_type": "markdown",
   "id": "f108c465",
   "metadata": {},
   "source": [
    "##### `map` with a Series"
   ]
  },
  {
   "cell_type": "code",
   "execution_count": 57,
   "id": "1d971229",
   "metadata": {},
   "outputs": [
    {
     "data": {
      "text/plain": [
       "0    Jonathan\n",
       "1     Michael\n",
       "2       Roger\n",
       "3     Michael\n",
       "4      Robert\n",
       "5    Jonathan\n",
       "dtype: object"
      ]
     },
     "execution_count": 57,
     "metadata": {},
     "output_type": "execute_result"
    }
   ],
   "source": [
    "names"
   ]
  },
  {
   "cell_type": "code",
   "execution_count": 58,
   "id": "df5a7a0e",
   "metadata": {},
   "outputs": [
    {
     "data": {
      "text/plain": [
       "Michael     Mike\n",
       "Jonathan    John\n",
       "dtype: object"
      ]
     },
     "execution_count": 58,
     "metadata": {},
     "output_type": "execute_result"
    }
   ],
   "source": [
    "ser_map = pd.Series(['Mike', 'John'], index = ['Michael', 'Jonathan'])\n",
    "ser_map"
   ]
  },
  {
   "cell_type": "code",
   "execution_count": 59,
   "id": "4bf24acb",
   "metadata": {},
   "outputs": [
    {
     "data": {
      "text/plain": [
       "0    John\n",
       "1    Mike\n",
       "2     NaN\n",
       "3    Mike\n",
       "4     NaN\n",
       "5    John\n",
       "dtype: object"
      ]
     },
     "execution_count": 59,
     "metadata": {},
     "output_type": "execute_result"
    }
   ],
   "source": [
    "names.map(ser_map)"
   ]
  },
  {
   "cell_type": "markdown",
   "id": "bc67535e",
   "metadata": {},
   "source": [
    "##### `map` with a function"
   ]
  },
  {
   "cell_type": "code",
   "execution_count": 60,
   "id": "2e4f26f4",
   "metadata": {},
   "outputs": [
    {
     "data": {
      "text/plain": [
       "0    8\n",
       "1    7\n",
       "2    5\n",
       "3    7\n",
       "4    6\n",
       "5    8\n",
       "dtype: int64"
      ]
     },
     "execution_count": 60,
     "metadata": {},
     "output_type": "execute_result"
    }
   ],
   "source": [
    "# length of names\n",
    "names.map(len)"
   ]
  },
  {
   "cell_type": "code",
   "execution_count": 61,
   "id": "97e2fbca",
   "metadata": {},
   "outputs": [
    {
     "data": {
      "text/plain": [
       "0    JONATHAN\n",
       "1     MICHAEL\n",
       "2       ROGER\n",
       "3     MICHAEL\n",
       "4      ROBERT\n",
       "5    JONATHAN\n",
       "dtype: object"
      ]
     },
     "execution_count": 61,
     "metadata": {},
     "output_type": "execute_result"
    }
   ],
   "source": [
    "# convert names to uppercase\n",
    "names.map(lambda x : x.upper())"
   ]
  },
  {
   "cell_type": "code",
   "execution_count": 62,
   "id": "527d7c1f",
   "metadata": {},
   "outputs": [
    {
     "data": {
      "text/plain": [
       "0    JONATHAN\n",
       "1     MICHAEL\n",
       "2       ROGER\n",
       "3     MICHAEL\n",
       "4      ROBERT\n",
       "5    JONATHAN\n",
       "dtype: object"
      ]
     },
     "execution_count": 62,
     "metadata": {},
     "output_type": "execute_result"
    }
   ],
   "source": [
    "names.map(str.upper)"
   ]
  },
  {
   "cell_type": "code",
   "execution_count": 63,
   "id": "95393f9b",
   "metadata": {},
   "outputs": [
    {
     "data": {
      "text/plain": [
       "0    My name is Jonathan\n",
       "1     My name is Michael\n",
       "2       My name is Roger\n",
       "3     My name is Michael\n",
       "4      My name is Robert\n",
       "5    My name is Jonathan\n",
       "dtype: object"
      ]
     },
     "execution_count": 63,
     "metadata": {},
     "output_type": "execute_result"
    }
   ],
   "source": [
    "# format\n",
    "names.map('My name is {}'.format)"
   ]
  },
  {
   "cell_type": "markdown",
   "id": "08b6a154",
   "metadata": {},
   "source": [
    "# Day 10/100"
   ]
  },
  {
   "cell_type": "code",
   "execution_count": 64,
   "id": "79ca5934",
   "metadata": {},
   "outputs": [
    {
     "data": {
      "text/plain": [
       "0    Jonathan\n",
       "1         NaN\n",
       "2       Roger\n",
       "3     Michael\n",
       "4      Robert\n",
       "5    Jonathan\n",
       "dtype: object"
      ]
     },
     "execution_count": 64,
     "metadata": {},
     "output_type": "execute_result"
    }
   ],
   "source": [
    "names = pd.Series(['Jonathan', np.nan , 'Roger', 'Michael', 'Robert', 'Jonathan'])\n",
    "names"
   ]
  },
  {
   "cell_type": "code",
   "execution_count": 65,
   "id": "61fa3cea",
   "metadata": {
    "scrolled": true
   },
   "outputs": [
    {
     "data": {
      "text/plain": [
       "0    My name is Jonathan\n",
       "1         My name is nan\n",
       "2       My name is Roger\n",
       "3     My name is Michael\n",
       "4      My name is Robert\n",
       "5    My name is Jonathan\n",
       "dtype: object"
      ]
     },
     "execution_count": 65,
     "metadata": {},
     "output_type": "execute_result"
    }
   ],
   "source": [
    "names.map('My name is {}'.format)"
   ]
  },
  {
   "cell_type": "code",
   "execution_count": 66,
   "id": "82771182",
   "metadata": {},
   "outputs": [
    {
     "name": "stdout",
     "output_type": "stream",
     "text": [
      "descriptor 'upper' for 'str' objects doesn't apply to a 'float' object\n"
     ]
    }
   ],
   "source": [
    "try:\n",
    "    names.map(str.upper)\n",
    "except Exception as e:\n",
    "    print(e)"
   ]
  },
  {
   "cell_type": "code",
   "execution_count": 67,
   "id": "36c4be89",
   "metadata": {},
   "outputs": [
    {
     "data": {
      "text/plain": [
       "0    My name is Jonathan\n",
       "1                    NaN\n",
       "2       My name is Roger\n",
       "3     My name is Michael\n",
       "4      My name is Robert\n",
       "5    My name is Jonathan\n",
       "dtype: object"
      ]
     },
     "execution_count": 67,
     "metadata": {},
     "output_type": "execute_result"
    }
   ],
   "source": [
    "names.map('My name is {}'.format, na_action='ignore')"
   ]
  },
  {
   "cell_type": "code",
   "execution_count": 68,
   "id": "429c6076",
   "metadata": {},
   "outputs": [
    {
     "data": {
      "text/plain": [
       "0    JONATHAN\n",
       "1         NaN\n",
       "2       ROGER\n",
       "3     MICHAEL\n",
       "4      ROBERT\n",
       "5    JONATHAN\n",
       "dtype: object"
      ]
     },
     "execution_count": 68,
     "metadata": {},
     "output_type": "execute_result"
    }
   ],
   "source": [
    "names.map(str.upper, na_action='ignore')"
   ]
  }
 ],
 "metadata": {
  "kernelspec": {
   "display_name": "Python 3 (ipykernel)",
   "language": "python",
   "name": "python3"
  },
  "language_info": {
   "codemirror_mode": {
    "name": "ipython",
    "version": 3
   },
   "file_extension": ".py",
   "mimetype": "text/x-python",
   "name": "python",
   "nbconvert_exporter": "python",
   "pygments_lexer": "ipython3",
   "version": "3.8.10"
  }
 },
 "nbformat": 4,
 "nbformat_minor": 5
}
