{
 "cells": [
  {
   "cell_type": "code",
   "execution_count": 1,
   "id": "ac5850ff",
   "metadata": {},
   "outputs": [],
   "source": [
    "import pandas as pd\n",
    "import numpy as np\n"
   ]
  },
  {
   "cell_type": "markdown",
   "id": "5a947449",
   "metadata": {},
   "source": [
    "### Loading Data"
   ]
  },
  {
   "cell_type": "code",
   "execution_count": 2,
   "id": "c9e86940",
   "metadata": {},
   "outputs": [],
   "source": [
    "fuel_econ = pd.read_csv('datasets/fuel_econ.csv')"
   ]
  },
  {
   "cell_type": "code",
   "execution_count": 3,
   "id": "d8589000",
   "metadata": {},
   "outputs": [],
   "source": [
    "pokemon = pd.read_csv('datasets/pokemon.csv')"
   ]
  },
  {
   "cell_type": "markdown",
   "id": "fcc41ed1",
   "metadata": {},
   "source": [
    "# Day 1 / 100"
   ]
  },
  {
   "cell_type": "code",
   "execution_count": 4,
   "id": "5df45747",
   "metadata": {},
   "outputs": [],
   "source": [
    "fuel = fuel_econ['fuelType']"
   ]
  },
  {
   "cell_type": "code",
   "execution_count": 5,
   "id": "95d14d2b",
   "metadata": {},
   "outputs": [
    {
     "data": {
      "text/plain": [
       "0       Premium Gasoline\n",
       "1       Premium Gasoline\n",
       "2       Premium Gasoline\n",
       "3       Premium Gasoline\n",
       "4       Regular Gasoline\n",
       "              ...       \n",
       "3924    Regular Gasoline\n",
       "3925    Regular Gasoline\n",
       "3926    Regular Gasoline\n",
       "3927    Premium Gasoline\n",
       "3928    Premium Gasoline\n",
       "Name: fuelType, Length: 3929, dtype: object"
      ]
     },
     "execution_count": 5,
     "metadata": {},
     "output_type": "execute_result"
    }
   ],
   "source": [
    "fuel"
   ]
  },
  {
   "cell_type": "code",
   "execution_count": 6,
   "id": "afb9eac8",
   "metadata": {
    "scrolled": true
   },
   "outputs": [
    {
     "data": {
      "text/plain": [
       "(3929,)"
      ]
     },
     "execution_count": 6,
     "metadata": {},
     "output_type": "execute_result"
    }
   ],
   "source": [
    "fuel.shape"
   ]
  },
  {
   "cell_type": "markdown",
   "id": "ab2f6418",
   "metadata": {},
   "source": [
    "##### Frequency"
   ]
  },
  {
   "cell_type": "code",
   "execution_count": 7,
   "id": "78216573",
   "metadata": {},
   "outputs": [
    {
     "data": {
      "text/plain": [
       "Premium Gasoline     2302\n",
       "Regular Gasoline     1521\n",
       "Diesel                 80\n",
       "Midgrade Gasoline      23\n",
       "Natural Gas             3\n",
       "Name: fuelType, dtype: int64"
      ]
     },
     "execution_count": 7,
     "metadata": {},
     "output_type": "execute_result"
    }
   ],
   "source": [
    "fuel.value_counts()"
   ]
  },
  {
   "cell_type": "markdown",
   "id": "d92fa3b0",
   "metadata": {},
   "source": [
    "##### relative frequency"
   ]
  },
  {
   "cell_type": "code",
   "execution_count": 8,
   "id": "6893be7d",
   "metadata": {},
   "outputs": [
    {
     "data": {
      "text/plain": [
       "Premium Gasoline     0.585900\n",
       "Regular Gasoline     0.387121\n",
       "Diesel               0.020361\n",
       "Midgrade Gasoline    0.005854\n",
       "Natural Gas          0.000764\n",
       "Name: fuelType, dtype: float64"
      ]
     },
     "execution_count": 8,
     "metadata": {},
     "output_type": "execute_result"
    }
   ],
   "source": [
    "fuel.value_counts(normalize=True)"
   ]
  },
  {
   "cell_type": "code",
   "execution_count": 9,
   "id": "fa3273b6",
   "metadata": {},
   "outputs": [
    {
     "data": {
      "text/plain": [
       "Premium Gasoline     0.585900\n",
       "Regular Gasoline     0.387121\n",
       "Diesel               0.020361\n",
       "Midgrade Gasoline    0.005854\n",
       "Natural Gas          0.000764\n",
       "Name: fuelType, dtype: float64"
      ]
     },
     "execution_count": 9,
     "metadata": {},
     "output_type": "execute_result"
    }
   ],
   "source": [
    "fuel.value_counts() / fuel.shape[0]"
   ]
  },
  {
   "cell_type": "markdown",
   "id": "1e7d1c7b",
   "metadata": {},
   "source": [
    "# Day 2/100"
   ]
  },
  {
   "cell_type": "code",
   "execution_count": 10,
   "id": "6b6ee241",
   "metadata": {},
   "outputs": [],
   "source": [
    "type_2 = pokemon['type_2']"
   ]
  },
  {
   "cell_type": "markdown",
   "id": "51187164",
   "metadata": {},
   "source": [
    "##### The total number of values (including null values) in the Series"
   ]
  },
  {
   "cell_type": "code",
   "execution_count": 11,
   "id": "784ebf61",
   "metadata": {},
   "outputs": [
    {
     "data": {
      "text/plain": [
       "(807,)"
      ]
     },
     "execution_count": 11,
     "metadata": {},
     "output_type": "execute_result"
    }
   ],
   "source": [
    "type_2.shape"
   ]
  },
  {
   "cell_type": "markdown",
   "id": "144c2d64",
   "metadata": {},
   "source": [
    "##### Checking for null values using `hasnans`"
   ]
  },
  {
   "cell_type": "code",
   "execution_count": 12,
   "id": "17de017a",
   "metadata": {},
   "outputs": [
    {
     "data": {
      "text/plain": [
       "True"
      ]
     },
     "execution_count": 12,
     "metadata": {},
     "output_type": "execute_result"
    }
   ],
   "source": [
    "type_2.hasnans"
   ]
  },
  {
   "cell_type": "markdown",
   "id": "16e96069",
   "metadata": {},
   "source": [
    "##### Compute the number of null values"
   ]
  },
  {
   "cell_type": "code",
   "execution_count": 13,
   "id": "35a27dfc",
   "metadata": {},
   "outputs": [
    {
     "data": {
      "text/plain": [
       "402"
      ]
     },
     "execution_count": 13,
     "metadata": {},
     "output_type": "execute_result"
    }
   ],
   "source": [
    "(type_2\n",
    "    .isna()\n",
    "    .sum())"
   ]
  },
  {
   "cell_type": "markdown",
   "id": "3ae96f74",
   "metadata": {},
   "source": [
    "##### Compute the percentage of null values"
   ]
  },
  {
   "cell_type": "code",
   "execution_count": 14,
   "id": "81274adf",
   "metadata": {},
   "outputs": [
    {
     "data": {
      "text/plain": [
       "0.49814126394052044"
      ]
     },
     "execution_count": 14,
     "metadata": {},
     "output_type": "execute_result"
    }
   ],
   "source": [
    "(type_2\n",
    "    .isna()\n",
    "    .mean())"
   ]
  },
  {
   "cell_type": "markdown",
   "id": "a2af9192",
   "metadata": {},
   "source": [
    "##### `count` method, `size` property, `len` function"
   ]
  },
  {
   "cell_type": "code",
   "execution_count": 15,
   "id": "60c9ac00",
   "metadata": {},
   "outputs": [
    {
     "data": {
      "text/plain": [
       "(807,)"
      ]
     },
     "execution_count": 15,
     "metadata": {},
     "output_type": "execute_result"
    }
   ],
   "source": [
    "type_2.shape"
   ]
  },
  {
   "cell_type": "code",
   "execution_count": 16,
   "id": "d943fbb1",
   "metadata": {},
   "outputs": [
    {
     "data": {
      "text/plain": [
       "405"
      ]
     },
     "execution_count": 16,
     "metadata": {},
     "output_type": "execute_result"
    }
   ],
   "source": [
    "type_2.count()"
   ]
  },
  {
   "cell_type": "code",
   "execution_count": 17,
   "id": "6c9268b4",
   "metadata": {},
   "outputs": [
    {
     "data": {
      "text/plain": [
       "807"
      ]
     },
     "execution_count": 17,
     "metadata": {},
     "output_type": "execute_result"
    }
   ],
   "source": [
    "type_2.size"
   ]
  },
  {
   "cell_type": "code",
   "execution_count": 18,
   "id": "268cc1a2",
   "metadata": {},
   "outputs": [
    {
     "data": {
      "text/plain": [
       "807"
      ]
     },
     "execution_count": 18,
     "metadata": {},
     "output_type": "execute_result"
    }
   ],
   "source": [
    "len(type_2)"
   ]
  },
  {
   "cell_type": "markdown",
   "id": "f0985c1f",
   "metadata": {},
   "source": [
    "# Day 3/100"
   ]
  },
  {
   "cell_type": "code",
   "execution_count": 19,
   "id": "142a4b4c",
   "metadata": {},
   "outputs": [
    {
     "name": "stdout",
     "output_type": "stream",
     "text": [
      "<class 'pandas.core.frame.DataFrame'>\n",
      "RangeIndex: 3929 entries, 0 to 3928\n",
      "Data columns (total 20 columns):\n",
      " #   Column     Non-Null Count  Dtype  \n",
      "---  ------     --------------  -----  \n",
      " 0   id         3929 non-null   int64  \n",
      " 1   make       3929 non-null   object \n",
      " 2   model      3929 non-null   object \n",
      " 3   year       3929 non-null   int64  \n",
      " 4   VClass     3929 non-null   object \n",
      " 5   drive      3929 non-null   object \n",
      " 6   trans      3929 non-null   object \n",
      " 7   fuelType   3929 non-null   object \n",
      " 8   cylinders  3929 non-null   int64  \n",
      " 9   displ      3929 non-null   float64\n",
      " 10  pv2        3929 non-null   int64  \n",
      " 11  pv4        3929 non-null   int64  \n",
      " 12  city       3929 non-null   float64\n",
      " 13  UCity      3929 non-null   float64\n",
      " 14  highway    3929 non-null   float64\n",
      " 15  UHighway   3929 non-null   float64\n",
      " 16  comb       3929 non-null   float64\n",
      " 17  co2        3929 non-null   int64  \n",
      " 18  feScore    3929 non-null   int64  \n",
      " 19  ghgScore   3929 non-null   int64  \n",
      "dtypes: float64(6), int64(8), object(6)\n",
      "memory usage: 614.0+ KB\n"
     ]
    }
   ],
   "source": [
    "fuel_econ.info()"
   ]
  },
  {
   "cell_type": "code",
   "execution_count": 20,
   "id": "ce337884",
   "metadata": {},
   "outputs": [
    {
     "data": {
      "text/html": [
       "<div>\n",
       "<style scoped>\n",
       "    .dataframe tbody tr th:only-of-type {\n",
       "        vertical-align: middle;\n",
       "    }\n",
       "\n",
       "    .dataframe tbody tr th {\n",
       "        vertical-align: top;\n",
       "    }\n",
       "\n",
       "    .dataframe thead th {\n",
       "        text-align: right;\n",
       "    }\n",
       "</style>\n",
       "<table border=\"1\" class=\"dataframe\">\n",
       "  <thead>\n",
       "    <tr style=\"text-align: right;\">\n",
       "      <th></th>\n",
       "      <th>make</th>\n",
       "      <th>model</th>\n",
       "      <th>VClass</th>\n",
       "      <th>drive</th>\n",
       "      <th>trans</th>\n",
       "      <th>fuelType</th>\n",
       "    </tr>\n",
       "  </thead>\n",
       "  <tbody>\n",
       "    <tr>\n",
       "      <th>0</th>\n",
       "      <td>Nissan</td>\n",
       "      <td>GT-R</td>\n",
       "      <td>Subcompact Cars</td>\n",
       "      <td>All-Wheel Drive</td>\n",
       "      <td>Automatic (AM6)</td>\n",
       "      <td>Premium Gasoline</td>\n",
       "    </tr>\n",
       "    <tr>\n",
       "      <th>1</th>\n",
       "      <td>Volkswagen</td>\n",
       "      <td>CC</td>\n",
       "      <td>Compact Cars</td>\n",
       "      <td>Front-Wheel Drive</td>\n",
       "      <td>Automatic (AM-S6)</td>\n",
       "      <td>Premium Gasoline</td>\n",
       "    </tr>\n",
       "    <tr>\n",
       "      <th>2</th>\n",
       "      <td>Volkswagen</td>\n",
       "      <td>CC</td>\n",
       "      <td>Compact Cars</td>\n",
       "      <td>Front-Wheel Drive</td>\n",
       "      <td>Automatic (S6)</td>\n",
       "      <td>Premium Gasoline</td>\n",
       "    </tr>\n",
       "  </tbody>\n",
       "</table>\n",
       "</div>"
      ],
      "text/plain": [
       "         make model           VClass              drive              trans  \\\n",
       "0      Nissan  GT-R  Subcompact Cars    All-Wheel Drive    Automatic (AM6)   \n",
       "1  Volkswagen    CC     Compact Cars  Front-Wheel Drive  Automatic (AM-S6)   \n",
       "2  Volkswagen    CC     Compact Cars  Front-Wheel Drive     Automatic (S6)   \n",
       "\n",
       "           fuelType  \n",
       "0  Premium Gasoline  \n",
       "1  Premium Gasoline  \n",
       "2  Premium Gasoline  "
      ]
     },
     "execution_count": 20,
     "metadata": {},
     "output_type": "execute_result"
    }
   ],
   "source": [
    "fuel_econ.select_dtypes(include=['object']).head(3)"
   ]
  },
  {
   "cell_type": "code",
   "execution_count": 21,
   "id": "9c781b13",
   "metadata": {},
   "outputs": [
    {
     "data": {
      "text/html": [
       "<div>\n",
       "<style scoped>\n",
       "    .dataframe tbody tr th:only-of-type {\n",
       "        vertical-align: middle;\n",
       "    }\n",
       "\n",
       "    .dataframe tbody tr th {\n",
       "        vertical-align: top;\n",
       "    }\n",
       "\n",
       "    .dataframe thead th {\n",
       "        text-align: right;\n",
       "    }\n",
       "</style>\n",
       "<table border=\"1\" class=\"dataframe\">\n",
       "  <thead>\n",
       "    <tr style=\"text-align: right;\">\n",
       "      <th></th>\n",
       "      <th>displ</th>\n",
       "      <th>city</th>\n",
       "      <th>UCity</th>\n",
       "      <th>highway</th>\n",
       "      <th>UHighway</th>\n",
       "      <th>comb</th>\n",
       "    </tr>\n",
       "  </thead>\n",
       "  <tbody>\n",
       "    <tr>\n",
       "      <th>0</th>\n",
       "      <td>3.8</td>\n",
       "      <td>16.4596</td>\n",
       "      <td>20.2988</td>\n",
       "      <td>22.5568</td>\n",
       "      <td>30.1798</td>\n",
       "      <td>18.7389</td>\n",
       "    </tr>\n",
       "    <tr>\n",
       "      <th>1</th>\n",
       "      <td>2.0</td>\n",
       "      <td>21.8706</td>\n",
       "      <td>26.9770</td>\n",
       "      <td>31.0367</td>\n",
       "      <td>42.4936</td>\n",
       "      <td>25.2227</td>\n",
       "    </tr>\n",
       "    <tr>\n",
       "      <th>2</th>\n",
       "      <td>3.6</td>\n",
       "      <td>17.4935</td>\n",
       "      <td>21.2000</td>\n",
       "      <td>26.5716</td>\n",
       "      <td>35.1000</td>\n",
       "      <td>20.6716</td>\n",
       "    </tr>\n",
       "  </tbody>\n",
       "</table>\n",
       "</div>"
      ],
      "text/plain": [
       "   displ     city    UCity  highway  UHighway     comb\n",
       "0    3.8  16.4596  20.2988  22.5568   30.1798  18.7389\n",
       "1    2.0  21.8706  26.9770  31.0367   42.4936  25.2227\n",
       "2    3.6  17.4935  21.2000  26.5716   35.1000  20.6716"
      ]
     },
     "execution_count": 21,
     "metadata": {},
     "output_type": "execute_result"
    }
   ],
   "source": [
    "fuel_econ.select_dtypes(exclude=['object', 'int64']).head(3)"
   ]
  },
  {
   "cell_type": "markdown",
   "id": "1838ab67",
   "metadata": {},
   "source": [
    "# Day 4/100"
   ]
  },
  {
   "cell_type": "code",
   "execution_count": 22,
   "id": "8cade9ba",
   "metadata": {},
   "outputs": [],
   "source": [
    "pokemon_speed = pokemon['speed']"
   ]
  },
  {
   "cell_type": "code",
   "execution_count": 23,
   "id": "4b2941a8",
   "metadata": {},
   "outputs": [],
   "source": [
    "pokemon_speed_cat = pd.cut(pokemon_speed, bins = [0, 40, 80, 120, 160], include_lowest=True)"
   ]
  },
  {
   "cell_type": "code",
   "execution_count": 24,
   "id": "eebf4d2a",
   "metadata": {
    "scrolled": false
   },
   "outputs": [
    {
     "data": {
      "text/plain": [
       "(40.0, 80.0]      398\n",
       "(80.0, 120.0]     217\n",
       "(-0.001, 40.0]    172\n",
       "(120.0, 160.0]     20\n",
       "Name: speed, dtype: int64"
      ]
     },
     "execution_count": 24,
     "metadata": {},
     "output_type": "execute_result"
    }
   ],
   "source": [
    "pokemon_speed_cat.value_counts()"
   ]
  },
  {
   "cell_type": "code",
   "execution_count": 25,
   "id": "a815e8c3",
   "metadata": {},
   "outputs": [
    {
     "data": {
      "image/png": "[encoded data removed]",
      "text/plain": [
       "<Figure size 432x288 with 1 Axes>"
      ]
     },
     "metadata": {},
     "output_type": "display_data"
    }
   ],
   "source": [
    "pokemon_speed_cat.value_counts().plot.pie();"
   ]
  },
  {
   "cell_type": "code",
   "execution_count": 26,
   "id": "45dba08d",
   "metadata": {},
   "outputs": [
    {
     "data": {
      "text/plain": [
       "6584"
      ]
     },
     "execution_count": 26,
     "metadata": {},
     "output_type": "execute_result"
    }
   ],
   "source": [
    "pokemon_speed.memory_usage(deep=True)"
   ]
  },
  {
   "cell_type": "code",
   "execution_count": 27,
   "id": "656c6914",
   "metadata": {},
   "outputs": [
    {
     "data": {
      "text/plain": [
       "1171"
      ]
     },
     "execution_count": 27,
     "metadata": {},
     "output_type": "execute_result"
    }
   ],
   "source": [
    "pokemon_speed_cat.memory_usage(deep=True)"
   ]
  },
  {
   "cell_type": "code",
   "execution_count": 28,
   "id": "3402e468",
   "metadata": {},
   "outputs": [
    {
     "data": {
      "text/plain": [
       "(40.0, 80.0]      398\n",
       "(80.0, 120.0]     217\n",
       "(-0.001, 40.0]    172\n",
       "(120.0, 160.0]     20\n",
       "Name: speed, dtype: int64"
      ]
     },
     "execution_count": 28,
     "metadata": {},
     "output_type": "execute_result"
    }
   ],
   "source": [
    "pokemon_speed.value_counts(bins= [0, 40, 80, 120, 160])"
   ]
  },
  {
   "cell_type": "code",
   "execution_count": 29,
   "id": "5edb07da",
   "metadata": {},
   "outputs": [
    {
     "data": {
      "image/png": "[encoded data removed]",
      "text/plain": [
       "<Figure size 432x288 with 1 Axes>"
      ]
     },
     "metadata": {},
     "output_type": "display_data"
    }
   ],
   "source": [
    "pokemon_speed.value_counts(bins= [0, 40, 80, 120, 160]).plot.pie();"
   ]
  },
  {
   "cell_type": "markdown",
   "id": "8daa89ca",
   "metadata": {},
   "source": [
    "# Day 5/100"
   ]
  },
  {
   "cell_type": "code",
   "execution_count": 30,
   "id": "04116906",
   "metadata": {},
   "outputs": [],
   "source": [
    "df = pd.DataFrame({'Name':['Alex', 'Michael', 'Roger'],\n",
    "                   'Hobbies': [['Reading', 'Tennis'], ['Chess', 'Reading'], ['Swimming', 'Golf']]})"
   ]
  },
  {
   "cell_type": "code",
   "execution_count": 31,
   "id": "369b7a3f",
   "metadata": {
    "scrolled": true
   },
   "outputs": [
    {
     "data": {
      "text/html": [
       "<div>\n",
       "<style scoped>\n",
       "    .dataframe tbody tr th:only-of-type {\n",
       "        vertical-align: middle;\n",
       "    }\n",
       "\n",
       "    .dataframe tbody tr th {\n",
       "        vertical-align: top;\n",
       "    }\n",
       "\n",
       "    .dataframe thead th {\n",
       "        text-align: right;\n",
       "    }\n",
       "</style>\n",
       "<table border=\"1\" class=\"dataframe\">\n",
       "  <thead>\n",
       "    <tr style=\"text-align: right;\">\n",
       "      <th></th>\n",
       "      <th>Name</th>\n",
       "      <th>Hobbies</th>\n",
       "    </tr>\n",
       "  </thead>\n",
       "  <tbody>\n",
       "    <tr>\n",
       "      <th>0</th>\n",
       "      <td>Alex</td>\n",
       "      <td>[Reading, Tennis]</td>\n",
       "    </tr>\n",
       "    <tr>\n",
       "      <th>1</th>\n",
       "      <td>Michael</td>\n",
       "      <td>[Chess, Reading]</td>\n",
       "    </tr>\n",
       "    <tr>\n",
       "      <th>2</th>\n",
       "      <td>Roger</td>\n",
       "      <td>[Swimming, Golf]</td>\n",
       "    </tr>\n",
       "  </tbody>\n",
       "</table>\n",
       "</div>"
      ],
      "text/plain": [
       "      Name            Hobbies\n",
       "0     Alex  [Reading, Tennis]\n",
       "1  Michael   [Chess, Reading]\n",
       "2    Roger   [Swimming, Golf]"
      ]
     },
     "execution_count": 31,
     "metadata": {},
     "output_type": "execute_result"
    }
   ],
   "source": [
    "df"
   ]
  },
  {
   "cell_type": "code",
   "execution_count": 32,
   "id": "36f99571",
   "metadata": {},
   "outputs": [
    {
     "data": {
      "text/plain": [
       "Name       object\n",
       "Hobbies    object\n",
       "dtype: object"
      ]
     },
     "execution_count": 32,
     "metadata": {},
     "output_type": "execute_result"
    }
   ],
   "source": [
    "df.dtypes"
   ]
  },
  {
   "cell_type": "code",
   "execution_count": 33,
   "id": "5c36dac9",
   "metadata": {},
   "outputs": [],
   "source": [
    "df.Name = df.Name.astype('string')"
   ]
  },
  {
   "cell_type": "code",
   "execution_count": 34,
   "id": "dca44dbd",
   "metadata": {},
   "outputs": [
    {
     "data": {
      "text/plain": [
       "Name       string\n",
       "Hobbies    object\n",
       "dtype: object"
      ]
     },
     "execution_count": 34,
     "metadata": {},
     "output_type": "execute_result"
    }
   ],
   "source": [
    "df.dtypes"
   ]
  },
  {
   "cell_type": "code",
   "execution_count": 35,
   "id": "08c27bf2",
   "metadata": {},
   "outputs": [
    {
     "data": {
      "text/html": [
       "<div>\n",
       "<style scoped>\n",
       "    .dataframe tbody tr th:only-of-type {\n",
       "        vertical-align: middle;\n",
       "    }\n",
       "\n",
       "    .dataframe tbody tr th {\n",
       "        vertical-align: top;\n",
       "    }\n",
       "\n",
       "    .dataframe thead th {\n",
       "        text-align: right;\n",
       "    }\n",
       "</style>\n",
       "<table border=\"1\" class=\"dataframe\">\n",
       "  <thead>\n",
       "    <tr style=\"text-align: right;\">\n",
       "      <th></th>\n",
       "      <th>Name</th>\n",
       "    </tr>\n",
       "  </thead>\n",
       "  <tbody>\n",
       "    <tr>\n",
       "      <th>0</th>\n",
       "      <td>Alex</td>\n",
       "    </tr>\n",
       "    <tr>\n",
       "      <th>1</th>\n",
       "      <td>Michael</td>\n",
       "    </tr>\n",
       "    <tr>\n",
       "      <th>2</th>\n",
       "      <td>Roger</td>\n",
       "    </tr>\n",
       "  </tbody>\n",
       "</table>\n",
       "</div>"
      ],
      "text/plain": [
       "      Name\n",
       "0     Alex\n",
       "1  Michael\n",
       "2    Roger"
      ]
     },
     "execution_count": 35,
     "metadata": {},
     "output_type": "execute_result"
    }
   ],
   "source": [
    "df.select_dtypes('string')"
   ]
  },
  {
   "cell_type": "markdown",
   "id": "88aa68ff",
   "metadata": {},
   "source": [
    "# Day 6/100"
   ]
  },
  {
   "cell_type": "code",
   "execution_count": 36,
   "id": "7b45f47b",
   "metadata": {},
   "outputs": [
    {
     "data": {
      "text/plain": [
       "0    Premium Gasoline\n",
       "1    Premium Gasoline\n",
       "2    Premium Gasoline\n",
       "Name: fuelType, dtype: object"
      ]
     },
     "execution_count": 36,
     "metadata": {},
     "output_type": "execute_result"
    }
   ],
   "source": [
    "fuel.head(3)"
   ]
  },
  {
   "cell_type": "code",
   "execution_count": 37,
   "id": "104438db",
   "metadata": {},
   "outputs": [
    {
     "data": {
      "text/plain": [
       "0    PREMIUM GASOLINE\n",
       "1    PREMIUM GASOLINE\n",
       "2    PREMIUM GASOLINE\n",
       "Name: fuelType, dtype: object"
      ]
     },
     "execution_count": 37,
     "metadata": {},
     "output_type": "execute_result"
    }
   ],
   "source": [
    "# change text to uppercase\n",
    "fuel.str.upper().head(3)"
   ]
  },
  {
   "cell_type": "code",
   "execution_count": 38,
   "id": "8e8c241c",
   "metadata": {},
   "outputs": [
    {
     "data": {
      "text/plain": [
       "0    [Premium, Gasoline]\n",
       "1    [Premium, Gasoline]\n",
       "2    [Premium, Gasoline]\n",
       "Name: fuelType, dtype: object"
      ]
     },
     "execution_count": 38,
     "metadata": {},
     "output_type": "execute_result"
    }
   ],
   "source": [
    "# split the text\n",
    "fuel.str.split(' ').head(3)"
   ]
  },
  {
   "cell_type": "code",
   "execution_count": 39,
   "id": "5d42752b",
   "metadata": {
    "scrolled": true
   },
   "outputs": [
    {
     "data": {
      "text/html": [
       "<div>\n",
       "<style scoped>\n",
       "    .dataframe tbody tr th:only-of-type {\n",
       "        vertical-align: middle;\n",
       "    }\n",
       "\n",
       "    .dataframe tbody tr th {\n",
       "        vertical-align: top;\n",
       "    }\n",
       "\n",
       "    .dataframe thead th {\n",
       "        text-align: right;\n",
       "    }\n",
       "</style>\n",
       "<table border=\"1\" class=\"dataframe\">\n",
       "  <thead>\n",
       "    <tr style=\"text-align: right;\">\n",
       "      <th></th>\n",
       "      <th>0</th>\n",
       "      <th>1</th>\n",
       "    </tr>\n",
       "  </thead>\n",
       "  <tbody>\n",
       "    <tr>\n",
       "      <th>0</th>\n",
       "      <td>Premium</td>\n",
       "      <td>Gasoline</td>\n",
       "    </tr>\n",
       "    <tr>\n",
       "      <th>1</th>\n",
       "      <td>Premium</td>\n",
       "      <td>Gasoline</td>\n",
       "    </tr>\n",
       "    <tr>\n",
       "      <th>2</th>\n",
       "      <td>Premium</td>\n",
       "      <td>Gasoline</td>\n",
       "    </tr>\n",
       "  </tbody>\n",
       "</table>\n",
       "</div>"
      ],
      "text/plain": [
       "         0         1\n",
       "0  Premium  Gasoline\n",
       "1  Premium  Gasoline\n",
       "2  Premium  Gasoline"
      ]
     },
     "execution_count": 39,
     "metadata": {},
     "output_type": "execute_result"
    }
   ],
   "source": [
    "fuel.str.split(' ', expand=True).head(3)"
   ]
  },
  {
   "cell_type": "code",
   "execution_count": 40,
   "id": "d3b7c914",
   "metadata": {
    "scrolled": true
   },
   "outputs": [
    {
     "data": {
      "text/plain": [
       "['capitalize',\n",
       " 'casefold',\n",
       " 'cat',\n",
       " 'center',\n",
       " 'contains',\n",
       " 'count',\n",
       " 'decode',\n",
       " 'encode',\n",
       " 'endswith',\n",
       " 'extract',\n",
       " 'extractall',\n",
       " 'find',\n",
       " 'findall',\n",
       " 'fullmatch',\n",
       " 'get',\n",
       " 'get_dummies',\n",
       " 'index',\n",
       " 'isalnum',\n",
       " 'isalpha',\n",
       " 'isdecimal',\n",
       " 'isdigit',\n",
       " 'islower',\n",
       " 'isnumeric',\n",
       " 'isspace',\n",
       " 'istitle',\n",
       " 'isupper',\n",
       " 'join',\n",
       " 'len',\n",
       " 'ljust',\n",
       " 'lower',\n",
       " 'lstrip',\n",
       " 'match',\n",
       " 'normalize',\n",
       " 'pad',\n",
       " 'partition',\n",
       " 'repeat',\n",
       " 'replace',\n",
       " 'rfind',\n",
       " 'rindex',\n",
       " 'rjust',\n",
       " 'rpartition',\n",
       " 'rsplit',\n",
       " 'rstrip',\n",
       " 'slice',\n",
       " 'slice_replace',\n",
       " 'split',\n",
       " 'startswith',\n",
       " 'strip',\n",
       " 'swapcase',\n",
       " 'title',\n",
       " 'translate',\n",
       " 'upper',\n",
       " 'wrap',\n",
       " 'zfill']"
      ]
     },
     "execution_count": 40,
     "metadata": {},
     "output_type": "execute_result"
    }
   ],
   "source": [
    "str_attributes = [attr for attr in dir(fuel.str) if not attr.startswith('_')]\n",
    "str_attributes"
   ]
  },
  {
   "cell_type": "markdown",
   "id": "b6a7864b",
   "metadata": {},
   "source": [
    "# Day 7/100"
   ]
  },
  {
   "cell_type": "code",
   "execution_count": 41,
   "id": "7046d12b",
   "metadata": {},
   "outputs": [],
   "source": [
    "dates = pd.Series (['2015-01-08',\n",
    "                   '2011-02-09',\n",
    "                   '2018-03-10',\n",
    "                   '2022-04-15',\n",
    "                   '2017-05-22',\n",
    "                   '2016-06-07',\n",
    "                   '2010-08-30',])"
   ]
  },
  {
   "cell_type": "code",
   "execution_count": 42,
   "id": "e6dea937",
   "metadata": {},
   "outputs": [
    {
     "data": {
      "text/plain": [
       "0    2015-01-08\n",
       "1    2011-02-09\n",
       "2    2018-03-10\n",
       "3    2022-04-15\n",
       "4    2017-05-22\n",
       "5    2016-06-07\n",
       "6    2010-08-30\n",
       "dtype: object"
      ]
     },
     "execution_count": 42,
     "metadata": {},
     "output_type": "execute_result"
    }
   ],
   "source": [
    "dates"
   ]
  },
  {
   "cell_type": "code",
   "execution_count": 43,
   "id": "a934f4f6",
   "metadata": {},
   "outputs": [
    {
     "data": {
      "text/plain": [
       "0   2015-01-08\n",
       "1   2011-02-09\n",
       "2   2018-03-10\n",
       "3   2022-04-15\n",
       "4   2017-05-22\n",
       "5   2016-06-07\n",
       "6   2010-08-30\n",
       "dtype: datetime64[ns]"
      ]
     },
     "execution_count": 43,
     "metadata": {},
     "output_type": "execute_result"
    }
   ],
   "source": [
    "dates = pd.to_datetime(dates)\n",
    "dates"
   ]
  },
  {
   "cell_type": "code",
   "execution_count": 44,
   "id": "df265060",
   "metadata": {},
   "outputs": [
    {
     "data": {
      "text/plain": [
       "0     Thursday\n",
       "1    Wednesday\n",
       "2     Saturday\n",
       "3       Friday\n",
       "4       Monday\n",
       "5      Tuesday\n",
       "6       Monday\n",
       "dtype: object"
      ]
     },
     "execution_count": 44,
     "metadata": {},
     "output_type": "execute_result"
    }
   ],
   "source": [
    "# get the day name\n",
    "dates.dt.day_name()"
   ]
  },
  {
   "cell_type": "code",
   "execution_count": 45,
   "id": "ff96d60a",
   "metadata": {},
   "outputs": [
    {
     "data": {
      "text/plain": [
       "0       Jueves\n",
       "1    Miércoles\n",
       "2       Sábado\n",
       "3      Viernes\n",
       "4        Lunes\n",
       "5       Martes\n",
       "6        Lunes\n",
       "dtype: object"
      ]
     },
     "execution_count": 45,
     "metadata": {},
     "output_type": "execute_result"
    }
   ],
   "source": [
    "# get the day name in another language (e.g. Spanish)\n",
    "dates.dt.day_name('es')"
   ]
  },
  {
   "cell_type": "code",
   "execution_count": 46,
   "id": "840bebf1",
   "metadata": {},
   "outputs": [
    {
     "data": {
      "text/plain": [
       "0    15/01/08\n",
       "1    11/02/09\n",
       "2    18/03/10\n",
       "3    22/04/15\n",
       "4    17/05/22\n",
       "5    16/06/07\n",
       "6    10/08/30\n",
       "dtype: object"
      ]
     },
     "execution_count": 46,
     "metadata": {},
     "output_type": "execute_result"
    }
   ],
   "source": [
    "# format the date to your needs\n",
    "dates.dt.strftime(\"%y/%m/%d\")"
   ]
  },
  {
   "cell_type": "markdown",
   "id": "994c0f10",
   "metadata": {},
   "source": [
    "# Day 8/100"
   ]
  },
  {
   "cell_type": "code",
   "execution_count": 47,
   "id": "342b3c57",
   "metadata": {},
   "outputs": [],
   "source": [
    "df = pd.DataFrame({'Name':['Alex', 'Michael', 'Roger'],\n",
    "                   'Hobbies': [['Reading', 'Tennis'], ['Chess', 'Reading'], ['Swimming', 'Golf']]})"
   ]
  },
  {
   "cell_type": "code",
   "execution_count": 48,
   "id": "6b554b82",
   "metadata": {},
   "outputs": [
    {
     "data": {
      "text/html": [
       "<div>\n",
       "<style scoped>\n",
       "    .dataframe tbody tr th:only-of-type {\n",
       "        vertical-align: middle;\n",
       "    }\n",
       "\n",
       "    .dataframe tbody tr th {\n",
       "        vertical-align: top;\n",
       "    }\n",
       "\n",
       "    .dataframe thead th {\n",
       "        text-align: right;\n",
       "    }\n",
       "</style>\n",
       "<table border=\"1\" class=\"dataframe\">\n",
       "  <thead>\n",
       "    <tr style=\"text-align: right;\">\n",
       "      <th></th>\n",
       "      <th>Name</th>\n",
       "      <th>Hobbies</th>\n",
       "    </tr>\n",
       "  </thead>\n",
       "  <tbody>\n",
       "    <tr>\n",
       "      <th>0</th>\n",
       "      <td>Alex</td>\n",
       "      <td>[Reading, Tennis]</td>\n",
       "    </tr>\n",
       "    <tr>\n",
       "      <th>1</th>\n",
       "      <td>Michael</td>\n",
       "      <td>[Chess, Reading]</td>\n",
       "    </tr>\n",
       "    <tr>\n",
       "      <th>2</th>\n",
       "      <td>Roger</td>\n",
       "      <td>[Swimming, Golf]</td>\n",
       "    </tr>\n",
       "  </tbody>\n",
       "</table>\n",
       "</div>"
      ],
      "text/plain": [
       "      Name            Hobbies\n",
       "0     Alex  [Reading, Tennis]\n",
       "1  Michael   [Chess, Reading]\n",
       "2    Roger   [Swimming, Golf]"
      ]
     },
     "execution_count": 48,
     "metadata": {},
     "output_type": "execute_result"
    }
   ],
   "source": [
    "df"
   ]
  },
  {
   "cell_type": "code",
   "execution_count": 49,
   "id": "f84b1651",
   "metadata": {},
   "outputs": [],
   "source": [
    "# square-bracket notation\n",
    "df['Age'] = [22, 29, 24]"
   ]
  },
  {
   "cell_type": "code",
   "execution_count": 50,
   "id": "6cdac769",
   "metadata": {
    "scrolled": false
   },
   "outputs": [
    {
     "data": {
      "text/html": [
       "<div>\n",
       "<style scoped>\n",
       "    .dataframe tbody tr th:only-of-type {\n",
       "        vertical-align: middle;\n",
       "    }\n",
       "\n",
       "    .dataframe tbody tr th {\n",
       "        vertical-align: top;\n",
       "    }\n",
       "\n",
       "    .dataframe thead th {\n",
       "        text-align: right;\n",
       "    }\n",
       "</style>\n",
       "<table border=\"1\" class=\"dataframe\">\n",
       "  <thead>\n",
       "    <tr style=\"text-align: right;\">\n",
       "      <th></th>\n",
       "      <th>Name</th>\n",
       "      <th>Hobbies</th>\n",
       "      <th>Age</th>\n",
       "    </tr>\n",
       "  </thead>\n",
       "  <tbody>\n",
       "    <tr>\n",
       "      <th>0</th>\n",
       "      <td>Alex</td>\n",
       "      <td>[Reading, Tennis]</td>\n",
       "      <td>22</td>\n",
       "    </tr>\n",
       "    <tr>\n",
       "      <th>1</th>\n",
       "      <td>Michael</td>\n",
       "      <td>[Chess, Reading]</td>\n",
       "      <td>29</td>\n",
       "    </tr>\n",
       "    <tr>\n",
       "      <th>2</th>\n",
       "      <td>Roger</td>\n",
       "      <td>[Swimming, Golf]</td>\n",
       "      <td>24</td>\n",
       "    </tr>\n",
       "  </tbody>\n",
       "</table>\n",
       "</div>"
      ],
      "text/plain": [
       "      Name            Hobbies  Age\n",
       "0     Alex  [Reading, Tennis]   22\n",
       "1  Michael   [Chess, Reading]   29\n",
       "2    Roger   [Swimming, Golf]   24"
      ]
     },
     "execution_count": 50,
     "metadata": {},
     "output_type": "execute_result"
    }
   ],
   "source": [
    "df"
   ]
  },
  {
   "cell_type": "markdown",
   "id": "113dfcb3",
   "metadata": {},
   "source": [
    "##### The square-bracket notation modifies the DataFrame in-place."
   ]
  },
  {
   "cell_type": "code",
   "execution_count": 51,
   "id": "6d4caaa3",
   "metadata": {},
   "outputs": [],
   "source": [
    "df = pd.DataFrame({'Name':['Alex', 'Michael', 'Roger'],\n",
    "                   'Hobbies': [['Reading', 'Tennis'], ['Chess', 'Reading'], ['Swimming', 'Golf']]})"
   ]
  },
  {
   "cell_type": "code",
   "execution_count": 52,
   "id": "be9cad4d",
   "metadata": {},
   "outputs": [
    {
     "data": {
      "text/html": [
       "<div>\n",
       "<style scoped>\n",
       "    .dataframe tbody tr th:only-of-type {\n",
       "        vertical-align: middle;\n",
       "    }\n",
       "\n",
       "    .dataframe tbody tr th {\n",
       "        vertical-align: top;\n",
       "    }\n",
       "\n",
       "    .dataframe thead th {\n",
       "        text-align: right;\n",
       "    }\n",
       "</style>\n",
       "<table border=\"1\" class=\"dataframe\">\n",
       "  <thead>\n",
       "    <tr style=\"text-align: right;\">\n",
       "      <th></th>\n",
       "      <th>Name</th>\n",
       "      <th>Hobbies</th>\n",
       "    </tr>\n",
       "  </thead>\n",
       "  <tbody>\n",
       "    <tr>\n",
       "      <th>0</th>\n",
       "      <td>Alex</td>\n",
       "      <td>[Reading, Tennis]</td>\n",
       "    </tr>\n",
       "    <tr>\n",
       "      <th>1</th>\n",
       "      <td>Michael</td>\n",
       "      <td>[Chess, Reading]</td>\n",
       "    </tr>\n",
       "    <tr>\n",
       "      <th>2</th>\n",
       "      <td>Roger</td>\n",
       "      <td>[Swimming, Golf]</td>\n",
       "    </tr>\n",
       "  </tbody>\n",
       "</table>\n",
       "</div>"
      ],
      "text/plain": [
       "      Name            Hobbies\n",
       "0     Alex  [Reading, Tennis]\n",
       "1  Michael   [Chess, Reading]\n",
       "2    Roger   [Swimming, Golf]"
      ]
     },
     "execution_count": 52,
     "metadata": {},
     "output_type": "execute_result"
    }
   ],
   "source": [
    "df"
   ]
  },
  {
   "cell_type": "code",
   "execution_count": 53,
   "id": "43685b8c",
   "metadata": {},
   "outputs": [
    {
     "data": {
      "text/html": [
       "<div>\n",
       "<style scoped>\n",
       "    .dataframe tbody tr th:only-of-type {\n",
       "        vertical-align: middle;\n",
       "    }\n",
       "\n",
       "    .dataframe tbody tr th {\n",
       "        vertical-align: top;\n",
       "    }\n",
       "\n",
       "    .dataframe thead th {\n",
       "        text-align: right;\n",
       "    }\n",
       "</style>\n",
       "<table border=\"1\" class=\"dataframe\">\n",
       "  <thead>\n",
       "    <tr style=\"text-align: right;\">\n",
       "      <th></th>\n",
       "      <th>Name</th>\n",
       "      <th>Hobbies</th>\n",
       "      <th>Age</th>\n",
       "    </tr>\n",
       "  </thead>\n",
       "  <tbody>\n",
       "    <tr>\n",
       "      <th>0</th>\n",
       "      <td>Alex</td>\n",
       "      <td>[Reading, Tennis]</td>\n",
       "      <td>22</td>\n",
       "    </tr>\n",
       "    <tr>\n",
       "      <th>1</th>\n",
       "      <td>Michael</td>\n",
       "      <td>[Chess, Reading]</td>\n",
       "      <td>29</td>\n",
       "    </tr>\n",
       "    <tr>\n",
       "      <th>2</th>\n",
       "      <td>Roger</td>\n",
       "      <td>[Swimming, Golf]</td>\n",
       "      <td>24</td>\n",
       "    </tr>\n",
       "  </tbody>\n",
       "</table>\n",
       "</div>"
      ],
      "text/plain": [
       "      Name            Hobbies  Age\n",
       "0     Alex  [Reading, Tennis]   22\n",
       "1  Michael   [Chess, Reading]   29\n",
       "2    Roger   [Swimming, Golf]   24"
      ]
     },
     "execution_count": 53,
     "metadata": {},
     "output_type": "execute_result"
    }
   ],
   "source": [
    "# assign method\n",
    "new_df = df.assign(Age = [22, 29, 24])\n",
    "new_df"
   ]
  },
  {
   "cell_type": "code",
   "execution_count": 54,
   "id": "467c586a",
   "metadata": {},
   "outputs": [
    {
     "data": {
      "text/html": [
       "<div>\n",
       "<style scoped>\n",
       "    .dataframe tbody tr th:only-of-type {\n",
       "        vertical-align: middle;\n",
       "    }\n",
       "\n",
       "    .dataframe tbody tr th {\n",
       "        vertical-align: top;\n",
       "    }\n",
       "\n",
       "    .dataframe thead th {\n",
       "        text-align: right;\n",
       "    }\n",
       "</style>\n",
       "<table border=\"1\" class=\"dataframe\">\n",
       "  <thead>\n",
       "    <tr style=\"text-align: right;\">\n",
       "      <th></th>\n",
       "      <th>Name</th>\n",
       "      <th>Hobbies</th>\n",
       "    </tr>\n",
       "  </thead>\n",
       "  <tbody>\n",
       "    <tr>\n",
       "      <th>0</th>\n",
       "      <td>Alex</td>\n",
       "      <td>[Reading, Tennis]</td>\n",
       "    </tr>\n",
       "    <tr>\n",
       "      <th>1</th>\n",
       "      <td>Michael</td>\n",
       "      <td>[Chess, Reading]</td>\n",
       "    </tr>\n",
       "    <tr>\n",
       "      <th>2</th>\n",
       "      <td>Roger</td>\n",
       "      <td>[Swimming, Golf]</td>\n",
       "    </tr>\n",
       "  </tbody>\n",
       "</table>\n",
       "</div>"
      ],
      "text/plain": [
       "      Name            Hobbies\n",
       "0     Alex  [Reading, Tennis]\n",
       "1  Michael   [Chess, Reading]\n",
       "2    Roger   [Swimming, Golf]"
      ]
     },
     "execution_count": 54,
     "metadata": {},
     "output_type": "execute_result"
    }
   ],
   "source": [
    "# original DataFrame\n",
    "df"
   ]
  },
  {
   "cell_type": "markdown",
   "id": "9a1bdd52",
   "metadata": {},
   "source": [
    "##### The assign method returns a new DataFrame object without modifiying the original DataFrame"
   ]
  },
  {
   "cell_type": "markdown",
   "id": "bd539cff",
   "metadata": {},
   "source": [
    "# Day 9/100"
   ]
  },
  {
   "cell_type": "markdown",
   "id": "63e632fc",
   "metadata": {},
   "source": [
    "## Map Method - Part 1"
   ]
  },
  {
   "cell_type": "code",
   "execution_count": 55,
   "id": "127075c9",
   "metadata": {},
   "outputs": [
    {
     "data": {
      "text/plain": [
       "0    Jonathan\n",
       "1     Michael\n",
       "2       Roger\n",
       "3     Michael\n",
       "4      Robert\n",
       "5    Jonathan\n",
       "dtype: object"
      ]
     },
     "execution_count": 55,
     "metadata": {},
     "output_type": "execute_result"
    }
   ],
   "source": [
    "names = pd.Series(['Jonathan', 'Michael', 'Roger', 'Michael', 'Robert', 'Jonathan'])\n",
    "names"
   ]
  },
  {
   "cell_type": "markdown",
   "id": "d6aae207",
   "metadata": {},
   "source": [
    "##### `map` with a dictionary"
   ]
  },
  {
   "cell_type": "code",
   "execution_count": 56,
   "id": "a5f8a7a2",
   "metadata": {},
   "outputs": [
    {
     "data": {
      "text/plain": [
       "0    John\n",
       "1    Mike\n",
       "2     NaN\n",
       "3    Mike\n",
       "4     NaN\n",
       "5    John\n",
       "dtype: object"
      ]
     },
     "execution_count": 56,
     "metadata": {},
     "output_type": "execute_result"
    }
   ],
   "source": [
    "names.map({'Michael':'Mike', 'Jonathan':'John'})"
   ]
  },
  {
   "cell_type": "markdown",
   "id": "091f49d8",
   "metadata": {},
   "source": [
    "**Note that values in the Series that are not in the dictionary are converted to NaNs.**"
   ]
  },
  {
   "cell_type": "markdown",
   "id": "f108c465",
   "metadata": {},
   "source": [
    "##### `map` with a Series"
   ]
  },
  {
   "cell_type": "code",
   "execution_count": 57,
   "id": "1d971229",
   "metadata": {},
   "outputs": [
    {
     "data": {
      "text/plain": [
       "0    Jonathan\n",
       "1     Michael\n",
       "2       Roger\n",
       "3     Michael\n",
       "4      Robert\n",
       "5    Jonathan\n",
       "dtype: object"
      ]
     },
     "execution_count": 57,
     "metadata": {},
     "output_type": "execute_result"
    }
   ],
   "source": [
    "names"
   ]
  },
  {
   "cell_type": "code",
   "execution_count": 58,
   "id": "df5a7a0e",
   "metadata": {},
   "outputs": [
    {
     "data": {
      "text/plain": [
       "Michael     Mike\n",
       "Jonathan    John\n",
       "dtype: object"
      ]
     },
     "execution_count": 58,
     "metadata": {},
     "output_type": "execute_result"
    }
   ],
   "source": [
    "ser_map = pd.Series(['Mike', 'John'], index = ['Michael', 'Jonathan'])\n",
    "ser_map"
   ]
  },
  {
   "cell_type": "code",
   "execution_count": 59,
   "id": "4bf24acb",
   "metadata": {},
   "outputs": [
    {
     "data": {
      "text/plain": [
       "0    John\n",
       "1    Mike\n",
       "2     NaN\n",
       "3    Mike\n",
       "4     NaN\n",
       "5    John\n",
       "dtype: object"
      ]
     },
     "execution_count": 59,
     "metadata": {},
     "output_type": "execute_result"
    }
   ],
   "source": [
    "names.map(ser_map)"
   ]
  },
  {
   "cell_type": "markdown",
   "id": "bc67535e",
   "metadata": {},
   "source": [
    "##### `map` with a function"
   ]
  },
  {
   "cell_type": "code",
   "execution_count": 60,
   "id": "2e4f26f4",
   "metadata": {},
   "outputs": [
    {
     "data": {
      "text/plain": [
       "0    8\n",
       "1    7\n",
       "2    5\n",
       "3    7\n",
       "4    6\n",
       "5    8\n",
       "dtype: int64"
      ]
     },
     "execution_count": 60,
     "metadata": {},
     "output_type": "execute_result"
    }
   ],
   "source": [
    "# length of names\n",
    "names.map(len)"
   ]
  },
  {
   "cell_type": "code",
   "execution_count": 61,
   "id": "97e2fbca",
   "metadata": {},
   "outputs": [
    {
     "data": {
      "text/plain": [
       "0    JONATHAN\n",
       "1     MICHAEL\n",
       "2       ROGER\n",
       "3     MICHAEL\n",
       "4      ROBERT\n",
       "5    JONATHAN\n",
       "dtype: object"
      ]
     },
     "execution_count": 61,
     "metadata": {},
     "output_type": "execute_result"
    }
   ],
   "source": [
    "# convert names to uppercase\n",
    "names.map(lambda x : x.upper())"
   ]
  },
  {
   "cell_type": "code",
   "execution_count": 62,
   "id": "527d7c1f",
   "metadata": {},
   "outputs": [
    {
     "data": {
      "text/plain": [
       "0    JONATHAN\n",
       "1     MICHAEL\n",
       "2       ROGER\n",
       "3     MICHAEL\n",
       "4      ROBERT\n",
       "5    JONATHAN\n",
       "dtype: object"
      ]
     },
     "execution_count": 62,
     "metadata": {},
     "output_type": "execute_result"
    }
   ],
   "source": [
    "names.map(str.upper)"
   ]
  },
  {
   "cell_type": "code",
   "execution_count": 63,
   "id": "95393f9b",
   "metadata": {},
   "outputs": [
    {
     "data": {
      "text/plain": [
       "0    My name is Jonathan\n",
       "1     My name is Michael\n",
       "2       My name is Roger\n",
       "3     My name is Michael\n",
       "4      My name is Robert\n",
       "5    My name is Jonathan\n",
       "dtype: object"
      ]
     },
     "execution_count": 63,
     "metadata": {},
     "output_type": "execute_result"
    }
   ],
   "source": [
    "# format\n",
    "names.map('My name is {}'.format)"
   ]
  },
  {
   "cell_type": "markdown",
   "id": "08b6a154",
   "metadata": {},
   "source": [
    "# Day 10/100"
   ]
  },
  {
   "cell_type": "code",
   "execution_count": 64,
   "id": "79ca5934",
   "metadata": {},
   "outputs": [
    {
     "data": {
      "text/plain": [
       "0    Jonathan\n",
       "1         NaN\n",
       "2       Roger\n",
       "3     Michael\n",
       "4      Robert\n",
       "5    Jonathan\n",
       "dtype: object"
      ]
     },
     "execution_count": 64,
     "metadata": {},
     "output_type": "execute_result"
    }
   ],
   "source": [
    "names2 = pd.Series(['Jonathan', np.nan , 'Roger', 'Michael', 'Robert', 'Jonathan'])\n",
    "names2"
   ]
  },
  {
   "cell_type": "code",
   "execution_count": 65,
   "id": "61fa3cea",
   "metadata": {
    "scrolled": true
   },
   "outputs": [
    {
     "data": {
      "text/plain": [
       "0    My name is Jonathan\n",
       "1         My name is nan\n",
       "2       My name is Roger\n",
       "3     My name is Michael\n",
       "4      My name is Robert\n",
       "5    My name is Jonathan\n",
       "dtype: object"
      ]
     },
     "execution_count": 65,
     "metadata": {},
     "output_type": "execute_result"
    }
   ],
   "source": [
    "names2.map('My name is {}'.format)"
   ]
  },
  {
   "cell_type": "code",
   "execution_count": 66,
   "id": "82771182",
   "metadata": {},
   "outputs": [
    {
     "name": "stdout",
     "output_type": "stream",
     "text": [
      "descriptor 'upper' for 'str' objects doesn't apply to a 'float' object\n"
     ]
    }
   ],
   "source": [
    "try:\n",
    "    names2.map(str.upper)\n",
    "except Exception as e:\n",
    "    print(e)"
   ]
  },
  {
   "cell_type": "code",
   "execution_count": 67,
   "id": "36c4be89",
   "metadata": {},
   "outputs": [
    {
     "data": {
      "text/plain": [
       "0    My name is Jonathan\n",
       "1                    NaN\n",
       "2       My name is Roger\n",
       "3     My name is Michael\n",
       "4      My name is Robert\n",
       "5    My name is Jonathan\n",
       "dtype: object"
      ]
     },
     "execution_count": 67,
     "metadata": {},
     "output_type": "execute_result"
    }
   ],
   "source": [
    "names2.map('My name is {}'.format, na_action='ignore')"
   ]
  },
  {
   "cell_type": "code",
   "execution_count": 68,
   "id": "429c6076",
   "metadata": {},
   "outputs": [
    {
     "data": {
      "text/plain": [
       "0    JONATHAN\n",
       "1         NaN\n",
       "2       ROGER\n",
       "3     MICHAEL\n",
       "4      ROBERT\n",
       "5    JONATHAN\n",
       "dtype: object"
      ]
     },
     "execution_count": 68,
     "metadata": {},
     "output_type": "execute_result"
    }
   ],
   "source": [
    "names2.map(str.upper, na_action='ignore')"
   ]
  },
  {
   "cell_type": "markdown",
   "id": "715f6754",
   "metadata": {},
   "source": [
    "# Day 11/100"
   ]
  },
  {
   "cell_type": "markdown",
   "id": "5dab85a8",
   "metadata": {},
   "source": [
    "##### lowercase string columns"
   ]
  },
  {
   "cell_type": "code",
   "execution_count": 69,
   "id": "d2446fbd",
   "metadata": {},
   "outputs": [
    {
     "data": {
      "text/html": [
       "<div>\n",
       "<style scoped>\n",
       "    .dataframe tbody tr th:only-of-type {\n",
       "        vertical-align: middle;\n",
       "    }\n",
       "\n",
       "    .dataframe tbody tr th {\n",
       "        vertical-align: top;\n",
       "    }\n",
       "\n",
       "    .dataframe thead th {\n",
       "        text-align: right;\n",
       "    }\n",
       "</style>\n",
       "<table border=\"1\" class=\"dataframe\">\n",
       "  <thead>\n",
       "    <tr style=\"text-align: right;\">\n",
       "      <th></th>\n",
       "      <th>make</th>\n",
       "      <th>model</th>\n",
       "      <th>VClass</th>\n",
       "      <th>drive</th>\n",
       "      <th>trans</th>\n",
       "      <th>fuelType</th>\n",
       "    </tr>\n",
       "  </thead>\n",
       "  <tbody>\n",
       "    <tr>\n",
       "      <th>0</th>\n",
       "      <td>nissan</td>\n",
       "      <td>gt-r</td>\n",
       "      <td>subcompact cars</td>\n",
       "      <td>all-wheel drive</td>\n",
       "      <td>automatic (am6)</td>\n",
       "      <td>premium gasoline</td>\n",
       "    </tr>\n",
       "    <tr>\n",
       "      <th>1</th>\n",
       "      <td>volkswagen</td>\n",
       "      <td>cc</td>\n",
       "      <td>compact cars</td>\n",
       "      <td>front-wheel drive</td>\n",
       "      <td>automatic (am-s6)</td>\n",
       "      <td>premium gasoline</td>\n",
       "    </tr>\n",
       "    <tr>\n",
       "      <th>2</th>\n",
       "      <td>volkswagen</td>\n",
       "      <td>cc</td>\n",
       "      <td>compact cars</td>\n",
       "      <td>front-wheel drive</td>\n",
       "      <td>automatic (s6)</td>\n",
       "      <td>premium gasoline</td>\n",
       "    </tr>\n",
       "    <tr>\n",
       "      <th>3</th>\n",
       "      <td>volkswagen</td>\n",
       "      <td>cc 4motion</td>\n",
       "      <td>compact cars</td>\n",
       "      <td>all-wheel drive</td>\n",
       "      <td>automatic (s6)</td>\n",
       "      <td>premium gasoline</td>\n",
       "    </tr>\n",
       "  </tbody>\n",
       "</table>\n",
       "</div>"
      ],
      "text/plain": [
       "         make       model           VClass              drive  \\\n",
       "0      nissan        gt-r  subcompact cars    all-wheel drive   \n",
       "1  volkswagen          cc     compact cars  front-wheel drive   \n",
       "2  volkswagen          cc     compact cars  front-wheel drive   \n",
       "3  volkswagen  cc 4motion     compact cars    all-wheel drive   \n",
       "\n",
       "               trans          fuelType  \n",
       "0    automatic (am6)  premium gasoline  \n",
       "1  automatic (am-s6)  premium gasoline  \n",
       "2     automatic (s6)  premium gasoline  \n",
       "3     automatic (s6)  premium gasoline  "
      ]
     },
     "execution_count": 69,
     "metadata": {},
     "output_type": "execute_result"
    }
   ],
   "source": [
    "(fuel_econ\n",
    "    .select_dtypes('object')\n",
    "    .applymap(str.lower)\n",
    "    .head(4))"
   ]
  },
  {
   "cell_type": "markdown",
   "id": "dee8ee74",
   "metadata": {},
   "source": [
    "##### limit the number of decimals in floats"
   ]
  },
  {
   "cell_type": "code",
   "execution_count": 70,
   "id": "17bd5957",
   "metadata": {
    "scrolled": true
   },
   "outputs": [
    {
     "data": {
      "text/html": [
       "<div>\n",
       "<style scoped>\n",
       "    .dataframe tbody tr th:only-of-type {\n",
       "        vertical-align: middle;\n",
       "    }\n",
       "\n",
       "    .dataframe tbody tr th {\n",
       "        vertical-align: top;\n",
       "    }\n",
       "\n",
       "    .dataframe thead th {\n",
       "        text-align: right;\n",
       "    }\n",
       "</style>\n",
       "<table border=\"1\" class=\"dataframe\">\n",
       "  <thead>\n",
       "    <tr style=\"text-align: right;\">\n",
       "      <th></th>\n",
       "      <th>displ</th>\n",
       "      <th>city</th>\n",
       "      <th>UCity</th>\n",
       "      <th>highway</th>\n",
       "      <th>UHighway</th>\n",
       "      <th>comb</th>\n",
       "    </tr>\n",
       "  </thead>\n",
       "  <tbody>\n",
       "    <tr>\n",
       "      <th>1</th>\n",
       "      <td>2.0</td>\n",
       "      <td>21.87</td>\n",
       "      <td>26.98</td>\n",
       "      <td>31.04</td>\n",
       "      <td>42.49</td>\n",
       "      <td>25.22</td>\n",
       "    </tr>\n",
       "    <tr>\n",
       "      <th>2</th>\n",
       "      <td>3.6</td>\n",
       "      <td>17.49</td>\n",
       "      <td>21.20</td>\n",
       "      <td>26.57</td>\n",
       "      <td>35.10</td>\n",
       "      <td>20.67</td>\n",
       "    </tr>\n",
       "    <tr>\n",
       "      <th>3</th>\n",
       "      <td>3.6</td>\n",
       "      <td>16.94</td>\n",
       "      <td>20.50</td>\n",
       "      <td>25.22</td>\n",
       "      <td>33.50</td>\n",
       "      <td>19.88</td>\n",
       "    </tr>\n",
       "    <tr>\n",
       "      <th>4</th>\n",
       "      <td>2.4</td>\n",
       "      <td>24.77</td>\n",
       "      <td>31.98</td>\n",
       "      <td>35.53</td>\n",
       "      <td>51.88</td>\n",
       "      <td>28.68</td>\n",
       "    </tr>\n",
       "  </tbody>\n",
       "</table>\n",
       "</div>"
      ],
      "text/plain": [
       "   displ   city  UCity  highway  UHighway   comb\n",
       "1    2.0  21.87  26.98    31.04     42.49  25.22\n",
       "2    3.6  17.49  21.20    26.57     35.10  20.67\n",
       "3    3.6  16.94  20.50    25.22     33.50  19.88\n",
       "4    2.4  24.77  31.98    35.53     51.88  28.68"
      ]
     },
     "execution_count": 70,
     "metadata": {},
     "output_type": "execute_result"
    }
   ],
   "source": [
    "(fuel_econ\n",
    "    .select_dtypes('float')\n",
    "    .iloc[1:]\n",
    "    .applymap(lambda x: float('{:0.2f}'.format(x)))\n",
    "    .head(4))"
   ]
  },
  {
   "cell_type": "code",
   "execution_count": 71,
   "id": "2a31f69f",
   "metadata": {},
   "outputs": [
    {
     "name": "stdout",
     "output_type": "stream",
     "text": [
      "descriptor 'title' for 'str' objects doesn't apply to a 'float' object\n"
     ]
    }
   ],
   "source": [
    "try:\n",
    "    (pokemon\n",
    "        .select_dtypes('object')\n",
    "        .applymap(str.title))\n",
    "except Exception as e:\n",
    "    print(e)"
   ]
  },
  {
   "cell_type": "code",
   "execution_count": 72,
   "id": "a74b302c",
   "metadata": {},
   "outputs": [
    {
     "data": {
      "text/html": [
       "<div>\n",
       "<style scoped>\n",
       "    .dataframe tbody tr th:only-of-type {\n",
       "        vertical-align: middle;\n",
       "    }\n",
       "\n",
       "    .dataframe tbody tr th {\n",
       "        vertical-align: top;\n",
       "    }\n",
       "\n",
       "    .dataframe thead th {\n",
       "        text-align: right;\n",
       "    }\n",
       "</style>\n",
       "<table border=\"1\" class=\"dataframe\">\n",
       "  <thead>\n",
       "    <tr style=\"text-align: right;\">\n",
       "      <th></th>\n",
       "      <th>species</th>\n",
       "      <th>type_1</th>\n",
       "      <th>type_2</th>\n",
       "    </tr>\n",
       "  </thead>\n",
       "  <tbody>\n",
       "    <tr>\n",
       "      <th>0</th>\n",
       "      <td>Bulbasaur</td>\n",
       "      <td>Grass</td>\n",
       "      <td>Poison</td>\n",
       "    </tr>\n",
       "    <tr>\n",
       "      <th>1</th>\n",
       "      <td>Ivysaur</td>\n",
       "      <td>Grass</td>\n",
       "      <td>Poison</td>\n",
       "    </tr>\n",
       "    <tr>\n",
       "      <th>2</th>\n",
       "      <td>Venusaur</td>\n",
       "      <td>Grass</td>\n",
       "      <td>Poison</td>\n",
       "    </tr>\n",
       "    <tr>\n",
       "      <th>3</th>\n",
       "      <td>Charmander</td>\n",
       "      <td>Fire</td>\n",
       "      <td>NaN</td>\n",
       "    </tr>\n",
       "    <tr>\n",
       "      <th>4</th>\n",
       "      <td>Charmeleon</td>\n",
       "      <td>Fire</td>\n",
       "      <td>NaN</td>\n",
       "    </tr>\n",
       "    <tr>\n",
       "      <th>...</th>\n",
       "      <td>...</td>\n",
       "      <td>...</td>\n",
       "      <td>...</td>\n",
       "    </tr>\n",
       "    <tr>\n",
       "      <th>802</th>\n",
       "      <td>Poipole</td>\n",
       "      <td>Poison</td>\n",
       "      <td>NaN</td>\n",
       "    </tr>\n",
       "    <tr>\n",
       "      <th>803</th>\n",
       "      <td>Naganadel</td>\n",
       "      <td>Poison</td>\n",
       "      <td>Dragon</td>\n",
       "    </tr>\n",
       "    <tr>\n",
       "      <th>804</th>\n",
       "      <td>Stakataka</td>\n",
       "      <td>Rock</td>\n",
       "      <td>Steel</td>\n",
       "    </tr>\n",
       "    <tr>\n",
       "      <th>805</th>\n",
       "      <td>Blacephalon</td>\n",
       "      <td>Fire</td>\n",
       "      <td>Ghost</td>\n",
       "    </tr>\n",
       "    <tr>\n",
       "      <th>806</th>\n",
       "      <td>Zeraora</td>\n",
       "      <td>Electric</td>\n",
       "      <td>NaN</td>\n",
       "    </tr>\n",
       "  </tbody>\n",
       "</table>\n",
       "<p>807 rows × 3 columns</p>\n",
       "</div>"
      ],
      "text/plain": [
       "         species    type_1  type_2\n",
       "0      Bulbasaur     Grass  Poison\n",
       "1        Ivysaur     Grass  Poison\n",
       "2       Venusaur     Grass  Poison\n",
       "3     Charmander      Fire     NaN\n",
       "4     Charmeleon      Fire     NaN\n",
       "..           ...       ...     ...\n",
       "802      Poipole    Poison     NaN\n",
       "803    Naganadel    Poison  Dragon\n",
       "804    Stakataka      Rock   Steel\n",
       "805  Blacephalon      Fire   Ghost\n",
       "806      Zeraora  Electric     NaN\n",
       "\n",
       "[807 rows x 3 columns]"
      ]
     },
     "execution_count": 72,
     "metadata": {},
     "output_type": "execute_result"
    }
   ],
   "source": [
    "(pokemon\n",
    "    .select_dtypes('object')\n",
    "    .applymap(str.title, na_action='ignore'))"
   ]
  },
  {
   "cell_type": "markdown",
   "id": "4c05f542",
   "metadata": {},
   "source": [
    "# Day 12/100"
   ]
  },
  {
   "cell_type": "markdown",
   "id": "cf7c2ce1",
   "metadata": {},
   "source": [
    "##### `apply` on a Series"
   ]
  },
  {
   "cell_type": "code",
   "execution_count": 73,
   "id": "ec56b830",
   "metadata": {},
   "outputs": [
    {
     "data": {
      "text/plain": [
       "0    Jonathan\n",
       "1     Michael\n",
       "2       Roger\n",
       "3     Michael\n",
       "4      Robert\n",
       "5    Jonathan\n",
       "dtype: object"
      ]
     },
     "execution_count": 73,
     "metadata": {},
     "output_type": "execute_result"
    }
   ],
   "source": [
    "names"
   ]
  },
  {
   "cell_type": "code",
   "execution_count": 74,
   "id": "e9f0505a",
   "metadata": {},
   "outputs": [
    {
     "data": {
      "text/plain": [
       "0    8\n",
       "1    7\n",
       "2    5\n",
       "3    7\n",
       "4    6\n",
       "5    8\n",
       "dtype: int64"
      ]
     },
     "execution_count": 74,
     "metadata": {},
     "output_type": "execute_result"
    }
   ],
   "source": [
    "names.apply(len)"
   ]
  },
  {
   "cell_type": "code",
   "execution_count": 75,
   "id": "7e275b0f",
   "metadata": {},
   "outputs": [
    {
     "data": {
      "text/plain": [
       "0    8\n",
       "1    7\n",
       "2    5\n",
       "3    7\n",
       "4    6\n",
       "5    8\n",
       "dtype: int64"
      ]
     },
     "execution_count": 75,
     "metadata": {},
     "output_type": "execute_result"
    }
   ],
   "source": [
    "names.map(len)"
   ]
  },
  {
   "cell_type": "markdown",
   "id": "a6ed2354",
   "metadata": {},
   "source": [
    "##### `apply` on a DataFrame"
   ]
  },
  {
   "cell_type": "code",
   "execution_count": 76,
   "id": "af5f241f",
   "metadata": {},
   "outputs": [
    {
     "data": {
      "text/plain": [
       "cylinders      5.468313\n",
       "displ          2.950573\n",
       "pv2           23.660982\n",
       "pv4           59.239247\n",
       "city          21.830462\n",
       "UCity         28.044011\n",
       "highway       29.973842\n",
       "UHighway      42.850295\n",
       "comb          24.791339\n",
       "co2          376.564266\n",
       "feScore        5.668872\n",
       "ghgScore       5.659201\n",
       "dtype: float64"
      ]
     },
     "execution_count": 76,
     "metadata": {},
     "output_type": "execute_result"
    }
   ],
   "source": [
    "# axis=0 (index) --> default\n",
    "(fuel_econ\n",
    "    .select_dtypes('number')\n",
    "    .iloc[:, 2:]\n",
    "    .apply('mean', axis=0))"
   ]
  },
  {
   "cell_type": "code",
   "execution_count": 77,
   "id": "f5d9e929",
   "metadata": {},
   "outputs": [
    {
     "data": {
      "text/plain": [
       "0       56.336158\n",
       "1       50.716717\n",
       "2       55.303058\n",
       "3       56.303158\n",
       "4       50.020758\n",
       "          ...    \n",
       "3924    34.910475\n",
       "3925    49.267217\n",
       "3926    49.166667\n",
       "3927    53.792367\n",
       "3928    55.144800\n",
       "Length: 3929, dtype: float64"
      ]
     },
     "execution_count": 77,
     "metadata": {},
     "output_type": "execute_result"
    }
   ],
   "source": [
    "# axis=1 (columns)\n",
    "(fuel_econ\n",
    "    .select_dtypes('number')\n",
    "    .iloc[:, 2:]\n",
    "    .apply('mean', axis=1))"
   ]
  },
  {
   "cell_type": "code",
   "execution_count": 78,
   "id": "82efca88",
   "metadata": {},
   "outputs": [
    {
     "data": {
      "text/plain": [
       "cylinders    2.148500e+04\n",
       "displ        1.159280e+04\n",
       "pv2          9.296400e+04\n",
       "pv4          2.327510e+05\n",
       "city         8.577188e+04\n",
       "UCity        1.101849e+05\n",
       "highway      1.177672e+05\n",
       "UHighway     1.683588e+05\n",
       "comb         9.740517e+04\n",
       "co2          1.479521e+06\n",
       "feScore      2.227300e+04\n",
       "ghgScore     2.223500e+04\n",
       "dtype: float64"
      ]
     },
     "execution_count": 78,
     "metadata": {},
     "output_type": "execute_result"
    }
   ],
   "source": [
    "(fuel_econ\n",
    "     .select_dtypes(include='number')\n",
    "     .iloc[:, 2:]\n",
    "     .apply(func=np.sum, axis=0)\n",
    ")"
   ]
  },
  {
   "cell_type": "markdown",
   "id": "e97254d9",
   "metadata": {},
   "source": [
    "# Day 13/100"
   ]
  },
  {
   "attachments": {
    "pika-2022-06-28T17_55_31.482Z.png": {
     "image/png": "[encoded data removed]"
    }
   },
   "cell_type": "markdown",
   "id": "4aa1f981",
   "metadata": {},
   "source": [
    "![pika-2022-06-28T17_55_31.482Z.png](attachment:pika-2022-06-28T17_55_31.482Z.png)"
   ]
  },
  {
   "cell_type": "markdown",
   "id": "9458edc2",
   "metadata": {},
   "source": [
    "# Day 14/100"
   ]
  },
  {
   "cell_type": "code",
   "execution_count": 79,
   "id": "9ad8e3f0",
   "metadata": {},
   "outputs": [],
   "source": [
    "brands = ['BMW', 'Mercedes-Benz', 'Porsche', 'Ford', 'Chevrolet', 'MINI', 'Audi', \n",
    "       'Volkswagen', 'Hyundai', 'Dodge', 'Lexus', 'Kia', 'Cadillac', 'Toyota',\n",
    "       'Infiniti', 'Honda', 'Jaguar', 'Mazda', 'Nissan', 'Buick', 'Subaru',\n",
    "       'Chrysler', 'Lincoln', 'Volvo', 'Acura', 'Bentley', 'Mitsubishi',\n",
    "       'Rolls-Royce', 'Maserati', 'Scion', 'Fiat', 'Ferrari', 'Genesis',\n",
    "       'Aston Martin', 'Suzuki', 'Roush Performance', 'Lotus', 'Alfa Romeo',\n",
    "       'Karma']"
   ]
  },
  {
   "cell_type": "code",
   "execution_count": 80,
   "id": "392b538f",
   "metadata": {},
   "outputs": [],
   "source": [
    "country = ['Germany', 'Germany', 'Germany', 'USA', 'USA', 'UK', 'Germany', 'Germany',\n",
    "          'South Korea', 'USA', 'Japan', 'South Korea', 'USA', 'Japan',\n",
    "          'Japan', 'Japan', 'UK', 'Japan', 'Japan', 'USA', 'Japan',\n",
    "          'USA', 'USA', 'Sweden', 'Japan', 'UK', 'Japan',\n",
    "          'UK', 'Italy', 'Japan', 'Italy', 'Italy', 'South Korea', \n",
    "          'UK', 'Japan', 'USA', 'UK', 'Italy', 'USA']"
   ]
  },
  {
   "cell_type": "code",
   "execution_count": 81,
   "id": "bf921603",
   "metadata": {},
   "outputs": [],
   "source": [
    "country_map = {b:c for b,c in zip(brands, country)}"
   ]
  },
  {
   "cell_type": "code",
   "execution_count": 82,
   "id": "34e04d10",
   "metadata": {},
   "outputs": [
    {
     "data": {
      "text/plain": [
       "0        Nissan\n",
       "1    Volkswagen\n",
       "2    Volkswagen\n",
       "3    Volkswagen\n",
       "4     Chevrolet\n",
       "Name: make, dtype: object"
      ]
     },
     "execution_count": 82,
     "metadata": {},
     "output_type": "execute_result"
    }
   ],
   "source": [
    "make = fuel_econ.make\n",
    "make.head()"
   ]
  },
  {
   "cell_type": "code",
   "execution_count": 83,
   "id": "38e38830",
   "metadata": {},
   "outputs": [
    {
     "name": "stdout",
     "output_type": "stream",
     "text": [
      "520 µs ± 93.9 µs per loop (mean ± std. dev. of 7 runs, 1,000 loops each)\n"
     ]
    }
   ],
   "source": [
    "%%timeit\n",
    "make.map(country_map)"
   ]
  },
  {
   "cell_type": "code",
   "execution_count": 84,
   "id": "10cadc3b",
   "metadata": {
    "scrolled": true
   },
   "outputs": [
    {
     "name": "stdout",
     "output_type": "stream",
     "text": [
      "4.5 ms ± 148 µs per loop (mean ± std. dev. of 7 runs, 100 loops each)\n"
     ]
    }
   ],
   "source": [
    "%%timeit\n",
    "make.replace(country_map)"
   ]
  },
  {
   "cell_type": "markdown",
   "id": "fde53868",
   "metadata": {},
   "source": [
    "# Day 15/100"
   ]
  },
  {
   "cell_type": "markdown",
   "id": "298f689a",
   "metadata": {},
   "source": [
    "##### Using `apply`"
   ]
  },
  {
   "cell_type": "code",
   "execution_count": 85,
   "id": "55d1806a",
   "metadata": {},
   "outputs": [
    {
     "name": "stdout",
     "output_type": "stream",
     "text": [
      "1.22 ms ± 94.3 µs per loop (mean ± std. dev. of 7 runs, 1,000 loops each)\n"
     ]
    }
   ],
   "source": [
    "%%timeit\n",
    "(fuel_econ\n",
    "    .select_dtypes('float')\n",
    "    .apply(lambda x : x.sum()))"
   ]
  },
  {
   "cell_type": "markdown",
   "id": "e02ed09c",
   "metadata": {},
   "source": [
    "##### Using a vectorized method"
   ]
  },
  {
   "cell_type": "code",
   "execution_count": 86,
   "id": "3d32626d",
   "metadata": {},
   "outputs": [
    {
     "name": "stdout",
     "output_type": "stream",
     "text": [
      "856 µs ± 21.9 µs per loop (mean ± std. dev. of 7 runs, 1,000 loops each)\n"
     ]
    }
   ],
   "source": [
    "%%timeit\n",
    "(fuel_econ\n",
    "    .select_dtypes('float')\n",
    "    .sum())"
   ]
  },
  {
   "cell_type": "markdown",
   "id": "78fb7e14",
   "metadata": {},
   "source": [
    "# Day 16/100"
   ]
  },
  {
   "cell_type": "code",
   "execution_count": 87,
   "id": "37bb7eed",
   "metadata": {},
   "outputs": [
    {
     "data": {
      "text/html": [
       "<div>\n",
       "<style scoped>\n",
       "    .dataframe tbody tr th:only-of-type {\n",
       "        vertical-align: middle;\n",
       "    }\n",
       "\n",
       "    .dataframe tbody tr th {\n",
       "        vertical-align: top;\n",
       "    }\n",
       "\n",
       "    .dataframe thead th {\n",
       "        text-align: right;\n",
       "    }\n",
       "</style>\n",
       "<table border=\"1\" class=\"dataframe\">\n",
       "  <thead>\n",
       "    <tr style=\"text-align: right;\">\n",
       "      <th></th>\n",
       "      <th>date</th>\n",
       "      <th>meantemp</th>\n",
       "      <th>humidity</th>\n",
       "      <th>wind_speed</th>\n",
       "      <th>meanpressure</th>\n",
       "    </tr>\n",
       "  </thead>\n",
       "  <tbody>\n",
       "    <tr>\n",
       "      <th>0</th>\n",
       "      <td>2013-01-01</td>\n",
       "      <td>10.000000</td>\n",
       "      <td>84.500000</td>\n",
       "      <td>0.000000</td>\n",
       "      <td>1015.666667</td>\n",
       "    </tr>\n",
       "    <tr>\n",
       "      <th>1</th>\n",
       "      <td>2013-01-02</td>\n",
       "      <td>7.400000</td>\n",
       "      <td>92.000000</td>\n",
       "      <td>2.980000</td>\n",
       "      <td>1017.800000</td>\n",
       "    </tr>\n",
       "    <tr>\n",
       "      <th>2</th>\n",
       "      <td>2013-01-03</td>\n",
       "      <td>7.166667</td>\n",
       "      <td>87.000000</td>\n",
       "      <td>4.633333</td>\n",
       "      <td>1018.666667</td>\n",
       "    </tr>\n",
       "    <tr>\n",
       "      <th>3</th>\n",
       "      <td>2013-01-04</td>\n",
       "      <td>8.666667</td>\n",
       "      <td>71.333333</td>\n",
       "      <td>1.233333</td>\n",
       "      <td>1017.166667</td>\n",
       "    </tr>\n",
       "    <tr>\n",
       "      <th>4</th>\n",
       "      <td>2013-01-05</td>\n",
       "      <td>6.000000</td>\n",
       "      <td>86.833333</td>\n",
       "      <td>3.700000</td>\n",
       "      <td>1016.500000</td>\n",
       "    </tr>\n",
       "  </tbody>\n",
       "</table>\n",
       "</div>"
      ],
      "text/plain": [
       "         date   meantemp   humidity  wind_speed  meanpressure\n",
       "0  2013-01-01  10.000000  84.500000    0.000000   1015.666667\n",
       "1  2013-01-02   7.400000  92.000000    2.980000   1017.800000\n",
       "2  2013-01-03   7.166667  87.000000    4.633333   1018.666667\n",
       "3  2013-01-04   8.666667  71.333333    1.233333   1017.166667\n",
       "4  2013-01-05   6.000000  86.833333    3.700000   1016.500000"
      ]
     },
     "execution_count": 87,
     "metadata": {},
     "output_type": "execute_result"
    }
   ],
   "source": [
    "delhi_climate = pd.read_csv('datasets/delhi_daily_climate.csv')\n",
    "delhi_climate.head()"
   ]
  },
  {
   "cell_type": "code",
   "execution_count": 88,
   "id": "4751fd79",
   "metadata": {},
   "outputs": [
    {
     "name": "stdout",
     "output_type": "stream",
     "text": [
      "<class 'pandas.core.frame.DataFrame'>\n",
      "RangeIndex: 1462 entries, 0 to 1461\n",
      "Data columns (total 5 columns):\n",
      " #   Column        Non-Null Count  Dtype  \n",
      "---  ------        --------------  -----  \n",
      " 0   date          1462 non-null   object \n",
      " 1   meantemp      1462 non-null   float64\n",
      " 2   humidity      1462 non-null   float64\n",
      " 3   wind_speed    1462 non-null   float64\n",
      " 4   meanpressure  1462 non-null   float64\n",
      "dtypes: float64(4), object(1)\n",
      "memory usage: 57.2+ KB\n"
     ]
    }
   ],
   "source": [
    "delhi_climate.info()"
   ]
  },
  {
   "cell_type": "code",
   "execution_count": 89,
   "id": "d1d66ea7",
   "metadata": {},
   "outputs": [],
   "source": [
    "delhi_climate['date'] = pd.to_datetime(delhi_climate['date'])"
   ]
  },
  {
   "cell_type": "code",
   "execution_count": 90,
   "id": "c2156d12",
   "metadata": {},
   "outputs": [
    {
     "name": "stdout",
     "output_type": "stream",
     "text": [
      "<class 'pandas.core.frame.DataFrame'>\n",
      "RangeIndex: 1462 entries, 0 to 1461\n",
      "Data columns (total 5 columns):\n",
      " #   Column        Non-Null Count  Dtype         \n",
      "---  ------        --------------  -----         \n",
      " 0   date          1462 non-null   datetime64[ns]\n",
      " 1   meantemp      1462 non-null   float64       \n",
      " 2   humidity      1462 non-null   float64       \n",
      " 3   wind_speed    1462 non-null   float64       \n",
      " 4   meanpressure  1462 non-null   float64       \n",
      "dtypes: datetime64[ns](1), float64(4)\n",
      "memory usage: 57.2 KB\n"
     ]
    }
   ],
   "source": [
    "delhi_climate.info()"
   ]
  },
  {
   "cell_type": "code",
   "execution_count": 91,
   "id": "bea39b3f",
   "metadata": {},
   "outputs": [],
   "source": [
    "delhi_climate = pd.read_csv('datasets/delhi_daily_climate.csv', parse_dates=['date'])"
   ]
  },
  {
   "cell_type": "code",
   "execution_count": 92,
   "id": "ec474b88",
   "metadata": {},
   "outputs": [
    {
     "name": "stdout",
     "output_type": "stream",
     "text": [
      "<class 'pandas.core.frame.DataFrame'>\n",
      "RangeIndex: 1462 entries, 0 to 1461\n",
      "Data columns (total 5 columns):\n",
      " #   Column        Non-Null Count  Dtype         \n",
      "---  ------        --------------  -----         \n",
      " 0   date          1462 non-null   datetime64[ns]\n",
      " 1   meantemp      1462 non-null   float64       \n",
      " 2   humidity      1462 non-null   float64       \n",
      " 3   wind_speed    1462 non-null   float64       \n",
      " 4   meanpressure  1462 non-null   float64       \n",
      "dtypes: datetime64[ns](1), float64(4)\n",
      "memory usage: 57.2 KB\n"
     ]
    }
   ],
   "source": [
    "delhi_climate.info()"
   ]
  },
  {
   "cell_type": "markdown",
   "id": "c7c94b72",
   "metadata": {},
   "source": [
    "# Day 17/100"
   ]
  },
  {
   "cell_type": "code",
   "execution_count": 93,
   "id": "57df7ad0",
   "metadata": {},
   "outputs": [],
   "source": [
    "tz_naive = pd.Series(['2019-07-01 11:00:00' ,\n",
    "                '2019-07-02 11:30:00' ,\n",
    "                '2019-07-03 12:00:00' ,\n",
    "                '2019-07-04 12:30:00'])\n",
    "\n",
    "tz_aware = pd.Series(['2019-07-01 11:00:00+00:00' ,\n",
    "                '2019-07-02 11:30:00+00:00' ,\n",
    "                '2019-07-03 12:00:00+00:00' ,\n",
    "                '2019-07-04 12:30:00+00:00'])\n",
    "\n",
    "tz_naive = pd.to_datetime(tz_naive)\n",
    "tz_aware = pd.to_datetime(tz_aware)"
   ]
  },
  {
   "cell_type": "markdown",
   "id": "2d6d2ab7",
   "metadata": {},
   "source": [
    "##### Timezone-naive datetime column"
   ]
  },
  {
   "cell_type": "code",
   "execution_count": 94,
   "id": "e4ec6f33",
   "metadata": {},
   "outputs": [
    {
     "data": {
      "text/plain": [
       "0   2019-07-01 11:00:00\n",
       "1   2019-07-02 11:30:00\n",
       "2   2019-07-03 12:00:00\n",
       "3   2019-07-04 12:30:00\n",
       "dtype: datetime64[ns]"
      ]
     },
     "execution_count": 94,
     "metadata": {},
     "output_type": "execute_result"
    }
   ],
   "source": [
    "tz_naive"
   ]
  },
  {
   "cell_type": "markdown",
   "id": "6fbb0162",
   "metadata": {},
   "source": [
    "##### Timezone-aware datetime column"
   ]
  },
  {
   "cell_type": "code",
   "execution_count": 95,
   "id": "a2b9c3cb",
   "metadata": {},
   "outputs": [
    {
     "data": {
      "text/plain": [
       "0   2019-07-01 11:00:00+00:00\n",
       "1   2019-07-02 11:30:00+00:00\n",
       "2   2019-07-03 12:00:00+00:00\n",
       "3   2019-07-04 12:30:00+00:00\n",
       "dtype: datetime64[ns, UTC]"
      ]
     },
     "execution_count": 95,
     "metadata": {},
     "output_type": "execute_result"
    }
   ],
   "source": [
    "tz_aware"
   ]
  },
  {
   "cell_type": "markdown",
   "id": "5c00e883",
   "metadata": {},
   "source": [
    "##### From timezone-naive to timezone-aware"
   ]
  },
  {
   "cell_type": "code",
   "execution_count": 96,
   "id": "3171496d",
   "metadata": {},
   "outputs": [
    {
     "data": {
      "text/plain": [
       "0   2019-07-01 11:00:00\n",
       "1   2019-07-02 11:30:00\n",
       "2   2019-07-03 12:00:00\n",
       "3   2019-07-04 12:30:00\n",
       "dtype: datetime64[ns]"
      ]
     },
     "execution_count": 96,
     "metadata": {},
     "output_type": "execute_result"
    }
   ],
   "source": [
    "tz_naive"
   ]
  },
  {
   "cell_type": "code",
   "execution_count": 97,
   "id": "d3a52a83",
   "metadata": {},
   "outputs": [
    {
     "data": {
      "text/plain": [
       "0   2019-07-01 11:00:00+00:00\n",
       "1   2019-07-02 11:30:00+00:00\n",
       "2   2019-07-03 12:00:00+00:00\n",
       "3   2019-07-04 12:30:00+00:00\n",
       "dtype: datetime64[ns, UTC]"
      ]
     },
     "execution_count": 97,
     "metadata": {},
     "output_type": "execute_result"
    }
   ],
   "source": [
    "pd.to_datetime(tz_naive, utc=True)"
   ]
  },
  {
   "cell_type": "markdown",
   "id": "73dae7a4",
   "metadata": {},
   "source": [
    "# Day 18/100"
   ]
  },
  {
   "cell_type": "code",
   "execution_count": 98,
   "id": "8d07058f",
   "metadata": {},
   "outputs": [
    {
     "data": {
      "text/html": [
       "<div>\n",
       "<style scoped>\n",
       "    .dataframe tbody tr th:only-of-type {\n",
       "        vertical-align: middle;\n",
       "    }\n",
       "\n",
       "    .dataframe tbody tr th {\n",
       "        vertical-align: top;\n",
       "    }\n",
       "\n",
       "    .dataframe thead th {\n",
       "        text-align: right;\n",
       "    }\n",
       "</style>\n",
       "<table border=\"1\" class=\"dataframe\">\n",
       "  <thead>\n",
       "    <tr style=\"text-align: right;\">\n",
       "      <th></th>\n",
       "      <th>meantemp</th>\n",
       "      <th>humidity</th>\n",
       "      <th>wind_speed</th>\n",
       "      <th>meanpressure</th>\n",
       "    </tr>\n",
       "  </thead>\n",
       "  <tbody>\n",
       "    <tr>\n",
       "      <th>count</th>\n",
       "      <td>1462.000000</td>\n",
       "      <td>1462.000000</td>\n",
       "      <td>1462.000000</td>\n",
       "      <td>1462.000000</td>\n",
       "    </tr>\n",
       "    <tr>\n",
       "      <th>mean</th>\n",
       "      <td>25.495521</td>\n",
       "      <td>60.771702</td>\n",
       "      <td>6.802209</td>\n",
       "      <td>1011.104548</td>\n",
       "    </tr>\n",
       "    <tr>\n",
       "      <th>std</th>\n",
       "      <td>7.348103</td>\n",
       "      <td>16.769652</td>\n",
       "      <td>4.561602</td>\n",
       "      <td>180.231668</td>\n",
       "    </tr>\n",
       "    <tr>\n",
       "      <th>min</th>\n",
       "      <td>6.000000</td>\n",
       "      <td>13.428571</td>\n",
       "      <td>0.000000</td>\n",
       "      <td>-3.041667</td>\n",
       "    </tr>\n",
       "    <tr>\n",
       "      <th>25%</th>\n",
       "      <td>18.857143</td>\n",
       "      <td>50.375000</td>\n",
       "      <td>3.475000</td>\n",
       "      <td>1001.580357</td>\n",
       "    </tr>\n",
       "    <tr>\n",
       "      <th>50%</th>\n",
       "      <td>27.714286</td>\n",
       "      <td>62.625000</td>\n",
       "      <td>6.221667</td>\n",
       "      <td>1008.563492</td>\n",
       "    </tr>\n",
       "    <tr>\n",
       "      <th>75%</th>\n",
       "      <td>31.305804</td>\n",
       "      <td>72.218750</td>\n",
       "      <td>9.238235</td>\n",
       "      <td>1014.944901</td>\n",
       "    </tr>\n",
       "    <tr>\n",
       "      <th>max</th>\n",
       "      <td>38.714286</td>\n",
       "      <td>100.000000</td>\n",
       "      <td>42.220000</td>\n",
       "      <td>7679.333333</td>\n",
       "    </tr>\n",
       "  </tbody>\n",
       "</table>\n",
       "</div>"
      ],
      "text/plain": [
       "          meantemp     humidity   wind_speed  meanpressure\n",
       "count  1462.000000  1462.000000  1462.000000   1462.000000\n",
       "mean     25.495521    60.771702     6.802209   1011.104548\n",
       "std       7.348103    16.769652     4.561602    180.231668\n",
       "min       6.000000    13.428571     0.000000     -3.041667\n",
       "25%      18.857143    50.375000     3.475000   1001.580357\n",
       "50%      27.714286    62.625000     6.221667   1008.563492\n",
       "75%      31.305804    72.218750     9.238235   1014.944901\n",
       "max      38.714286   100.000000    42.220000   7679.333333"
      ]
     },
     "execution_count": 98,
     "metadata": {},
     "output_type": "execute_result"
    }
   ],
   "source": [
    "delhi_climate.describe()"
   ]
  },
  {
   "cell_type": "code",
   "execution_count": 99,
   "id": "9158fceb",
   "metadata": {},
   "outputs": [
    {
     "data": {
      "text/html": [
       "<div>\n",
       "<style scoped>\n",
       "    .dataframe tbody tr th:only-of-type {\n",
       "        vertical-align: middle;\n",
       "    }\n",
       "\n",
       "    .dataframe tbody tr th {\n",
       "        vertical-align: top;\n",
       "    }\n",
       "\n",
       "    .dataframe thead th {\n",
       "        text-align: right;\n",
       "    }\n",
       "</style>\n",
       "<table border=\"1\" class=\"dataframe\">\n",
       "  <thead>\n",
       "    <tr style=\"text-align: right;\">\n",
       "      <th></th>\n",
       "      <th>meantemp</th>\n",
       "      <th>humidity</th>\n",
       "      <th>wind_speed</th>\n",
       "      <th>meanpressure</th>\n",
       "    </tr>\n",
       "  </thead>\n",
       "  <tbody>\n",
       "    <tr>\n",
       "      <th>count</th>\n",
       "      <td>1462.000000</td>\n",
       "      <td>1462.000000</td>\n",
       "      <td>1462.000000</td>\n",
       "      <td>1462.000000</td>\n",
       "    </tr>\n",
       "    <tr>\n",
       "      <th>mean</th>\n",
       "      <td>25.495521</td>\n",
       "      <td>60.771702</td>\n",
       "      <td>6.802209</td>\n",
       "      <td>1011.104548</td>\n",
       "    </tr>\n",
       "    <tr>\n",
       "      <th>std</th>\n",
       "      <td>7.348103</td>\n",
       "      <td>16.769652</td>\n",
       "      <td>4.561602</td>\n",
       "      <td>180.231668</td>\n",
       "    </tr>\n",
       "    <tr>\n",
       "      <th>min</th>\n",
       "      <td>6.000000</td>\n",
       "      <td>13.428571</td>\n",
       "      <td>0.000000</td>\n",
       "      <td>-3.041667</td>\n",
       "    </tr>\n",
       "    <tr>\n",
       "      <th>10%</th>\n",
       "      <td>14.625000</td>\n",
       "      <td>36.205000</td>\n",
       "      <td>1.625000</td>\n",
       "      <td>998.142857</td>\n",
       "    </tr>\n",
       "    <tr>\n",
       "      <th>25%</th>\n",
       "      <td>18.857143</td>\n",
       "      <td>50.375000</td>\n",
       "      <td>3.475000</td>\n",
       "      <td>1001.580357</td>\n",
       "    </tr>\n",
       "    <tr>\n",
       "      <th>50%</th>\n",
       "      <td>27.714286</td>\n",
       "      <td>62.625000</td>\n",
       "      <td>6.221667</td>\n",
       "      <td>1008.563492</td>\n",
       "    </tr>\n",
       "    <tr>\n",
       "      <th>75%</th>\n",
       "      <td>31.305804</td>\n",
       "      <td>72.218750</td>\n",
       "      <td>9.238235</td>\n",
       "      <td>1014.944901</td>\n",
       "    </tr>\n",
       "    <tr>\n",
       "      <th>90%</th>\n",
       "      <td>33.705357</td>\n",
       "      <td>81.846429</td>\n",
       "      <td>12.608125</td>\n",
       "      <td>1017.750000</td>\n",
       "    </tr>\n",
       "    <tr>\n",
       "      <th>max</th>\n",
       "      <td>38.714286</td>\n",
       "      <td>100.000000</td>\n",
       "      <td>42.220000</td>\n",
       "      <td>7679.333333</td>\n",
       "    </tr>\n",
       "  </tbody>\n",
       "</table>\n",
       "</div>"
      ],
      "text/plain": [
       "          meantemp     humidity   wind_speed  meanpressure\n",
       "count  1462.000000  1462.000000  1462.000000   1462.000000\n",
       "mean     25.495521    60.771702     6.802209   1011.104548\n",
       "std       7.348103    16.769652     4.561602    180.231668\n",
       "min       6.000000    13.428571     0.000000     -3.041667\n",
       "10%      14.625000    36.205000     1.625000    998.142857\n",
       "25%      18.857143    50.375000     3.475000   1001.580357\n",
       "50%      27.714286    62.625000     6.221667   1008.563492\n",
       "75%      31.305804    72.218750     9.238235   1014.944901\n",
       "90%      33.705357    81.846429    12.608125   1017.750000\n",
       "max      38.714286   100.000000    42.220000   7679.333333"
      ]
     },
     "execution_count": 99,
     "metadata": {},
     "output_type": "execute_result"
    }
   ],
   "source": [
    "delhi_climate.describe(percentiles = [0.1, 0.25, 0.5, 0.75, 0.9])"
   ]
  },
  {
   "cell_type": "markdown",
   "id": "38cf5adb",
   "metadata": {},
   "source": [
    "##### include columns with `float` data type"
   ]
  },
  {
   "cell_type": "code",
   "execution_count": 100,
   "id": "fd73ab16",
   "metadata": {},
   "outputs": [
    {
     "data": {
      "text/html": [
       "<div>\n",
       "<style scoped>\n",
       "    .dataframe tbody tr th:only-of-type {\n",
       "        vertical-align: middle;\n",
       "    }\n",
       "\n",
       "    .dataframe tbody tr th {\n",
       "        vertical-align: top;\n",
       "    }\n",
       "\n",
       "    .dataframe thead th {\n",
       "        text-align: right;\n",
       "    }\n",
       "</style>\n",
       "<table border=\"1\" class=\"dataframe\">\n",
       "  <thead>\n",
       "    <tr style=\"text-align: right;\">\n",
       "      <th></th>\n",
       "      <th>height</th>\n",
       "      <th>weight</th>\n",
       "    </tr>\n",
       "  </thead>\n",
       "  <tbody>\n",
       "    <tr>\n",
       "      <th>count</th>\n",
       "      <td>807.000000</td>\n",
       "      <td>807.000000</td>\n",
       "    </tr>\n",
       "    <tr>\n",
       "      <th>mean</th>\n",
       "      <td>1.162454</td>\n",
       "      <td>61.771128</td>\n",
       "    </tr>\n",
       "    <tr>\n",
       "      <th>std</th>\n",
       "      <td>1.081030</td>\n",
       "      <td>111.519355</td>\n",
       "    </tr>\n",
       "    <tr>\n",
       "      <th>min</th>\n",
       "      <td>0.100000</td>\n",
       "      <td>0.100000</td>\n",
       "    </tr>\n",
       "    <tr>\n",
       "      <th>25%</th>\n",
       "      <td>0.600000</td>\n",
       "      <td>9.000000</td>\n",
       "    </tr>\n",
       "    <tr>\n",
       "      <th>50%</th>\n",
       "      <td>1.000000</td>\n",
       "      <td>27.000000</td>\n",
       "    </tr>\n",
       "    <tr>\n",
       "      <th>75%</th>\n",
       "      <td>1.500000</td>\n",
       "      <td>63.000000</td>\n",
       "    </tr>\n",
       "    <tr>\n",
       "      <th>max</th>\n",
       "      <td>14.500000</td>\n",
       "      <td>999.900000</td>\n",
       "    </tr>\n",
       "  </tbody>\n",
       "</table>\n",
       "</div>"
      ],
      "text/plain": [
       "           height      weight\n",
       "count  807.000000  807.000000\n",
       "mean     1.162454   61.771128\n",
       "std      1.081030  111.519355\n",
       "min      0.100000    0.100000\n",
       "25%      0.600000    9.000000\n",
       "50%      1.000000   27.000000\n",
       "75%      1.500000   63.000000\n",
       "max     14.500000  999.900000"
      ]
     },
     "execution_count": 100,
     "metadata": {},
     "output_type": "execute_result"
    }
   ],
   "source": [
    "pokemon.describe(include=['float'])"
   ]
  },
  {
   "cell_type": "markdown",
   "id": "561d0424",
   "metadata": {},
   "source": [
    "##### include all columns except `integer` columns"
   ]
  },
  {
   "cell_type": "code",
   "execution_count": 101,
   "id": "198d9433",
   "metadata": {
    "scrolled": true
   },
   "outputs": [
    {
     "data": {
      "text/html": [
       "<div>\n",
       "<style scoped>\n",
       "    .dataframe tbody tr th:only-of-type {\n",
       "        vertical-align: middle;\n",
       "    }\n",
       "\n",
       "    .dataframe tbody tr th {\n",
       "        vertical-align: top;\n",
       "    }\n",
       "\n",
       "    .dataframe thead th {\n",
       "        text-align: right;\n",
       "    }\n",
       "</style>\n",
       "<table border=\"1\" class=\"dataframe\">\n",
       "  <thead>\n",
       "    <tr style=\"text-align: right;\">\n",
       "      <th></th>\n",
       "      <th>species</th>\n",
       "      <th>height</th>\n",
       "      <th>weight</th>\n",
       "      <th>type_1</th>\n",
       "      <th>type_2</th>\n",
       "    </tr>\n",
       "  </thead>\n",
       "  <tbody>\n",
       "    <tr>\n",
       "      <th>count</th>\n",
       "      <td>807</td>\n",
       "      <td>807.000000</td>\n",
       "      <td>807.000000</td>\n",
       "      <td>807</td>\n",
       "      <td>405</td>\n",
       "    </tr>\n",
       "    <tr>\n",
       "      <th>unique</th>\n",
       "      <td>807</td>\n",
       "      <td>NaN</td>\n",
       "      <td>NaN</td>\n",
       "      <td>18</td>\n",
       "      <td>18</td>\n",
       "    </tr>\n",
       "    <tr>\n",
       "      <th>top</th>\n",
       "      <td>bulbasaur</td>\n",
       "      <td>NaN</td>\n",
       "      <td>NaN</td>\n",
       "      <td>water</td>\n",
       "      <td>flying</td>\n",
       "    </tr>\n",
       "    <tr>\n",
       "      <th>freq</th>\n",
       "      <td>1</td>\n",
       "      <td>NaN</td>\n",
       "      <td>NaN</td>\n",
       "      <td>114</td>\n",
       "      <td>95</td>\n",
       "    </tr>\n",
       "    <tr>\n",
       "      <th>mean</th>\n",
       "      <td>NaN</td>\n",
       "      <td>1.162454</td>\n",
       "      <td>61.771128</td>\n",
       "      <td>NaN</td>\n",
       "      <td>NaN</td>\n",
       "    </tr>\n",
       "    <tr>\n",
       "      <th>std</th>\n",
       "      <td>NaN</td>\n",
       "      <td>1.081030</td>\n",
       "      <td>111.519355</td>\n",
       "      <td>NaN</td>\n",
       "      <td>NaN</td>\n",
       "    </tr>\n",
       "    <tr>\n",
       "      <th>min</th>\n",
       "      <td>NaN</td>\n",
       "      <td>0.100000</td>\n",
       "      <td>0.100000</td>\n",
       "      <td>NaN</td>\n",
       "      <td>NaN</td>\n",
       "    </tr>\n",
       "    <tr>\n",
       "      <th>25%</th>\n",
       "      <td>NaN</td>\n",
       "      <td>0.600000</td>\n",
       "      <td>9.000000</td>\n",
       "      <td>NaN</td>\n",
       "      <td>NaN</td>\n",
       "    </tr>\n",
       "    <tr>\n",
       "      <th>50%</th>\n",
       "      <td>NaN</td>\n",
       "      <td>1.000000</td>\n",
       "      <td>27.000000</td>\n",
       "      <td>NaN</td>\n",
       "      <td>NaN</td>\n",
       "    </tr>\n",
       "    <tr>\n",
       "      <th>75%</th>\n",
       "      <td>NaN</td>\n",
       "      <td>1.500000</td>\n",
       "      <td>63.000000</td>\n",
       "      <td>NaN</td>\n",
       "      <td>NaN</td>\n",
       "    </tr>\n",
       "    <tr>\n",
       "      <th>max</th>\n",
       "      <td>NaN</td>\n",
       "      <td>14.500000</td>\n",
       "      <td>999.900000</td>\n",
       "      <td>NaN</td>\n",
       "      <td>NaN</td>\n",
       "    </tr>\n",
       "  </tbody>\n",
       "</table>\n",
       "</div>"
      ],
      "text/plain": [
       "          species      height      weight type_1  type_2\n",
       "count         807  807.000000  807.000000    807     405\n",
       "unique        807         NaN         NaN     18      18\n",
       "top     bulbasaur         NaN         NaN  water  flying\n",
       "freq            1         NaN         NaN    114      95\n",
       "mean          NaN    1.162454   61.771128    NaN     NaN\n",
       "std           NaN    1.081030  111.519355    NaN     NaN\n",
       "min           NaN    0.100000    0.100000    NaN     NaN\n",
       "25%           NaN    0.600000    9.000000    NaN     NaN\n",
       "50%           NaN    1.000000   27.000000    NaN     NaN\n",
       "75%           NaN    1.500000   63.000000    NaN     NaN\n",
       "max           NaN   14.500000  999.900000    NaN     NaN"
      ]
     },
     "execution_count": 101,
     "metadata": {},
     "output_type": "execute_result"
    }
   ],
   "source": [
    "pokemon.describe(exclude=['int'])"
   ]
  },
  {
   "cell_type": "markdown",
   "id": "69d42efc",
   "metadata": {},
   "source": [
    "# Day 19/100"
   ]
  },
  {
   "cell_type": "code",
   "execution_count": 102,
   "id": "ff0f2907",
   "metadata": {},
   "outputs": [
    {
     "data": {
      "text/plain": [
       "flying      95\n",
       "poison      32\n",
       "ground      32\n",
       "fairy       29\n",
       "psychic     29\n",
       "fighting    25\n",
       "steel       23\n",
       "grass       19\n",
       "dragon      18\n",
       "water       17\n",
       "dark        17\n",
       "ghost       16\n",
       "rock        14\n",
       "fire        11\n",
       "ice         11\n",
       "electric     8\n",
       "bug          5\n",
       "normal       4\n",
       "Name: type_2, dtype: int64"
      ]
     },
     "execution_count": 102,
     "metadata": {},
     "output_type": "execute_result"
    }
   ],
   "source": [
    "pokemon.type_2.value_counts()"
   ]
  },
  {
   "cell_type": "code",
   "execution_count": 103,
   "id": "2a07d4c0",
   "metadata": {},
   "outputs": [
    {
     "data": {
      "text/plain": [
       "NaN         402\n",
       "flying       95\n",
       "poison       32\n",
       "ground       32\n",
       "fairy        29\n",
       "psychic      29\n",
       "fighting     25\n",
       "steel        23\n",
       "grass        19\n",
       "dragon       18\n",
       "water        17\n",
       "dark         17\n",
       "ghost        16\n",
       "rock         14\n",
       "ice          11\n",
       "fire         11\n",
       "electric      8\n",
       "bug           5\n",
       "normal        4\n",
       "Name: type_2, dtype: int64"
      ]
     },
     "execution_count": 103,
     "metadata": {},
     "output_type": "execute_result"
    }
   ],
   "source": [
    "pokemon.type_2.value_counts(dropna=False)"
   ]
  },
  {
   "cell_type": "markdown",
   "id": "4e7bb42b",
   "metadata": {},
   "source": [
    "# Day 20/100"
   ]
  },
  {
   "cell_type": "code",
   "execution_count": 104,
   "id": "e0c487b6",
   "metadata": {},
   "outputs": [
    {
     "data": {
      "text/plain": [
       "0       Zack\n",
       "1      Jamie\n",
       "2     Anderw\n",
       "3       samy\n",
       "4    brandon\n",
       "dtype: object"
      ]
     },
     "execution_count": 104,
     "metadata": {},
     "output_type": "execute_result"
    }
   ],
   "source": [
    "names2 = pd.Series(['Zack', 'Jamie', 'Anderw', 'samy', 'brandon'])\n",
    "names2"
   ]
  },
  {
   "cell_type": "code",
   "execution_count": 105,
   "id": "067aa4cd",
   "metadata": {},
   "outputs": [
    {
     "data": {
      "text/plain": [
       "2     Anderw\n",
       "1      Jamie\n",
       "0       Zack\n",
       "4    brandon\n",
       "3       samy\n",
       "dtype: object"
      ]
     },
     "execution_count": 105,
     "metadata": {},
     "output_type": "execute_result"
    }
   ],
   "source": [
    "names2.sort_values()"
   ]
  },
  {
   "cell_type": "code",
   "execution_count": 106,
   "id": "9d14104f",
   "metadata": {},
   "outputs": [
    {
     "data": {
      "text/plain": [
       "2     Anderw\n",
       "4    brandon\n",
       "1      Jamie\n",
       "3       samy\n",
       "0       Zack\n",
       "dtype: object"
      ]
     },
     "execution_count": 106,
     "metadata": {},
     "output_type": "execute_result"
    }
   ],
   "source": [
    "names2.sort_values(key= lambda ser: ser.str.lower().to_numpy())"
   ]
  },
  {
   "cell_type": "markdown",
   "id": "e7c94708",
   "metadata": {},
   "source": [
    "# Day 21/100"
   ]
  },
  {
   "cell_type": "code",
   "execution_count": 107,
   "id": "a4c9ab3b",
   "metadata": {},
   "outputs": [],
   "source": [
    "pokemon_info = pokemon.loc[:, ['species', 'height', 'weight']]"
   ]
  },
  {
   "cell_type": "code",
   "execution_count": 108,
   "id": "48a67661",
   "metadata": {
    "scrolled": true
   },
   "outputs": [
    {
     "data": {
      "text/html": [
       "<div>\n",
       "<style scoped>\n",
       "    .dataframe tbody tr th:only-of-type {\n",
       "        vertical-align: middle;\n",
       "    }\n",
       "\n",
       "    .dataframe tbody tr th {\n",
       "        vertical-align: top;\n",
       "    }\n",
       "\n",
       "    .dataframe thead th {\n",
       "        text-align: right;\n",
       "    }\n",
       "</style>\n",
       "<table border=\"1\" class=\"dataframe\">\n",
       "  <thead>\n",
       "    <tr style=\"text-align: right;\">\n",
       "      <th></th>\n",
       "      <th>species</th>\n",
       "      <th>height</th>\n",
       "      <th>weight</th>\n",
       "    </tr>\n",
       "  </thead>\n",
       "  <tbody>\n",
       "    <tr>\n",
       "      <th>0</th>\n",
       "      <td>bulbasaur</td>\n",
       "      <td>0.7</td>\n",
       "      <td>6.9</td>\n",
       "    </tr>\n",
       "    <tr>\n",
       "      <th>1</th>\n",
       "      <td>ivysaur</td>\n",
       "      <td>1.0</td>\n",
       "      <td>13.0</td>\n",
       "    </tr>\n",
       "    <tr>\n",
       "      <th>2</th>\n",
       "      <td>venusaur</td>\n",
       "      <td>2.0</td>\n",
       "      <td>100.0</td>\n",
       "    </tr>\n",
       "    <tr>\n",
       "      <th>3</th>\n",
       "      <td>charmander</td>\n",
       "      <td>0.6</td>\n",
       "      <td>8.5</td>\n",
       "    </tr>\n",
       "    <tr>\n",
       "      <th>4</th>\n",
       "      <td>charmeleon</td>\n",
       "      <td>1.1</td>\n",
       "      <td>19.0</td>\n",
       "    </tr>\n",
       "  </tbody>\n",
       "</table>\n",
       "</div>"
      ],
      "text/plain": [
       "      species  height  weight\n",
       "0   bulbasaur     0.7     6.9\n",
       "1     ivysaur     1.0    13.0\n",
       "2    venusaur     2.0   100.0\n",
       "3  charmander     0.6     8.5\n",
       "4  charmeleon     1.1    19.0"
      ]
     },
     "execution_count": 108,
     "metadata": {},
     "output_type": "execute_result"
    }
   ],
   "source": [
    "pokemon_info.head()"
   ]
  },
  {
   "cell_type": "markdown",
   "id": "4e2aaa05",
   "metadata": {},
   "source": [
    "##### Sorting by `height` in ascending order (Default)"
   ]
  },
  {
   "cell_type": "code",
   "execution_count": 109,
   "id": "10754c48",
   "metadata": {},
   "outputs": [
    {
     "data": {
      "text/html": [
       "<div>\n",
       "<style scoped>\n",
       "    .dataframe tbody tr th:only-of-type {\n",
       "        vertical-align: middle;\n",
       "    }\n",
       "\n",
       "    .dataframe tbody tr th {\n",
       "        vertical-align: top;\n",
       "    }\n",
       "\n",
       "    .dataframe thead th {\n",
       "        text-align: right;\n",
       "    }\n",
       "</style>\n",
       "<table border=\"1\" class=\"dataframe\">\n",
       "  <thead>\n",
       "    <tr style=\"text-align: right;\">\n",
       "      <th></th>\n",
       "      <th>species</th>\n",
       "      <th>height</th>\n",
       "      <th>weight</th>\n",
       "    </tr>\n",
       "  </thead>\n",
       "  <tbody>\n",
       "    <tr>\n",
       "      <th>741</th>\n",
       "      <td>cutiefly</td>\n",
       "      <td>0.1</td>\n",
       "      <td>0.2</td>\n",
       "    </tr>\n",
       "    <tr>\n",
       "      <th>763</th>\n",
       "      <td>comfey</td>\n",
       "      <td>0.1</td>\n",
       "      <td>0.3</td>\n",
       "    </tr>\n",
       "    <tr>\n",
       "      <th>789</th>\n",
       "      <td>cosmoem</td>\n",
       "      <td>0.1</td>\n",
       "      <td>999.9</td>\n",
       "    </tr>\n",
       "    <tr>\n",
       "      <th>594</th>\n",
       "      <td>joltik</td>\n",
       "      <td>0.1</td>\n",
       "      <td>0.6</td>\n",
       "    </tr>\n",
       "    <tr>\n",
       "      <th>668</th>\n",
       "      <td>flabebe</td>\n",
       "      <td>0.1</td>\n",
       "      <td>0.1</td>\n",
       "    </tr>\n",
       "  </tbody>\n",
       "</table>\n",
       "</div>"
      ],
      "text/plain": [
       "      species  height  weight\n",
       "741  cutiefly     0.1     0.2\n",
       "763    comfey     0.1     0.3\n",
       "789   cosmoem     0.1   999.9\n",
       "594    joltik     0.1     0.6\n",
       "668   flabebe     0.1     0.1"
      ]
     },
     "execution_count": 109,
     "metadata": {},
     "output_type": "execute_result"
    }
   ],
   "source": [
    "(pokemon_info\n",
    "     .sort_values('height')\n",
    "     .head())"
   ]
  },
  {
   "cell_type": "markdown",
   "id": "484ee834",
   "metadata": {},
   "source": [
    "##### Sorting by `height` in descending order and then alphabetically by `species`"
   ]
  },
  {
   "cell_type": "code",
   "execution_count": 110,
   "id": "8910015c",
   "metadata": {},
   "outputs": [
    {
     "data": {
      "text/html": [
       "<div>\n",
       "<style scoped>\n",
       "    .dataframe tbody tr th:only-of-type {\n",
       "        vertical-align: middle;\n",
       "    }\n",
       "\n",
       "    .dataframe tbody tr th {\n",
       "        vertical-align: top;\n",
       "    }\n",
       "\n",
       "    .dataframe thead th {\n",
       "        text-align: right;\n",
       "    }\n",
       "</style>\n",
       "<table border=\"1\" class=\"dataframe\">\n",
       "  <thead>\n",
       "    <tr style=\"text-align: right;\">\n",
       "      <th></th>\n",
       "      <th>species</th>\n",
       "      <th>height</th>\n",
       "      <th>weight</th>\n",
       "    </tr>\n",
       "  </thead>\n",
       "  <tbody>\n",
       "    <tr>\n",
       "      <th>320</th>\n",
       "      <td>wailord</td>\n",
       "      <td>14.5</td>\n",
       "      <td>398.0</td>\n",
       "    </tr>\n",
       "    <tr>\n",
       "      <th>796</th>\n",
       "      <td>celesteela</td>\n",
       "      <td>9.2</td>\n",
       "      <td>999.9</td>\n",
       "    </tr>\n",
       "    <tr>\n",
       "      <th>207</th>\n",
       "      <td>steelix</td>\n",
       "      <td>9.2</td>\n",
       "      <td>400.0</td>\n",
       "    </tr>\n",
       "    <tr>\n",
       "      <th>94</th>\n",
       "      <td>onix</td>\n",
       "      <td>8.8</td>\n",
       "      <td>210.0</td>\n",
       "    </tr>\n",
       "    <tr>\n",
       "      <th>383</th>\n",
       "      <td>rayquaza</td>\n",
       "      <td>7.0</td>\n",
       "      <td>206.5</td>\n",
       "    </tr>\n",
       "  </tbody>\n",
       "</table>\n",
       "</div>"
      ],
      "text/plain": [
       "        species  height  weight\n",
       "320     wailord    14.5   398.0\n",
       "796  celesteela     9.2   999.9\n",
       "207     steelix     9.2   400.0\n",
       "94         onix     8.8   210.0\n",
       "383    rayquaza     7.0   206.5"
      ]
     },
     "execution_count": 110,
     "metadata": {},
     "output_type": "execute_result"
    }
   ],
   "source": [
    "(pokemon_info\n",
    "    .sort_values(by = ['height', 'species'], ascending=[False, True])\n",
    "    .head())"
   ]
  },
  {
   "cell_type": "code",
   "execution_count": 111,
   "id": "5b39c3a4",
   "metadata": {},
   "outputs": [
    {
     "data": {
      "text/html": [
       "<div>\n",
       "<style scoped>\n",
       "    .dataframe tbody tr th:only-of-type {\n",
       "        vertical-align: middle;\n",
       "    }\n",
       "\n",
       "    .dataframe tbody tr th {\n",
       "        vertical-align: top;\n",
       "    }\n",
       "\n",
       "    .dataframe thead th {\n",
       "        text-align: right;\n",
       "    }\n",
       "</style>\n",
       "<table border=\"1\" class=\"dataframe\">\n",
       "  <thead>\n",
       "    <tr style=\"text-align: right;\">\n",
       "      <th></th>\n",
       "      <th>species</th>\n",
       "      <th>height</th>\n",
       "      <th>weight</th>\n",
       "    </tr>\n",
       "  </thead>\n",
       "  <tbody>\n",
       "    <tr>\n",
       "      <th>741</th>\n",
       "      <td>cutiefly</td>\n",
       "      <td>0.1</td>\n",
       "      <td>0.2</td>\n",
       "    </tr>\n",
       "    <tr>\n",
       "      <th>763</th>\n",
       "      <td>comfey</td>\n",
       "      <td>0.1</td>\n",
       "      <td>0.3</td>\n",
       "    </tr>\n",
       "    <tr>\n",
       "      <th>789</th>\n",
       "      <td>cosmoem</td>\n",
       "      <td>0.1</td>\n",
       "      <td>999.9</td>\n",
       "    </tr>\n",
       "    <tr>\n",
       "      <th>594</th>\n",
       "      <td>joltik</td>\n",
       "      <td>0.1</td>\n",
       "      <td>0.6</td>\n",
       "    </tr>\n",
       "    <tr>\n",
       "      <th>668</th>\n",
       "      <td>flabebe</td>\n",
       "      <td>0.1</td>\n",
       "      <td>0.1</td>\n",
       "    </tr>\n",
       "  </tbody>\n",
       "</table>\n",
       "</div>"
      ],
      "text/plain": [
       "      species  height  weight\n",
       "741  cutiefly     0.1     0.2\n",
       "763    comfey     0.1     0.3\n",
       "789   cosmoem     0.1   999.9\n",
       "594    joltik     0.1     0.6\n",
       "668   flabebe     0.1     0.1"
      ]
     },
     "execution_count": 111,
     "metadata": {},
     "output_type": "execute_result"
    }
   ],
   "source": [
    "(pokemon_info\n",
    "     .sort_values('height')\n",
    "     .head())"
   ]
  },
  {
   "cell_type": "code",
   "execution_count": 112,
   "id": "6fb5331e",
   "metadata": {},
   "outputs": [
    {
     "data": {
      "text/html": [
       "<div>\n",
       "<style scoped>\n",
       "    .dataframe tbody tr th:only-of-type {\n",
       "        vertical-align: middle;\n",
       "    }\n",
       "\n",
       "    .dataframe tbody tr th {\n",
       "        vertical-align: top;\n",
       "    }\n",
       "\n",
       "    .dataframe thead th {\n",
       "        text-align: right;\n",
       "    }\n",
       "</style>\n",
       "<table border=\"1\" class=\"dataframe\">\n",
       "  <thead>\n",
       "    <tr style=\"text-align: right;\">\n",
       "      <th></th>\n",
       "      <th>species</th>\n",
       "      <th>height</th>\n",
       "      <th>weight</th>\n",
       "    </tr>\n",
       "  </thead>\n",
       "  <tbody>\n",
       "    <tr>\n",
       "      <th>0</th>\n",
       "      <td>cutiefly</td>\n",
       "      <td>0.1</td>\n",
       "      <td>0.2</td>\n",
       "    </tr>\n",
       "    <tr>\n",
       "      <th>1</th>\n",
       "      <td>comfey</td>\n",
       "      <td>0.1</td>\n",
       "      <td>0.3</td>\n",
       "    </tr>\n",
       "    <tr>\n",
       "      <th>2</th>\n",
       "      <td>cosmoem</td>\n",
       "      <td>0.1</td>\n",
       "      <td>999.9</td>\n",
       "    </tr>\n",
       "    <tr>\n",
       "      <th>3</th>\n",
       "      <td>joltik</td>\n",
       "      <td>0.1</td>\n",
       "      <td>0.6</td>\n",
       "    </tr>\n",
       "    <tr>\n",
       "      <th>4</th>\n",
       "      <td>flabebe</td>\n",
       "      <td>0.1</td>\n",
       "      <td>0.1</td>\n",
       "    </tr>\n",
       "  </tbody>\n",
       "</table>\n",
       "</div>"
      ],
      "text/plain": [
       "    species  height  weight\n",
       "0  cutiefly     0.1     0.2\n",
       "1    comfey     0.1     0.3\n",
       "2   cosmoem     0.1   999.9\n",
       "3    joltik     0.1     0.6\n",
       "4   flabebe     0.1     0.1"
      ]
     },
     "execution_count": 112,
     "metadata": {},
     "output_type": "execute_result"
    }
   ],
   "source": [
    "(pokemon_info\n",
    "     .sort_values('height', ignore_index=True)\n",
    "     .head())"
   ]
  },
  {
   "cell_type": "markdown",
   "id": "82a42fbd",
   "metadata": {},
   "source": [
    "# Day 22/100"
   ]
  },
  {
   "cell_type": "code",
   "execution_count": 113,
   "id": "94a9a7da",
   "metadata": {},
   "outputs": [
    {
     "data": {
      "text/plain": [
       "0    Jonathan\n",
       "1     Michael\n",
       "2       Roger\n",
       "3     Michael\n",
       "4      Robert\n",
       "5    Jonathan\n",
       "dtype: object"
      ]
     },
     "execution_count": 113,
     "metadata": {},
     "output_type": "execute_result"
    }
   ],
   "source": [
    "names"
   ]
  },
  {
   "cell_type": "markdown",
   "id": "92fb4e22",
   "metadata": {},
   "source": [
    "##### `replace` performs complete string replacement by default."
   ]
  },
  {
   "cell_type": "code",
   "execution_count": 114,
   "id": "7184dc1e",
   "metadata": {},
   "outputs": [
    {
     "data": {
      "text/plain": [
       "0    Jonathan\n",
       "1     Michael\n",
       "2      Rafael\n",
       "3     Michael\n",
       "4      Robert\n",
       "5    Jonathan\n",
       "dtype: object"
      ]
     },
     "execution_count": 114,
     "metadata": {},
     "output_type": "execute_result"
    }
   ],
   "source": [
    "names.replace('Roger', 'Rafael')"
   ]
  },
  {
   "cell_type": "markdown",
   "id": "6f12e276",
   "metadata": {},
   "source": [
    "##### `replace` can not perform substring (partial string) replacements."
   ]
  },
  {
   "cell_type": "code",
   "execution_count": 115,
   "id": "ab1f2c7c",
   "metadata": {},
   "outputs": [
    {
     "data": {
      "text/plain": [
       "0    Jonathan\n",
       "1     Michael\n",
       "2       Roger\n",
       "3     Michael\n",
       "4      Robert\n",
       "5    Jonathan\n",
       "dtype: object"
      ]
     },
     "execution_count": 115,
     "metadata": {},
     "output_type": "execute_result"
    }
   ],
   "source": [
    "names.replace('Ro', 'To')"
   ]
  },
  {
   "cell_type": "markdown",
   "id": "60d35b56",
   "metadata": {},
   "source": [
    "##### Perform partial string replacement with `replace` using regex"
   ]
  },
  {
   "cell_type": "code",
   "execution_count": 116,
   "id": "74ec1937",
   "metadata": {},
   "outputs": [
    {
     "data": {
      "text/plain": [
       "0    Jonathan\n",
       "1     Michael\n",
       "2       Toger\n",
       "3     Michael\n",
       "4      Tobert\n",
       "5    Jonathan\n",
       "dtype: object"
      ]
     },
     "execution_count": 116,
     "metadata": {},
     "output_type": "execute_result"
    }
   ],
   "source": [
    "names.replace(r'Ro', 'To', regex=True)"
   ]
  },
  {
   "cell_type": "markdown",
   "id": "f593725a",
   "metadata": {},
   "source": [
    "##### `str.replace` can replace a substring with another."
   ]
  },
  {
   "cell_type": "code",
   "execution_count": 117,
   "id": "06a362ac",
   "metadata": {},
   "outputs": [
    {
     "data": {
      "text/plain": [
       "0    Jonathan\n",
       "1     Michael\n",
       "2       Roger\n",
       "3     Michael\n",
       "4      Robert\n",
       "5    Jonathan\n",
       "dtype: object"
      ]
     },
     "execution_count": 117,
     "metadata": {},
     "output_type": "execute_result"
    }
   ],
   "source": [
    "names"
   ]
  },
  {
   "cell_type": "code",
   "execution_count": 118,
   "id": "d27a8138",
   "metadata": {},
   "outputs": [
    {
     "data": {
      "text/plain": [
       "0    Jonathan\n",
       "1     Michael\n",
       "2      Rafael\n",
       "3     Michael\n",
       "4      Robert\n",
       "5    Jonathan\n",
       "dtype: object"
      ]
     },
     "execution_count": 118,
     "metadata": {},
     "output_type": "execute_result"
    }
   ],
   "source": [
    "names.str.replace('Roger', 'Rafael')"
   ]
  },
  {
   "cell_type": "code",
   "execution_count": 119,
   "id": "8bb9431c",
   "metadata": {},
   "outputs": [
    {
     "data": {
      "text/plain": [
       "0    Jonathan\n",
       "1     Michael\n",
       "2       Toger\n",
       "3     Michael\n",
       "4      Tobert\n",
       "5    Jonathan\n",
       "dtype: object"
      ]
     },
     "execution_count": 119,
     "metadata": {},
     "output_type": "execute_result"
    }
   ],
   "source": [
    "names.str.replace('Ro', 'To')"
   ]
  },
  {
   "cell_type": "markdown",
   "id": "e7a8cf18",
   "metadata": {},
   "source": [
    "# Day 23/100"
   ]
  },
  {
   "cell_type": "code",
   "execution_count": 120,
   "id": "1f488f59",
   "metadata": {},
   "outputs": [
    {
     "data": {
      "text/plain": [
       "0    17\n",
       "1    55\n",
       "2    22\n",
       "3     9\n",
       "4    33\n",
       "5    48\n",
       "dtype: int64"
      ]
     },
     "execution_count": 120,
     "metadata": {},
     "output_type": "execute_result"
    }
   ],
   "source": [
    "age = pd.Series([17, 55, 22, 9, 33, 48])\n",
    "age"
   ]
  },
  {
   "cell_type": "code",
   "execution_count": 121,
   "id": "796d04ca",
   "metadata": {},
   "outputs": [
    {
     "data": {
      "text/plain": [
       "0    False\n",
       "1     True\n",
       "2     True\n",
       "3    False\n",
       "4     True\n",
       "5     True\n",
       "dtype: bool"
      ]
     },
     "execution_count": 121,
     "metadata": {},
     "output_type": "execute_result"
    }
   ],
   "source": [
    "# a condition\n",
    "age > 18"
   ]
  },
  {
   "cell_type": "code",
   "execution_count": 122,
   "id": "6f3eb8a2",
   "metadata": {},
   "outputs": [
    {
     "data": {
      "text/plain": [
       "0    Less than 18\n",
       "1              55\n",
       "2              22\n",
       "3    Less than 18\n",
       "4              33\n",
       "5              48\n",
       "dtype: object"
      ]
     },
     "execution_count": 122,
     "metadata": {},
     "output_type": "execute_result"
    }
   ],
   "source": [
    "age.where(age > 18, 'Less than 18')"
   ]
  },
  {
   "cell_type": "code",
   "execution_count": 123,
   "id": "e92ad2c1",
   "metadata": {},
   "outputs": [
    {
     "data": {
      "text/plain": [
       "0              17\n",
       "1    More than 18\n",
       "2    More than 18\n",
       "3               9\n",
       "4    More than 18\n",
       "5    More than 18\n",
       "dtype: object"
      ]
     },
     "execution_count": 123,
     "metadata": {},
     "output_type": "execute_result"
    }
   ],
   "source": [
    "age.mask(age>18, 'More than 18')"
   ]
  },
  {
   "cell_type": "markdown",
   "id": "bd0190e0",
   "metadata": {},
   "source": [
    "# Day 24/100"
   ]
  },
  {
   "cell_type": "code",
   "execution_count": 124,
   "id": "d66ef638",
   "metadata": {},
   "outputs": [
    {
     "data": {
      "text/plain": [
       "0      Python 3\n",
       "1    Python 3.1\n",
       "2    Python 3.2\n",
       "3    Python 3.3\n",
       "4    Python 3.4\n",
       "dtype: object"
      ]
     },
     "execution_count": 124,
     "metadata": {},
     "output_type": "execute_result"
    }
   ],
   "source": [
    "python_versions = pd.Series(['Python 3', 'Python 3.1', 'Python 3.2',\n",
    "                             'Python 3.3', 'Python 3.4'])\n",
    "\n",
    "python_versions"
   ]
  },
  {
   "cell_type": "markdown",
   "id": "c31ce82b",
   "metadata": {},
   "source": [
    "##### `str.extract` with one capture group"
   ]
  },
  {
   "cell_type": "code",
   "execution_count": 125,
   "id": "59711dff",
   "metadata": {},
   "outputs": [
    {
     "data": {
      "text/html": [
       "<div>\n",
       "<style scoped>\n",
       "    .dataframe tbody tr th:only-of-type {\n",
       "        vertical-align: middle;\n",
       "    }\n",
       "\n",
       "    .dataframe tbody tr th {\n",
       "        vertical-align: top;\n",
       "    }\n",
       "\n",
       "    .dataframe thead th {\n",
       "        text-align: right;\n",
       "    }\n",
       "</style>\n",
       "<table border=\"1\" class=\"dataframe\">\n",
       "  <thead>\n",
       "    <tr style=\"text-align: right;\">\n",
       "      <th></th>\n",
       "      <th>0</th>\n",
       "    </tr>\n",
       "  </thead>\n",
       "  <tbody>\n",
       "    <tr>\n",
       "      <th>0</th>\n",
       "      <td>3.0</td>\n",
       "    </tr>\n",
       "    <tr>\n",
       "      <th>1</th>\n",
       "      <td>3.1</td>\n",
       "    </tr>\n",
       "    <tr>\n",
       "      <th>2</th>\n",
       "      <td>3.2</td>\n",
       "    </tr>\n",
       "    <tr>\n",
       "      <th>3</th>\n",
       "      <td>3.3</td>\n",
       "    </tr>\n",
       "    <tr>\n",
       "      <th>4</th>\n",
       "      <td>3.4</td>\n",
       "    </tr>\n",
       "  </tbody>\n",
       "</table>\n",
       "</div>"
      ],
      "text/plain": [
       "     0\n",
       "0  3.0\n",
       "1  3.1\n",
       "2  3.2\n",
       "3  3.3\n",
       "4  3.4"
      ]
     },
     "execution_count": 125,
     "metadata": {},
     "output_type": "execute_result"
    }
   ],
   "source": [
    "# expand = True (Default) --> returns a DataFrame\n",
    "(python_versions\n",
    "    .str.extract(r'(\\d\\.?\\d?)')\n",
    "    .astype(float)\n",
    ")"
   ]
  },
  {
   "cell_type": "code",
   "execution_count": 126,
   "id": "508fcc8f",
   "metadata": {},
   "outputs": [
    {
     "data": {
      "text/plain": [
       "0    3.0\n",
       "1    3.1\n",
       "2    3.2\n",
       "3    3.3\n",
       "4    3.4\n",
       "dtype: float64"
      ]
     },
     "execution_count": 126,
     "metadata": {},
     "output_type": "execute_result"
    }
   ],
   "source": [
    "# expand = False --> return a Series\n",
    "(python_versions\n",
    "    .str.extract(r'(\\d\\.?\\d?)', expand=False)\n",
    "    .astype(float)\n",
    ")"
   ]
  },
  {
   "cell_type": "markdown",
   "id": "1a6c1e7e",
   "metadata": {},
   "source": [
    "##### `str.extract`  with multiple capture groups"
   ]
  },
  {
   "cell_type": "code",
   "execution_count": 127,
   "id": "f6a4f32b",
   "metadata": {},
   "outputs": [
    {
     "data": {
      "text/html": [
       "<div>\n",
       "<style scoped>\n",
       "    .dataframe tbody tr th:only-of-type {\n",
       "        vertical-align: middle;\n",
       "    }\n",
       "\n",
       "    .dataframe tbody tr th {\n",
       "        vertical-align: top;\n",
       "    }\n",
       "\n",
       "    .dataframe thead th {\n",
       "        text-align: right;\n",
       "    }\n",
       "</style>\n",
       "<table border=\"1\" class=\"dataframe\">\n",
       "  <thead>\n",
       "    <tr style=\"text-align: right;\">\n",
       "      <th></th>\n",
       "      <th>Language</th>\n",
       "      <th>Version</th>\n",
       "    </tr>\n",
       "  </thead>\n",
       "  <tbody>\n",
       "    <tr>\n",
       "      <th>0</th>\n",
       "      <td>Python</td>\n",
       "      <td>3.0</td>\n",
       "    </tr>\n",
       "    <tr>\n",
       "      <th>1</th>\n",
       "      <td>Python</td>\n",
       "      <td>3.1</td>\n",
       "    </tr>\n",
       "    <tr>\n",
       "      <th>2</th>\n",
       "      <td>Python</td>\n",
       "      <td>3.2</td>\n",
       "    </tr>\n",
       "    <tr>\n",
       "      <th>3</th>\n",
       "      <td>Python</td>\n",
       "      <td>3.3</td>\n",
       "    </tr>\n",
       "    <tr>\n",
       "      <th>4</th>\n",
       "      <td>Python</td>\n",
       "      <td>3.4</td>\n",
       "    </tr>\n",
       "  </tbody>\n",
       "</table>\n",
       "</div>"
      ],
      "text/plain": [
       "  Language  Version\n",
       "0  Python       3.0\n",
       "1  Python       3.1\n",
       "2  Python       3.2\n",
       "3  Python       3.3\n",
       "4  Python       3.4"
      ]
     },
     "execution_count": 127,
     "metadata": {},
     "output_type": "execute_result"
    }
   ],
   "source": [
    "(python_versions\n",
    "    .str.extract('([A-Z a-z]+)(\\d\\.?\\d?)')\n",
    "    .rename({0:'Language', 1:'Version'}, axis=1)\n",
    "    .astype({'Language':'string', 'Version':float}))"
   ]
  },
  {
   "cell_type": "markdown",
   "id": "6008957f",
   "metadata": {},
   "source": [
    "# Day 25/100"
   ]
  },
  {
   "cell_type": "code",
   "execution_count": 128,
   "id": "0246913a",
   "metadata": {
    "scrolled": true
   },
   "outputs": [
    {
     "data": {
      "text/plain": [
       "BMW                  523\n",
       "Mercedes-Benz        269\n",
       "Porsche              235\n",
       "Ford                 218\n",
       "Chevrolet            212\n",
       "MINI                 201\n",
       "Audi                 201\n",
       "Volkswagen           174\n",
       "Hyundai              158\n",
       "Dodge                140\n",
       "Lexus                125\n",
       "Kia                  124\n",
       "Cadillac             118\n",
       "Toyota               116\n",
       "Infiniti             108\n",
       "Honda                101\n",
       "Jaguar                98\n",
       "Mazda                 87\n",
       "Nissan                71\n",
       "Buick                 66\n",
       "Subaru                60\n",
       "Chrysler              58\n",
       "Lincoln               52\n",
       "Volvo                 50\n",
       "Acura                 46\n",
       "Bentley               45\n",
       "Mitsubishi            44\n",
       "Rolls-Royce           42\n",
       "Maserati              39\n",
       "Scion                 27\n",
       "Fiat                  26\n",
       "Ferrari               23\n",
       "Genesis               17\n",
       "Aston Martin          15\n",
       "Suzuki                13\n",
       "Roush Performance     10\n",
       "Lotus                 10\n",
       "Alfa Romeo             6\n",
       "Karma                  1\n",
       "Name: make, dtype: int64"
      ]
     },
     "execution_count": 128,
     "metadata": {},
     "output_type": "execute_result"
    }
   ],
   "source": [
    "make.value_counts()"
   ]
  },
  {
   "cell_type": "markdown",
   "id": "a5a0b0fa",
   "metadata": {},
   "source": [
    "##### Too many categories"
   ]
  },
  {
   "cell_type": "code",
   "execution_count": 129,
   "id": "eda0db59",
   "metadata": {},
   "outputs": [
    {
     "data": {
      "image/png": "[encoded data removed]",
      "text/plain": [
       "<Figure size 576x288 with 1 Axes>"
      ]
     },
     "metadata": {
      "needs_background": "light"
     },
     "output_type": "display_data"
    }
   ],
   "source": [
    "(make\n",
    "    .value_counts()\n",
    "    .plot.barh(figsize=(8,4)));"
   ]
  },
  {
   "cell_type": "markdown",
   "id": "ca3476e2",
   "metadata": {},
   "source": [
    "##### Top 10 categories"
   ]
  },
  {
   "cell_type": "code",
   "execution_count": 130,
   "id": "d5fcd562",
   "metadata": {},
   "outputs": [
    {
     "data": {
      "image/png": "[encoded data removed]",
      "text/plain": [
       "<Figure size 576x288 with 1 Axes>"
      ]
     },
     "metadata": {
      "needs_background": "light"
     },
     "output_type": "display_data"
    }
   ],
   "source": [
    "make_top_10 = make.value_counts().index[:10]\n",
    "\n",
    "(make\n",
    "    .where(make.isin(make_top_10), 'Other') # keep top 10 categories and replace the other ones with \"Other\"\n",
    "    .value_counts()\n",
    "    .plot.barh(figsize=(8,4)));"
   ]
  },
  {
   "cell_type": "markdown",
   "id": "fe2cf8c3",
   "metadata": {},
   "source": [
    "# Day 26/100"
   ]
  },
  {
   "cell_type": "markdown",
   "id": "2f73433b",
   "metadata": {},
   "source": [
    "##### `nunique`: number of unique values in a column"
   ]
  },
  {
   "cell_type": "code",
   "execution_count": 131,
   "id": "9f007f41",
   "metadata": {
    "scrolled": true
   },
   "outputs": [
    {
     "data": {
      "text/plain": [
       "18"
      ]
     },
     "execution_count": 131,
     "metadata": {},
     "output_type": "execute_result"
    }
   ],
   "source": [
    "pokemon['type_1'].nunique()"
   ]
  },
  {
   "cell_type": "markdown",
   "id": "47fe7123",
   "metadata": {},
   "source": [
    "##### `unique()`: unique values in a column"
   ]
  },
  {
   "cell_type": "code",
   "execution_count": 132,
   "id": "857ae4dc",
   "metadata": {},
   "outputs": [
    {
     "data": {
      "text/plain": [
       "array(['grass', 'fire', 'water', 'bug', 'normal', 'poison', 'electric',\n",
       "       'ground', 'fairy', 'fighting', 'psychic', 'rock', 'ghost', 'ice',\n",
       "       'dragon', 'dark', 'steel', 'flying'], dtype=object)"
      ]
     },
     "execution_count": 132,
     "metadata": {},
     "output_type": "execute_result"
    }
   ],
   "source": [
    "pokemon['type_1'].unique()"
   ]
  },
  {
   "cell_type": "markdown",
   "id": "21a17ded",
   "metadata": {},
   "source": [
    "##### `pd.unique()`: similar to `unique()` method"
   ]
  },
  {
   "cell_type": "code",
   "execution_count": 133,
   "id": "bd1a4256",
   "metadata": {},
   "outputs": [
    {
     "data": {
      "text/plain": [
       "array(['grass', 'fire', 'water', 'bug', 'normal', 'poison', 'electric',\n",
       "       'ground', 'fairy', 'fighting', 'psychic', 'rock', 'ghost', 'ice',\n",
       "       'dragon', 'dark', 'steel', 'flying'], dtype=object)"
      ]
     },
     "execution_count": 133,
     "metadata": {},
     "output_type": "execute_result"
    }
   ],
   "source": [
    "pd.unique(pokemon['type_1'])"
   ]
  },
  {
   "cell_type": "markdown",
   "id": "111b24ec",
   "metadata": {},
   "source": [
    "# Day 27/100"
   ]
  },
  {
   "cell_type": "markdown",
   "id": "06f1d412",
   "metadata": {},
   "source": [
    "##### `.rename` with a scalar value"
   ]
  },
  {
   "cell_type": "code",
   "execution_count": 135,
   "id": "970d8a46",
   "metadata": {},
   "outputs": [
    {
     "data": {
      "text/plain": [
       "0    Premium Gasoline\n",
       "1    Premium Gasoline\n",
       "2    Premium Gasoline\n",
       "3    Premium Gasoline\n",
       "4    Regular Gasoline\n",
       "Name: fuelType, dtype: object"
      ]
     },
     "execution_count": 135,
     "metadata": {},
     "output_type": "execute_result"
    }
   ],
   "source": [
    "fuel.head()"
   ]
  },
  {
   "cell_type": "code",
   "execution_count": 137,
   "id": "a7db765b",
   "metadata": {},
   "outputs": [
    {
     "data": {
      "text/plain": [
       "'fuelType'"
      ]
     },
     "execution_count": 137,
     "metadata": {},
     "output_type": "execute_result"
    }
   ],
   "source": [
    "fuel.name"
   ]
  },
  {
   "cell_type": "code",
   "execution_count": 139,
   "id": "2488d0c2",
   "metadata": {},
   "outputs": [
    {
     "data": {
      "text/plain": [
       "0    Premium Gasoline\n",
       "1    Premium Gasoline\n",
       "2    Premium Gasoline\n",
       "3    Premium Gasoline\n",
       "4    Regular Gasoline\n",
       "Name: fuel_type, dtype: object"
      ]
     },
     "execution_count": 139,
     "metadata": {},
     "output_type": "execute_result"
    }
   ],
   "source": [
    "fuel.rename('fuel_type').head()"
   ]
  },
  {
   "cell_type": "code",
   "execution_count": 140,
   "id": "ffabf0c7",
   "metadata": {},
   "outputs": [
    {
     "data": {
      "text/plain": [
       "'fuel_type'"
      ]
     },
     "execution_count": 140,
     "metadata": {},
     "output_type": "execute_result"
    }
   ],
   "source": [
    "fuel.rename('fuel_type').name"
   ]
  },
  {
   "cell_type": "markdown",
   "id": "b14121ba",
   "metadata": {},
   "source": [
    "##### `.rename` with a dictionary or a Series"
   ]
  },
  {
   "cell_type": "code",
   "execution_count": 149,
   "id": "d696e9a6",
   "metadata": {},
   "outputs": [
    {
     "data": {
      "text/plain": [
       "0    Premium Gasoline\n",
       "1    Premium Gasoline\n",
       "2    Premium Gasoline\n",
       "3    Premium Gasoline\n",
       "4    Regular Gasoline\n",
       "Name: fuelType, dtype: object"
      ]
     },
     "execution_count": 149,
     "metadata": {},
     "output_type": "execute_result"
    }
   ],
   "source": [
    "fuel.head()"
   ]
  },
  {
   "cell_type": "code",
   "execution_count": 148,
   "id": "40515a01",
   "metadata": {},
   "outputs": [
    {
     "data": {
      "text/plain": [
       "zero    Premium Gasoline\n",
       "one     Premium Gasoline\n",
       "two     Premium Gasoline\n",
       "3       Premium Gasoline\n",
       "4       Regular Gasoline\n",
       "Name: fuelType, dtype: object"
      ]
     },
     "execution_count": 148,
     "metadata": {},
     "output_type": "execute_result"
    }
   ],
   "source": [
    "fuel.rename({0:'zero', 1:'one', 2:'two'}).head()"
   ]
  },
  {
   "cell_type": "code",
   "execution_count": 147,
   "id": "f3fc6e90",
   "metadata": {
    "scrolled": true
   },
   "outputs": [
    {
     "data": {
      "text/plain": [
       "first     Premium Gasoline\n",
       "second    Premium Gasoline\n",
       "third     Premium Gasoline\n",
       "3         Premium Gasoline\n",
       "4         Regular Gasoline\n",
       "Name: fuelType, dtype: object"
      ]
     },
     "execution_count": 147,
     "metadata": {},
     "output_type": "execute_result"
    }
   ],
   "source": [
    "fuel.rename(pd.Series(['zero', 'one', 'two'], index=[0, 1, 2])).head()"
   ]
  },
  {
   "cell_type": "code",
   "execution_count": 157,
   "id": "1de847b9",
   "metadata": {},
   "outputs": [
    {
     "data": {
      "text/plain": [
       "0    Premium Gasoline\n",
       "1    Premium Gasoline\n",
       "2    Premium Gasoline\n",
       "3    Premium Gasoline\n",
       "4    Regular Gasoline\n",
       "Name: fuelType, dtype: object"
      ]
     },
     "execution_count": 157,
     "metadata": {},
     "output_type": "execute_result"
    }
   ],
   "source": [
    "fuel.head()"
   ]
  },
  {
   "cell_type": "code",
   "execution_count": 158,
   "id": "4641a5e3",
   "metadata": {},
   "outputs": [
    {
     "data": {
      "text/plain": [
       "0        Nissan\n",
       "1    Volkswagen\n",
       "2    Volkswagen\n",
       "3    Volkswagen\n",
       "4     Chevrolet\n",
       "Name: make, dtype: object"
      ]
     },
     "execution_count": 158,
     "metadata": {},
     "output_type": "execute_result"
    }
   ],
   "source": [
    "make.head()"
   ]
  },
  {
   "cell_type": "code",
   "execution_count": 152,
   "id": "0136b37a",
   "metadata": {},
   "outputs": [
    {
     "data": {
      "text/plain": [
       "Nissan        Premium Gasoline\n",
       "Volkswagen    Premium Gasoline\n",
       "Volkswagen    Premium Gasoline\n",
       "Volkswagen    Premium Gasoline\n",
       "Chevrolet     Regular Gasoline\n",
       "                    ...       \n",
       "Toyota        Regular Gasoline\n",
       "Hyundai       Regular Gasoline\n",
       "Hyundai       Regular Gasoline\n",
       "Lexus         Premium Gasoline\n",
       "Lexus         Premium Gasoline\n",
       "Name: fuelType, Length: 3929, dtype: object"
      ]
     },
     "execution_count": 152,
     "metadata": {},
     "output_type": "execute_result"
    }
   ],
   "source": [
    "fuel.rename(make)"
   ]
  },
  {
   "cell_type": "markdown",
   "id": "4d9f633e",
   "metadata": {},
   "source": [
    "##### `.rename` with a function"
   ]
  },
  {
   "cell_type": "code",
   "execution_count": 153,
   "id": "ec510aa8",
   "metadata": {},
   "outputs": [
    {
     "data": {
      "text/plain": [
       "index - 0       Premium Gasoline\n",
       "index - 1       Premium Gasoline\n",
       "index - 2       Premium Gasoline\n",
       "index - 3       Premium Gasoline\n",
       "index - 4       Regular Gasoline\n",
       "                      ...       \n",
       "index - 3924    Regular Gasoline\n",
       "index - 3925    Regular Gasoline\n",
       "index - 3926    Regular Gasoline\n",
       "index - 3927    Premium Gasoline\n",
       "index - 3928    Premium Gasoline\n",
       "Name: fuelType, Length: 3929, dtype: object"
      ]
     },
     "execution_count": 153,
     "metadata": {},
     "output_type": "execute_result"
    }
   ],
   "source": [
    "fuel.rename(lambda idx: f'index - {idx}')"
   ]
  },
  {
   "cell_type": "code",
   "execution_count": null,
   "id": "b819cc37",
   "metadata": {},
   "outputs": [],
   "source": []
  }
 ],
 "metadata": {
  "kernelspec": {
   "display_name": "Python 3 (ipykernel)",
   "language": "python",
   "name": "python3"
  },
  "language_info": {
   "codemirror_mode": {
    "name": "ipython",
    "version": 3
   },
   "file_extension": ".py",
   "mimetype": "text/x-python",
   "name": "python",
   "nbconvert_exporter": "python",
   "pygments_lexer": "ipython3",
   "version": "3.8.10"
  }
 },
 "nbformat": 4,
 "nbformat_minor": 5
}
