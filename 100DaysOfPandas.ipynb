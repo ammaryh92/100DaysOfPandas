{
 "cells": [
  {
   "cell_type": "code",
   "execution_count": 1,
   "id": "ac5850ff",
   "metadata": {},
   "outputs": [],
   "source": [
    "import pandas as pd"
   ]
  },
  {
   "cell_type": "markdown",
   "id": "5a947449",
   "metadata": {},
   "source": [
    "### Loading Data"
   ]
  },
  {
   "cell_type": "code",
   "execution_count": 2,
   "id": "c9e86940",
   "metadata": {},
   "outputs": [],
   "source": [
    "fuel_econ = pd.read_csv('datasets/fuel_econ.csv')"
   ]
  },
  {
   "cell_type": "code",
   "execution_count": 3,
   "id": "d8589000",
   "metadata": {},
   "outputs": [],
   "source": [
    "pokemon = pd.read_csv('datasets/pokemon.csv')"
   ]
  },
  {
   "cell_type": "markdown",
   "id": "fcc41ed1",
   "metadata": {},
   "source": [
    "# Day 1 / 100"
   ]
  },
  {
   "cell_type": "code",
   "execution_count": 4,
   "id": "5df45747",
   "metadata": {},
   "outputs": [],
   "source": [
    "fuel = fuel_econ['fuelType']"
   ]
  },
  {
   "cell_type": "code",
   "execution_count": 5,
   "id": "95d14d2b",
   "metadata": {},
   "outputs": [
    {
     "data": {
      "text/plain": [
       "0       Premium Gasoline\n",
       "1       Premium Gasoline\n",
       "2       Premium Gasoline\n",
       "3       Premium Gasoline\n",
       "4       Regular Gasoline\n",
       "              ...       \n",
       "3924    Regular Gasoline\n",
       "3925    Regular Gasoline\n",
       "3926    Regular Gasoline\n",
       "3927    Premium Gasoline\n",
       "3928    Premium Gasoline\n",
       "Name: fuelType, Length: 3929, dtype: object"
      ]
     },
     "execution_count": 5,
     "metadata": {},
     "output_type": "execute_result"
    }
   ],
   "source": [
    "fuel"
   ]
  },
  {
   "cell_type": "code",
   "execution_count": 6,
   "id": "afb9eac8",
   "metadata": {
    "scrolled": true
   },
   "outputs": [
    {
     "data": {
      "text/plain": [
       "(3929,)"
      ]
     },
     "execution_count": 6,
     "metadata": {},
     "output_type": "execute_result"
    }
   ],
   "source": [
    "fuel.shape"
   ]
  },
  {
   "cell_type": "markdown",
   "id": "ab2f6418",
   "metadata": {},
   "source": [
    "##### Frequency"
   ]
  },
  {
   "cell_type": "code",
   "execution_count": 7,
   "id": "78216573",
   "metadata": {},
   "outputs": [
    {
     "data": {
      "text/plain": [
       "Premium Gasoline     2302\n",
       "Regular Gasoline     1521\n",
       "Diesel                 80\n",
       "Midgrade Gasoline      23\n",
       "Natural Gas             3\n",
       "Name: fuelType, dtype: int64"
      ]
     },
     "execution_count": 7,
     "metadata": {},
     "output_type": "execute_result"
    }
   ],
   "source": [
    "fuel.value_counts()"
   ]
  },
  {
   "cell_type": "markdown",
   "id": "d92fa3b0",
   "metadata": {},
   "source": [
    "##### relative frequency"
   ]
  },
  {
   "cell_type": "code",
   "execution_count": 8,
   "id": "6893be7d",
   "metadata": {},
   "outputs": [
    {
     "data": {
      "text/plain": [
       "Premium Gasoline     0.585900\n",
       "Regular Gasoline     0.387121\n",
       "Diesel               0.020361\n",
       "Midgrade Gasoline    0.005854\n",
       "Natural Gas          0.000764\n",
       "Name: fuelType, dtype: float64"
      ]
     },
     "execution_count": 8,
     "metadata": {},
     "output_type": "execute_result"
    }
   ],
   "source": [
    "fuel.value_counts(normalize=True)"
   ]
  },
  {
   "cell_type": "code",
   "execution_count": 9,
   "id": "fa3273b6",
   "metadata": {},
   "outputs": [
    {
     "data": {
      "text/plain": [
       "Premium Gasoline     0.585900\n",
       "Regular Gasoline     0.387121\n",
       "Diesel               0.020361\n",
       "Midgrade Gasoline    0.005854\n",
       "Natural Gas          0.000764\n",
       "Name: fuelType, dtype: float64"
      ]
     },
     "execution_count": 9,
     "metadata": {},
     "output_type": "execute_result"
    }
   ],
   "source": [
    "fuel.value_counts() / fuel.shape[0]"
   ]
  },
  {
   "cell_type": "markdown",
   "id": "1e7d1c7b",
   "metadata": {},
   "source": [
    "# Day 2/100"
   ]
  },
  {
   "cell_type": "code",
   "execution_count": 10,
   "id": "6b6ee241",
   "metadata": {},
   "outputs": [],
   "source": [
    "type_2 = pokemon['type_2']"
   ]
  },
  {
   "cell_type": "markdown",
   "id": "51187164",
   "metadata": {},
   "source": [
    "##### The total number of values (including null values) in the Series"
   ]
  },
  {
   "cell_type": "code",
   "execution_count": 11,
   "id": "784ebf61",
   "metadata": {},
   "outputs": [
    {
     "data": {
      "text/plain": [
       "(807,)"
      ]
     },
     "execution_count": 11,
     "metadata": {},
     "output_type": "execute_result"
    }
   ],
   "source": [
    "type_2.shape"
   ]
  },
  {
   "cell_type": "markdown",
   "id": "144c2d64",
   "metadata": {},
   "source": [
    "##### Checking for null values using `hasnans`"
   ]
  },
  {
   "cell_type": "code",
   "execution_count": 12,
   "id": "17de017a",
   "metadata": {},
   "outputs": [
    {
     "data": {
      "text/plain": [
       "True"
      ]
     },
     "execution_count": 12,
     "metadata": {},
     "output_type": "execute_result"
    }
   ],
   "source": [
    "type_2.hasnans"
   ]
  },
  {
   "cell_type": "markdown",
   "id": "16e96069",
   "metadata": {},
   "source": [
    "##### Compute the number of null values"
   ]
  },
  {
   "cell_type": "code",
   "execution_count": 13,
   "id": "35a27dfc",
   "metadata": {},
   "outputs": [
    {
     "data": {
      "text/plain": [
       "402"
      ]
     },
     "execution_count": 13,
     "metadata": {},
     "output_type": "execute_result"
    }
   ],
   "source": [
    "(type_2\n",
    "    .isna()\n",
    "    .sum())"
   ]
  },
  {
   "cell_type": "markdown",
   "id": "3ae96f74",
   "metadata": {},
   "source": [
    "##### Compute the percentage of null values"
   ]
  },
  {
   "cell_type": "code",
   "execution_count": 14,
   "id": "81274adf",
   "metadata": {},
   "outputs": [
    {
     "data": {
      "text/plain": [
       "0.49814126394052044"
      ]
     },
     "execution_count": 14,
     "metadata": {},
     "output_type": "execute_result"
    }
   ],
   "source": [
    "(type_2\n",
    "    .isna()\n",
    "    .mean())"
   ]
  },
  {
   "cell_type": "markdown",
   "id": "a2af9192",
   "metadata": {},
   "source": [
    "##### `count` method, `size` property, `len` function"
   ]
  },
  {
   "cell_type": "code",
   "execution_count": 15,
   "id": "60c9ac00",
   "metadata": {},
   "outputs": [
    {
     "data": {
      "text/plain": [
       "(807,)"
      ]
     },
     "execution_count": 15,
     "metadata": {},
     "output_type": "execute_result"
    }
   ],
   "source": [
    "type_2.shape"
   ]
  },
  {
   "cell_type": "code",
   "execution_count": 16,
   "id": "d943fbb1",
   "metadata": {},
   "outputs": [
    {
     "data": {
      "text/plain": [
       "405"
      ]
     },
     "execution_count": 16,
     "metadata": {},
     "output_type": "execute_result"
    }
   ],
   "source": [
    "type_2.count()"
   ]
  },
  {
   "cell_type": "code",
   "execution_count": 17,
   "id": "6c9268b4",
   "metadata": {},
   "outputs": [
    {
     "data": {
      "text/plain": [
       "807"
      ]
     },
     "execution_count": 17,
     "metadata": {},
     "output_type": "execute_result"
    }
   ],
   "source": [
    "type_2.size"
   ]
  },
  {
   "cell_type": "code",
   "execution_count": 18,
   "id": "268cc1a2",
   "metadata": {},
   "outputs": [
    {
     "data": {
      "text/plain": [
       "807"
      ]
     },
     "execution_count": 18,
     "metadata": {},
     "output_type": "execute_result"
    }
   ],
   "source": [
    "len(type_2)"
   ]
  },
  {
   "cell_type": "markdown",
   "id": "f0985c1f",
   "metadata": {},
   "source": [
    "# Day 3/100"
   ]
  },
  {
   "cell_type": "code",
   "execution_count": 19,
   "id": "142a4b4c",
   "metadata": {},
   "outputs": [
    {
     "name": "stdout",
     "output_type": "stream",
     "text": [
      "<class 'pandas.core.frame.DataFrame'>\n",
      "RangeIndex: 3929 entries, 0 to 3928\n",
      "Data columns (total 20 columns):\n",
      " #   Column     Non-Null Count  Dtype  \n",
      "---  ------     --------------  -----  \n",
      " 0   id         3929 non-null   int64  \n",
      " 1   make       3929 non-null   object \n",
      " 2   model      3929 non-null   object \n",
      " 3   year       3929 non-null   int64  \n",
      " 4   VClass     3929 non-null   object \n",
      " 5   drive      3929 non-null   object \n",
      " 6   trans      3929 non-null   object \n",
      " 7   fuelType   3929 non-null   object \n",
      " 8   cylinders  3929 non-null   int64  \n",
      " 9   displ      3929 non-null   float64\n",
      " 10  pv2        3929 non-null   int64  \n",
      " 11  pv4        3929 non-null   int64  \n",
      " 12  city       3929 non-null   float64\n",
      " 13  UCity      3929 non-null   float64\n",
      " 14  highway    3929 non-null   float64\n",
      " 15  UHighway   3929 non-null   float64\n",
      " 16  comb       3929 non-null   float64\n",
      " 17  co2        3929 non-null   int64  \n",
      " 18  feScore    3929 non-null   int64  \n",
      " 19  ghgScore   3929 non-null   int64  \n",
      "dtypes: float64(6), int64(8), object(6)\n",
      "memory usage: 614.0+ KB\n"
     ]
    }
   ],
   "source": [
    "fuel_econ.info()"
   ]
  },
  {
   "cell_type": "code",
   "execution_count": 20,
   "id": "ce337884",
   "metadata": {},
   "outputs": [
    {
     "data": {
      "text/html": [
       "<div>\n",
       "<style scoped>\n",
       "    .dataframe tbody tr th:only-of-type {\n",
       "        vertical-align: middle;\n",
       "    }\n",
       "\n",
       "    .dataframe tbody tr th {\n",
       "        vertical-align: top;\n",
       "    }\n",
       "\n",
       "    .dataframe thead th {\n",
       "        text-align: right;\n",
       "    }\n",
       "</style>\n",
       "<table border=\"1\" class=\"dataframe\">\n",
       "  <thead>\n",
       "    <tr style=\"text-align: right;\">\n",
       "      <th></th>\n",
       "      <th>make</th>\n",
       "      <th>model</th>\n",
       "      <th>VClass</th>\n",
       "      <th>drive</th>\n",
       "      <th>trans</th>\n",
       "      <th>fuelType</th>\n",
       "    </tr>\n",
       "  </thead>\n",
       "  <tbody>\n",
       "    <tr>\n",
       "      <th>0</th>\n",
       "      <td>Nissan</td>\n",
       "      <td>GT-R</td>\n",
       "      <td>Subcompact Cars</td>\n",
       "      <td>All-Wheel Drive</td>\n",
       "      <td>Automatic (AM6)</td>\n",
       "      <td>Premium Gasoline</td>\n",
       "    </tr>\n",
       "    <tr>\n",
       "      <th>1</th>\n",
       "      <td>Volkswagen</td>\n",
       "      <td>CC</td>\n",
       "      <td>Compact Cars</td>\n",
       "      <td>Front-Wheel Drive</td>\n",
       "      <td>Automatic (AM-S6)</td>\n",
       "      <td>Premium Gasoline</td>\n",
       "    </tr>\n",
       "    <tr>\n",
       "      <th>2</th>\n",
       "      <td>Volkswagen</td>\n",
       "      <td>CC</td>\n",
       "      <td>Compact Cars</td>\n",
       "      <td>Front-Wheel Drive</td>\n",
       "      <td>Automatic (S6)</td>\n",
       "      <td>Premium Gasoline</td>\n",
       "    </tr>\n",
       "  </tbody>\n",
       "</table>\n",
       "</div>"
      ],
      "text/plain": [
       "         make model           VClass              drive              trans  \\\n",
       "0      Nissan  GT-R  Subcompact Cars    All-Wheel Drive    Automatic (AM6)   \n",
       "1  Volkswagen    CC     Compact Cars  Front-Wheel Drive  Automatic (AM-S6)   \n",
       "2  Volkswagen    CC     Compact Cars  Front-Wheel Drive     Automatic (S6)   \n",
       "\n",
       "           fuelType  \n",
       "0  Premium Gasoline  \n",
       "1  Premium Gasoline  \n",
       "2  Premium Gasoline  "
      ]
     },
     "execution_count": 20,
     "metadata": {},
     "output_type": "execute_result"
    }
   ],
   "source": [
    "fuel_econ.select_dtypes(include=['object']).head(3)"
   ]
  },
  {
   "cell_type": "code",
   "execution_count": 21,
   "id": "9c781b13",
   "metadata": {},
   "outputs": [
    {
     "data": {
      "text/html": [
       "<div>\n",
       "<style scoped>\n",
       "    .dataframe tbody tr th:only-of-type {\n",
       "        vertical-align: middle;\n",
       "    }\n",
       "\n",
       "    .dataframe tbody tr th {\n",
       "        vertical-align: top;\n",
       "    }\n",
       "\n",
       "    .dataframe thead th {\n",
       "        text-align: right;\n",
       "    }\n",
       "</style>\n",
       "<table border=\"1\" class=\"dataframe\">\n",
       "  <thead>\n",
       "    <tr style=\"text-align: right;\">\n",
       "      <th></th>\n",
       "      <th>displ</th>\n",
       "      <th>city</th>\n",
       "      <th>UCity</th>\n",
       "      <th>highway</th>\n",
       "      <th>UHighway</th>\n",
       "      <th>comb</th>\n",
       "    </tr>\n",
       "  </thead>\n",
       "  <tbody>\n",
       "    <tr>\n",
       "      <th>0</th>\n",
       "      <td>3.8</td>\n",
       "      <td>16.4596</td>\n",
       "      <td>20.2988</td>\n",
       "      <td>22.5568</td>\n",
       "      <td>30.1798</td>\n",
       "      <td>18.7389</td>\n",
       "    </tr>\n",
       "    <tr>\n",
       "      <th>1</th>\n",
       "      <td>2.0</td>\n",
       "      <td>21.8706</td>\n",
       "      <td>26.9770</td>\n",
       "      <td>31.0367</td>\n",
       "      <td>42.4936</td>\n",
       "      <td>25.2227</td>\n",
       "    </tr>\n",
       "    <tr>\n",
       "      <th>2</th>\n",
       "      <td>3.6</td>\n",
       "      <td>17.4935</td>\n",
       "      <td>21.2000</td>\n",
       "      <td>26.5716</td>\n",
       "      <td>35.1000</td>\n",
       "      <td>20.6716</td>\n",
       "    </tr>\n",
       "  </tbody>\n",
       "</table>\n",
       "</div>"
      ],
      "text/plain": [
       "   displ     city    UCity  highway  UHighway     comb\n",
       "0    3.8  16.4596  20.2988  22.5568   30.1798  18.7389\n",
       "1    2.0  21.8706  26.9770  31.0367   42.4936  25.2227\n",
       "2    3.6  17.4935  21.2000  26.5716   35.1000  20.6716"
      ]
     },
     "execution_count": 21,
     "metadata": {},
     "output_type": "execute_result"
    }
   ],
   "source": [
    "fuel_econ.select_dtypes(exclude=['object', 'int64']).head(3)"
   ]
  },
  {
   "cell_type": "code",
   "execution_count": null,
   "id": "0a69ae86",
   "metadata": {},
   "outputs": [],
   "source": []
  }
 ],
 "metadata": {
  "kernelspec": {
   "display_name": "Python 3 (ipykernel)",
   "language": "python",
   "name": "python3"
  },
  "language_info": {
   "codemirror_mode": {
    "name": "ipython",
    "version": 3
   },
   "file_extension": ".py",
   "mimetype": "text/x-python",
   "name": "python",
   "nbconvert_exporter": "python",
   "pygments_lexer": "ipython3",
   "version": "3.8.10"
  }
 },
 "nbformat": 4,
 "nbformat_minor": 5
}
