{
 "cells": [
  {
   "cell_type": "code",
   "execution_count": 1,
   "id": "ac5850ff",
   "metadata": {},
   "outputs": [],
   "source": [
    "import pandas as pd"
   ]
  },
  {
   "cell_type": "markdown",
   "id": "5a947449",
   "metadata": {},
   "source": [
    "### Loading Data"
   ]
  },
  {
   "cell_type": "code",
   "execution_count": 2,
   "id": "c9e86940",
   "metadata": {},
   "outputs": [],
   "source": [
    "fuel_econ = pd.read_csv('datasets/fuel_econ.csv')"
   ]
  },
  {
   "cell_type": "code",
   "execution_count": 3,
   "id": "d8589000",
   "metadata": {},
   "outputs": [],
   "source": [
    "pokemon = pd.read_csv('datasets/pokemon.csv')"
   ]
  },
  {
   "cell_type": "markdown",
   "id": "fcc41ed1",
   "metadata": {},
   "source": [
    "# Day 1 / 100"
   ]
  },
  {
   "cell_type": "code",
   "execution_count": 4,
   "id": "5df45747",
   "metadata": {},
   "outputs": [],
   "source": [
    "fuel = fuel_econ['fuelType']"
   ]
  },
  {
   "cell_type": "code",
   "execution_count": 5,
   "id": "95d14d2b",
   "metadata": {},
   "outputs": [
    {
     "data": {
      "text/plain": [
       "0       Premium Gasoline\n",
       "1       Premium Gasoline\n",
       "2       Premium Gasoline\n",
       "3       Premium Gasoline\n",
       "4       Regular Gasoline\n",
       "              ...       \n",
       "3924    Regular Gasoline\n",
       "3925    Regular Gasoline\n",
       "3926    Regular Gasoline\n",
       "3927    Premium Gasoline\n",
       "3928    Premium Gasoline\n",
       "Name: fuelType, Length: 3929, dtype: object"
      ]
     },
     "execution_count": 5,
     "metadata": {},
     "output_type": "execute_result"
    }
   ],
   "source": [
    "fuel"
   ]
  },
  {
   "cell_type": "code",
   "execution_count": 6,
   "id": "afb9eac8",
   "metadata": {
    "scrolled": true
   },
   "outputs": [
    {
     "data": {
      "text/plain": [
       "(3929,)"
      ]
     },
     "execution_count": 6,
     "metadata": {},
     "output_type": "execute_result"
    }
   ],
   "source": [
    "fuel.shape"
   ]
  },
  {
   "cell_type": "markdown",
   "id": "ab2f6418",
   "metadata": {},
   "source": [
    "##### Frequency"
   ]
  },
  {
   "cell_type": "code",
   "execution_count": 7,
   "id": "78216573",
   "metadata": {},
   "outputs": [
    {
     "data": {
      "text/plain": [
       "Premium Gasoline     2302\n",
       "Regular Gasoline     1521\n",
       "Diesel                 80\n",
       "Midgrade Gasoline      23\n",
       "Natural Gas             3\n",
       "Name: fuelType, dtype: int64"
      ]
     },
     "execution_count": 7,
     "metadata": {},
     "output_type": "execute_result"
    }
   ],
   "source": [
    "fuel.value_counts()"
   ]
  },
  {
   "cell_type": "markdown",
   "id": "d92fa3b0",
   "metadata": {},
   "source": [
    "##### relative frequency"
   ]
  },
  {
   "cell_type": "code",
   "execution_count": 8,
   "id": "6893be7d",
   "metadata": {},
   "outputs": [
    {
     "data": {
      "text/plain": [
       "Premium Gasoline     0.585900\n",
       "Regular Gasoline     0.387121\n",
       "Diesel               0.020361\n",
       "Midgrade Gasoline    0.005854\n",
       "Natural Gas          0.000764\n",
       "Name: fuelType, dtype: float64"
      ]
     },
     "execution_count": 8,
     "metadata": {},
     "output_type": "execute_result"
    }
   ],
   "source": [
    "fuel.value_counts(normalize=True)"
   ]
  },
  {
   "cell_type": "code",
   "execution_count": 9,
   "id": "fa3273b6",
   "metadata": {},
   "outputs": [
    {
     "data": {
      "text/plain": [
       "Premium Gasoline     0.585900\n",
       "Regular Gasoline     0.387121\n",
       "Diesel               0.020361\n",
       "Midgrade Gasoline    0.005854\n",
       "Natural Gas          0.000764\n",
       "Name: fuelType, dtype: float64"
      ]
     },
     "execution_count": 9,
     "metadata": {},
     "output_type": "execute_result"
    }
   ],
   "source": [
    "fuel.value_counts() / fuel.shape[0]"
   ]
  },
  {
   "cell_type": "markdown",
   "id": "1e7d1c7b",
   "metadata": {},
   "source": [
    "# Day 2/100"
   ]
  },
  {
   "cell_type": "code",
   "execution_count": 10,
   "id": "6b6ee241",
   "metadata": {},
   "outputs": [],
   "source": [
    "type_2 = pokemon['type_2']"
   ]
  },
  {
   "cell_type": "markdown",
   "id": "51187164",
   "metadata": {},
   "source": [
    "##### The total number of values (including null values) in the Series"
   ]
  },
  {
   "cell_type": "code",
   "execution_count": 11,
   "id": "784ebf61",
   "metadata": {},
   "outputs": [
    {
     "data": {
      "text/plain": [
       "(807,)"
      ]
     },
     "execution_count": 11,
     "metadata": {},
     "output_type": "execute_result"
    }
   ],
   "source": [
    "type_2.shape"
   ]
  },
  {
   "cell_type": "markdown",
   "id": "144c2d64",
   "metadata": {},
   "source": [
    "##### Checking for null values using `hasnans`"
   ]
  },
  {
   "cell_type": "code",
   "execution_count": 12,
   "id": "17de017a",
   "metadata": {},
   "outputs": [
    {
     "data": {
      "text/plain": [
       "True"
      ]
     },
     "execution_count": 12,
     "metadata": {},
     "output_type": "execute_result"
    }
   ],
   "source": [
    "type_2.hasnans"
   ]
  },
  {
   "cell_type": "markdown",
   "id": "16e96069",
   "metadata": {},
   "source": [
    "##### Compute the number of null values"
   ]
  },
  {
   "cell_type": "code",
   "execution_count": 13,
   "id": "35a27dfc",
   "metadata": {},
   "outputs": [
    {
     "data": {
      "text/plain": [
       "402"
      ]
     },
     "execution_count": 13,
     "metadata": {},
     "output_type": "execute_result"
    }
   ],
   "source": [
    "(type_2\n",
    "    .isna()\n",
    "    .sum())"
   ]
  },
  {
   "cell_type": "markdown",
   "id": "3ae96f74",
   "metadata": {},
   "source": [
    "##### Compute the percentage of null values"
   ]
  },
  {
   "cell_type": "code",
   "execution_count": 14,
   "id": "81274adf",
   "metadata": {},
   "outputs": [
    {
     "data": {
      "text/plain": [
       "0.49814126394052044"
      ]
     },
     "execution_count": 14,
     "metadata": {},
     "output_type": "execute_result"
    }
   ],
   "source": [
    "(type_2\n",
    "    .isna()\n",
    "    .mean())"
   ]
  },
  {
   "cell_type": "markdown",
   "id": "a2af9192",
   "metadata": {},
   "source": [
    "##### `count` method, `size` property, `len` function"
   ]
  },
  {
   "cell_type": "code",
   "execution_count": 15,
   "id": "60c9ac00",
   "metadata": {},
   "outputs": [
    {
     "data": {
      "text/plain": [
       "(807,)"
      ]
     },
     "execution_count": 15,
     "metadata": {},
     "output_type": "execute_result"
    }
   ],
   "source": [
    "type_2.shape"
   ]
  },
  {
   "cell_type": "code",
   "execution_count": 16,
   "id": "d943fbb1",
   "metadata": {},
   "outputs": [
    {
     "data": {
      "text/plain": [
       "405"
      ]
     },
     "execution_count": 16,
     "metadata": {},
     "output_type": "execute_result"
    }
   ],
   "source": [
    "type_2.count()"
   ]
  },
  {
   "cell_type": "code",
   "execution_count": 17,
   "id": "6c9268b4",
   "metadata": {},
   "outputs": [
    {
     "data": {
      "text/plain": [
       "807"
      ]
     },
     "execution_count": 17,
     "metadata": {},
     "output_type": "execute_result"
    }
   ],
   "source": [
    "type_2.size"
   ]
  },
  {
   "cell_type": "code",
   "execution_count": 18,
   "id": "268cc1a2",
   "metadata": {},
   "outputs": [
    {
     "data": {
      "text/plain": [
       "807"
      ]
     },
     "execution_count": 18,
     "metadata": {},
     "output_type": "execute_result"
    }
   ],
   "source": [
    "len(type_2)"
   ]
  }
 ],
 "metadata": {
  "kernelspec": {
   "display_name": "Python 3 (ipykernel)",
   "language": "python",
   "name": "python3"
  },
  "language_info": {
   "codemirror_mode": {
    "name": "ipython",
    "version": 3
   },
   "file_extension": ".py",
   "mimetype": "text/x-python",
   "name": "python",
   "nbconvert_exporter": "python",
   "pygments_lexer": "ipython3",
   "version": "3.8.10"
  }
 },
 "nbformat": 4,
 "nbformat_minor": 5
}
